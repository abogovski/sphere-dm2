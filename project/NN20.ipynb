{
 "cells": [
  {
   "cell_type": "code",
   "execution_count": 128,
   "metadata": {
    "collapsed": true
   },
   "outputs": [],
   "source": [
    "import numpy as np\n",
    "import pandas as pd\n",
    "import torch\n",
    "from torch.autograd import Variable\n",
    "from torch.optim import Adam\n",
    "import torch.nn as nn\n",
    "from __future__ import division\n",
    "from sklearn.model_selection import train_test_split\n",
    "from timeit import default_timer as timer\n",
    "import sys\n",
    "import gc\n",
    "from sklearn.metrics import classification_report\n",
    "import matplotlib.pyplot as plt\n",
    "from IPython.display import clear_output"
   ]
  },
  {
   "cell_type": "code",
   "execution_count": 129,
   "metadata": {
    "collapsed": false
   },
   "outputs": [
    {
     "name": "stdout",
     "output_type": "stream",
     "text": [
      "20N_SDscore_header.tab       X_train.npy\r\n",
      "20N_pairprobL_header.tab     Y_test.npy\r\n",
      "20N_pairprobR_header.tab     Y_train.npy\r\n",
      "20N_totalfold.tab            \u001b[1m\u001b[36mexamples\u001b[m\u001b[m\r\n",
      "20N_windfold_header.tab      nar-01502-y-2016-File012.xls\r\n",
      "NN20.ipynb                   nar-01502-y-2016-File014.xls\r\n",
      "X_test.npy                   promotors.txt\r\n"
     ]
    }
   ],
   "source": [
    "!ls"
   ]
  },
  {
   "cell_type": "code",
   "execution_count": 130,
   "metadata": {
    "collapsed": false
   },
   "outputs": [
    {
     "name": "stdout",
     "output_type": "stream",
     "text": [
      "23\n"
     ]
    }
   ],
   "source": [
    "print len(\"AAAAAAAAGUGGGAACUAUCAUG\")"
   ]
  },
  {
   "cell_type": "code",
   "execution_count": 131,
   "metadata": {
    "collapsed": false
   },
   "outputs": [
    {
     "data": {
      "text/html": [
       "<div>\n",
       "<table border=\"1\" class=\"dataframe\">\n",
       "  <thead>\n",
       "    <tr style=\"text-align: right;\">\n",
       "      <th></th>\n",
       "      <th>Sequence</th>\n",
       "      <th>F1</th>\n",
       "      <th>F2</th>\n",
       "      <th>F3</th>\n",
       "      <th>F4</th>\n",
       "      <th>F5</th>\n",
       "      <th>F6</th>\n",
       "      <th>F7</th>\n",
       "      <th>F8</th>\n",
       "    </tr>\n",
       "  </thead>\n",
       "  <tbody>\n",
       "    <tr>\n",
       "      <th>0</th>\n",
       "      <td>AAAAAAAAGUGGGAACUAUCAUG</td>\n",
       "      <td>0</td>\n",
       "      <td>0</td>\n",
       "      <td>0</td>\n",
       "      <td>0</td>\n",
       "      <td>21</td>\n",
       "      <td>0</td>\n",
       "      <td>0</td>\n",
       "      <td>0</td>\n",
       "    </tr>\n",
       "    <tr>\n",
       "      <th>1</th>\n",
       "      <td>AAAAAAAGAAGGGAAAAAGGAUG</td>\n",
       "      <td>0</td>\n",
       "      <td>0</td>\n",
       "      <td>35</td>\n",
       "      <td>0</td>\n",
       "      <td>0</td>\n",
       "      <td>0</td>\n",
       "      <td>0</td>\n",
       "      <td>0</td>\n",
       "    </tr>\n",
       "    <tr>\n",
       "      <th>2</th>\n",
       "      <td>AAAAAAAGAGGACUAUGAAAAUG</td>\n",
       "      <td>0</td>\n",
       "      <td>0</td>\n",
       "      <td>0</td>\n",
       "      <td>0</td>\n",
       "      <td>0</td>\n",
       "      <td>0</td>\n",
       "      <td>27</td>\n",
       "      <td>0</td>\n",
       "    </tr>\n",
       "    <tr>\n",
       "      <th>3</th>\n",
       "      <td>AAAAAAAUAGCUCCAAAUGAAUG</td>\n",
       "      <td>0</td>\n",
       "      <td>18</td>\n",
       "      <td>0</td>\n",
       "      <td>0</td>\n",
       "      <td>0</td>\n",
       "      <td>0</td>\n",
       "      <td>0</td>\n",
       "      <td>0</td>\n",
       "    </tr>\n",
       "    <tr>\n",
       "      <th>4</th>\n",
       "      <td>AAAAAACGAGGAUUGAAGAAAUG</td>\n",
       "      <td>0</td>\n",
       "      <td>0</td>\n",
       "      <td>0</td>\n",
       "      <td>0</td>\n",
       "      <td>0</td>\n",
       "      <td>21</td>\n",
       "      <td>0</td>\n",
       "      <td>0</td>\n",
       "    </tr>\n",
       "    <tr>\n",
       "      <th>5</th>\n",
       "      <td>AAAAAACGGGAGGAAAGUAAAUG</td>\n",
       "      <td>0</td>\n",
       "      <td>0</td>\n",
       "      <td>0</td>\n",
       "      <td>0</td>\n",
       "      <td>0</td>\n",
       "      <td>0</td>\n",
       "      <td>0</td>\n",
       "      <td>325</td>\n",
       "    </tr>\n",
       "    <tr>\n",
       "      <th>6</th>\n",
       "      <td>AAAAAACGGUGAAAAAAAUAAUG</td>\n",
       "      <td>0</td>\n",
       "      <td>0</td>\n",
       "      <td>0</td>\n",
       "      <td>28</td>\n",
       "      <td>0</td>\n",
       "      <td>0</td>\n",
       "      <td>0</td>\n",
       "      <td>0</td>\n",
       "    </tr>\n",
       "    <tr>\n",
       "      <th>7</th>\n",
       "      <td>AAAAAACUACAUGAUCAGCAAUG</td>\n",
       "      <td>0</td>\n",
       "      <td>24</td>\n",
       "      <td>0</td>\n",
       "      <td>0</td>\n",
       "      <td>0</td>\n",
       "      <td>0</td>\n",
       "      <td>0</td>\n",
       "      <td>0</td>\n",
       "    </tr>\n",
       "    <tr>\n",
       "      <th>8</th>\n",
       "      <td>AAAAAACUGAAGAGAGUAUUAUG</td>\n",
       "      <td>0</td>\n",
       "      <td>0</td>\n",
       "      <td>0</td>\n",
       "      <td>0</td>\n",
       "      <td>29</td>\n",
       "      <td>0</td>\n",
       "      <td>0</td>\n",
       "      <td>0</td>\n",
       "    </tr>\n",
       "    <tr>\n",
       "      <th>9</th>\n",
       "      <td>AAAAAAGAGUAAAGACCAUUAUG</td>\n",
       "      <td>0</td>\n",
       "      <td>0</td>\n",
       "      <td>0</td>\n",
       "      <td>13</td>\n",
       "      <td>0</td>\n",
       "      <td>0</td>\n",
       "      <td>0</td>\n",
       "      <td>0</td>\n",
       "    </tr>\n",
       "    <tr>\n",
       "      <th>10</th>\n",
       "      <td>AAAAAAGGAUGGUGUAAGAAAUG</td>\n",
       "      <td>0</td>\n",
       "      <td>0</td>\n",
       "      <td>0</td>\n",
       "      <td>20</td>\n",
       "      <td>0</td>\n",
       "      <td>0</td>\n",
       "      <td>0</td>\n",
       "      <td>0</td>\n",
       "    </tr>\n",
       "    <tr>\n",
       "      <th>11</th>\n",
       "      <td>AAAAACAUGAAGACUUCAACAUG</td>\n",
       "      <td>0</td>\n",
       "      <td>0</td>\n",
       "      <td>0</td>\n",
       "      <td>0</td>\n",
       "      <td>11</td>\n",
       "      <td>0</td>\n",
       "      <td>0</td>\n",
       "      <td>0</td>\n",
       "    </tr>\n",
       "    <tr>\n",
       "      <th>12</th>\n",
       "      <td>AAAAACAUGGUCCGAAGACGAUG</td>\n",
       "      <td>23</td>\n",
       "      <td>0</td>\n",
       "      <td>0</td>\n",
       "      <td>0</td>\n",
       "      <td>0</td>\n",
       "      <td>0</td>\n",
       "      <td>0</td>\n",
       "      <td>0</td>\n",
       "    </tr>\n",
       "    <tr>\n",
       "      <th>13</th>\n",
       "      <td>AAAAACCUCGAGAAAACAUGAUG</td>\n",
       "      <td>0</td>\n",
       "      <td>0</td>\n",
       "      <td>0</td>\n",
       "      <td>31</td>\n",
       "      <td>0</td>\n",
       "      <td>0</td>\n",
       "      <td>0</td>\n",
       "      <td>0</td>\n",
       "    </tr>\n",
       "    <tr>\n",
       "      <th>14</th>\n",
       "      <td>AAAAACGUAGGAUAAUUGGAAUG</td>\n",
       "      <td>0</td>\n",
       "      <td>0</td>\n",
       "      <td>0</td>\n",
       "      <td>0</td>\n",
       "      <td>19</td>\n",
       "      <td>0</td>\n",
       "      <td>0</td>\n",
       "      <td>0</td>\n",
       "    </tr>\n",
       "    <tr>\n",
       "      <th>15</th>\n",
       "      <td>AAAAACUAUCACCCUAAGUCAUG</td>\n",
       "      <td>0</td>\n",
       "      <td>24</td>\n",
       "      <td>0</td>\n",
       "      <td>0</td>\n",
       "      <td>0</td>\n",
       "      <td>0</td>\n",
       "      <td>0</td>\n",
       "      <td>0</td>\n",
       "    </tr>\n",
       "    <tr>\n",
       "      <th>16</th>\n",
       "      <td>AAAAAGAAAUCUUAAAUCGCAUG</td>\n",
       "      <td>0</td>\n",
       "      <td>39</td>\n",
       "      <td>0</td>\n",
       "      <td>0</td>\n",
       "      <td>0</td>\n",
       "      <td>0</td>\n",
       "      <td>0</td>\n",
       "      <td>0</td>\n",
       "    </tr>\n",
       "    <tr>\n",
       "      <th>17</th>\n",
       "      <td>AAAAAGAGAGUAGAGAAUGCAUG</td>\n",
       "      <td>0</td>\n",
       "      <td>0</td>\n",
       "      <td>0</td>\n",
       "      <td>0</td>\n",
       "      <td>13</td>\n",
       "      <td>0</td>\n",
       "      <td>0</td>\n",
       "      <td>0</td>\n",
       "    </tr>\n",
       "    <tr>\n",
       "      <th>18</th>\n",
       "      <td>AAAAAGAGGAACGGAAAGAGAUG</td>\n",
       "      <td>0</td>\n",
       "      <td>0</td>\n",
       "      <td>0</td>\n",
       "      <td>0</td>\n",
       "      <td>22</td>\n",
       "      <td>0</td>\n",
       "      <td>0</td>\n",
       "      <td>0</td>\n",
       "    </tr>\n",
       "    <tr>\n",
       "      <th>19</th>\n",
       "      <td>AAAAAGAGGUAAGAAUGAAGAUG</td>\n",
       "      <td>0</td>\n",
       "      <td>0</td>\n",
       "      <td>0</td>\n",
       "      <td>7</td>\n",
       "      <td>0</td>\n",
       "      <td>27</td>\n",
       "      <td>0</td>\n",
       "      <td>0</td>\n",
       "    </tr>\n",
       "    <tr>\n",
       "      <th>20</th>\n",
       "      <td>AAAAAGAGUCGAGAGGAAACAUG</td>\n",
       "      <td>0</td>\n",
       "      <td>0</td>\n",
       "      <td>0</td>\n",
       "      <td>0</td>\n",
       "      <td>47</td>\n",
       "      <td>0</td>\n",
       "      <td>0</td>\n",
       "      <td>0</td>\n",
       "    </tr>\n",
       "    <tr>\n",
       "      <th>21</th>\n",
       "      <td>AAAAAGCAUAAAGAUAAAUCAUG</td>\n",
       "      <td>0</td>\n",
       "      <td>0</td>\n",
       "      <td>22</td>\n",
       "      <td>0</td>\n",
       "      <td>0</td>\n",
       "      <td>0</td>\n",
       "      <td>0</td>\n",
       "      <td>0</td>\n",
       "    </tr>\n",
       "    <tr>\n",
       "      <th>22</th>\n",
       "      <td>AAAAAGCGCUUAGCAGUUCUAUG</td>\n",
       "      <td>74</td>\n",
       "      <td>0</td>\n",
       "      <td>0</td>\n",
       "      <td>0</td>\n",
       "      <td>0</td>\n",
       "      <td>0</td>\n",
       "      <td>0</td>\n",
       "      <td>0</td>\n",
       "    </tr>\n",
       "    <tr>\n",
       "      <th>23</th>\n",
       "      <td>AAAAAGCGUGGGAAAAUAGUAUG</td>\n",
       "      <td>0</td>\n",
       "      <td>0</td>\n",
       "      <td>0</td>\n",
       "      <td>0</td>\n",
       "      <td>40</td>\n",
       "      <td>0</td>\n",
       "      <td>0</td>\n",
       "      <td>0</td>\n",
       "    </tr>\n",
       "    <tr>\n",
       "      <th>24</th>\n",
       "      <td>AAAAAGGAAGGACAAUGAAUAUG</td>\n",
       "      <td>0</td>\n",
       "      <td>0</td>\n",
       "      <td>0</td>\n",
       "      <td>0</td>\n",
       "      <td>41</td>\n",
       "      <td>0</td>\n",
       "      <td>0</td>\n",
       "      <td>0</td>\n",
       "    </tr>\n",
       "    <tr>\n",
       "      <th>25</th>\n",
       "      <td>AAAAAGGAUGAAUUAAACGAAUG</td>\n",
       "      <td>0</td>\n",
       "      <td>0</td>\n",
       "      <td>29</td>\n",
       "      <td>0</td>\n",
       "      <td>0</td>\n",
       "      <td>0</td>\n",
       "      <td>0</td>\n",
       "      <td>0</td>\n",
       "    </tr>\n",
       "    <tr>\n",
       "      <th>26</th>\n",
       "      <td>AAAAAGGUGAAAGGAAAAAAAUG</td>\n",
       "      <td>0</td>\n",
       "      <td>0</td>\n",
       "      <td>0</td>\n",
       "      <td>19</td>\n",
       "      <td>0</td>\n",
       "      <td>0</td>\n",
       "      <td>0</td>\n",
       "      <td>0</td>\n",
       "    </tr>\n",
       "    <tr>\n",
       "      <th>27</th>\n",
       "      <td>AAAAAGUAACGAGGAGAGUUAUG</td>\n",
       "      <td>0</td>\n",
       "      <td>0</td>\n",
       "      <td>0</td>\n",
       "      <td>0</td>\n",
       "      <td>36</td>\n",
       "      <td>0</td>\n",
       "      <td>0</td>\n",
       "      <td>0</td>\n",
       "    </tr>\n",
       "    <tr>\n",
       "      <th>28</th>\n",
       "      <td>AAAAAGUGUUAACCCUAUGCAUG</td>\n",
       "      <td>14</td>\n",
       "      <td>0</td>\n",
       "      <td>0</td>\n",
       "      <td>0</td>\n",
       "      <td>0</td>\n",
       "      <td>0</td>\n",
       "      <td>0</td>\n",
       "      <td>0</td>\n",
       "    </tr>\n",
       "    <tr>\n",
       "      <th>29</th>\n",
       "      <td>AAAAAGUUAGGACGAAUAGAAUG</td>\n",
       "      <td>0</td>\n",
       "      <td>0</td>\n",
       "      <td>0</td>\n",
       "      <td>24</td>\n",
       "      <td>0</td>\n",
       "      <td>0</td>\n",
       "      <td>0</td>\n",
       "      <td>0</td>\n",
       "    </tr>\n",
       "    <tr>\n",
       "      <th>...</th>\n",
       "      <td>...</td>\n",
       "      <td>...</td>\n",
       "      <td>...</td>\n",
       "      <td>...</td>\n",
       "      <td>...</td>\n",
       "      <td>...</td>\n",
       "      <td>...</td>\n",
       "      <td>...</td>\n",
       "      <td>...</td>\n",
       "    </tr>\n",
       "    <tr>\n",
       "      <th>11662</th>\n",
       "      <td>UUUUAAGGGAUUAAUAGUUAAUG</td>\n",
       "      <td>14</td>\n",
       "      <td>0</td>\n",
       "      <td>0</td>\n",
       "      <td>0</td>\n",
       "      <td>0</td>\n",
       "      <td>0</td>\n",
       "      <td>0</td>\n",
       "      <td>0</td>\n",
       "    </tr>\n",
       "    <tr>\n",
       "      <th>11663</th>\n",
       "      <td>UUUUAAUCCGGAGAUGACUUAUG</td>\n",
       "      <td>0</td>\n",
       "      <td>0</td>\n",
       "      <td>0</td>\n",
       "      <td>0</td>\n",
       "      <td>0</td>\n",
       "      <td>0</td>\n",
       "      <td>18</td>\n",
       "      <td>0</td>\n",
       "    </tr>\n",
       "    <tr>\n",
       "      <th>11664</th>\n",
       "      <td>UUUUAAUGUGAUAGGUGAUAAUG</td>\n",
       "      <td>0</td>\n",
       "      <td>0</td>\n",
       "      <td>13</td>\n",
       "      <td>0</td>\n",
       "      <td>0</td>\n",
       "      <td>0</td>\n",
       "      <td>0</td>\n",
       "      <td>0</td>\n",
       "    </tr>\n",
       "    <tr>\n",
       "      <th>11665</th>\n",
       "      <td>UUUUACAAAUGCUUACACGCAUG</td>\n",
       "      <td>18</td>\n",
       "      <td>0</td>\n",
       "      <td>0</td>\n",
       "      <td>0</td>\n",
       "      <td>0</td>\n",
       "      <td>0</td>\n",
       "      <td>0</td>\n",
       "      <td>0</td>\n",
       "    </tr>\n",
       "    <tr>\n",
       "      <th>11666</th>\n",
       "      <td>UUUUACUCAGAGACUUUAAGAUG</td>\n",
       "      <td>0</td>\n",
       "      <td>0</td>\n",
       "      <td>0</td>\n",
       "      <td>0</td>\n",
       "      <td>76</td>\n",
       "      <td>0</td>\n",
       "      <td>0</td>\n",
       "      <td>0</td>\n",
       "    </tr>\n",
       "    <tr>\n",
       "      <th>11667</th>\n",
       "      <td>UUUUAGGCAUAAACAGAACGAUG</td>\n",
       "      <td>0</td>\n",
       "      <td>28</td>\n",
       "      <td>0</td>\n",
       "      <td>0</td>\n",
       "      <td>0</td>\n",
       "      <td>0</td>\n",
       "      <td>0</td>\n",
       "      <td>0</td>\n",
       "    </tr>\n",
       "    <tr>\n",
       "      <th>11668</th>\n",
       "      <td>UUUUAGGUGUAUAGACAUGUAUG</td>\n",
       "      <td>0</td>\n",
       "      <td>20</td>\n",
       "      <td>0</td>\n",
       "      <td>0</td>\n",
       "      <td>0</td>\n",
       "      <td>0</td>\n",
       "      <td>0</td>\n",
       "      <td>0</td>\n",
       "    </tr>\n",
       "    <tr>\n",
       "      <th>11669</th>\n",
       "      <td>UUUUAGUACAACUAUUUAGCAUG</td>\n",
       "      <td>0</td>\n",
       "      <td>0</td>\n",
       "      <td>24</td>\n",
       "      <td>0</td>\n",
       "      <td>0</td>\n",
       "      <td>0</td>\n",
       "      <td>0</td>\n",
       "      <td>0</td>\n",
       "    </tr>\n",
       "    <tr>\n",
       "      <th>11670</th>\n",
       "      <td>UUUUAGUAGCAAUACAGAUUAUG</td>\n",
       "      <td>0</td>\n",
       "      <td>0</td>\n",
       "      <td>28</td>\n",
       "      <td>0</td>\n",
       "      <td>0</td>\n",
       "      <td>0</td>\n",
       "      <td>0</td>\n",
       "      <td>0</td>\n",
       "    </tr>\n",
       "    <tr>\n",
       "      <th>11671</th>\n",
       "      <td>UUUUAUAAGAUUAAGAAUUGAUG</td>\n",
       "      <td>0</td>\n",
       "      <td>15</td>\n",
       "      <td>0</td>\n",
       "      <td>0</td>\n",
       "      <td>0</td>\n",
       "      <td>0</td>\n",
       "      <td>0</td>\n",
       "      <td>0</td>\n",
       "    </tr>\n",
       "    <tr>\n",
       "      <th>11672</th>\n",
       "      <td>UUUUCAACGAGACGCCGCAUAUG</td>\n",
       "      <td>0</td>\n",
       "      <td>0</td>\n",
       "      <td>19</td>\n",
       "      <td>0</td>\n",
       "      <td>0</td>\n",
       "      <td>0</td>\n",
       "      <td>0</td>\n",
       "      <td>0</td>\n",
       "    </tr>\n",
       "    <tr>\n",
       "      <th>11673</th>\n",
       "      <td>UUUUCAUCGGUUGGUGCUAAAUG</td>\n",
       "      <td>0</td>\n",
       "      <td>0</td>\n",
       "      <td>34</td>\n",
       "      <td>0</td>\n",
       "      <td>0</td>\n",
       "      <td>0</td>\n",
       "      <td>0</td>\n",
       "      <td>0</td>\n",
       "    </tr>\n",
       "    <tr>\n",
       "      <th>11674</th>\n",
       "      <td>UUUUCCGCGAUCCAAUCUUUAUG</td>\n",
       "      <td>21</td>\n",
       "      <td>0</td>\n",
       "      <td>0</td>\n",
       "      <td>0</td>\n",
       "      <td>0</td>\n",
       "      <td>0</td>\n",
       "      <td>0</td>\n",
       "      <td>0</td>\n",
       "    </tr>\n",
       "    <tr>\n",
       "      <th>11675</th>\n",
       "      <td>UUUUCUACCAUUCGGACAACAUG</td>\n",
       "      <td>0</td>\n",
       "      <td>0</td>\n",
       "      <td>0</td>\n",
       "      <td>0</td>\n",
       "      <td>0</td>\n",
       "      <td>30</td>\n",
       "      <td>0</td>\n",
       "      <td>0</td>\n",
       "    </tr>\n",
       "    <tr>\n",
       "      <th>11676</th>\n",
       "      <td>UUUUCUCAUGUUAGACGUUGAUG</td>\n",
       "      <td>41</td>\n",
       "      <td>0</td>\n",
       "      <td>0</td>\n",
       "      <td>0</td>\n",
       "      <td>0</td>\n",
       "      <td>0</td>\n",
       "      <td>0</td>\n",
       "      <td>0</td>\n",
       "    </tr>\n",
       "    <tr>\n",
       "      <th>11677</th>\n",
       "      <td>UUUUGAAAGGAAGCCUAACAAUG</td>\n",
       "      <td>0</td>\n",
       "      <td>12</td>\n",
       "      <td>0</td>\n",
       "      <td>0</td>\n",
       "      <td>0</td>\n",
       "      <td>0</td>\n",
       "      <td>0</td>\n",
       "      <td>0</td>\n",
       "    </tr>\n",
       "    <tr>\n",
       "      <th>11678</th>\n",
       "      <td>UUUUGAAUGUUGGAGAACAUAUG</td>\n",
       "      <td>0</td>\n",
       "      <td>0</td>\n",
       "      <td>0</td>\n",
       "      <td>0</td>\n",
       "      <td>0</td>\n",
       "      <td>44</td>\n",
       "      <td>0</td>\n",
       "      <td>0</td>\n",
       "    </tr>\n",
       "    <tr>\n",
       "      <th>11679</th>\n",
       "      <td>UUUUGCCGUGAAAAAAGAACAUG</td>\n",
       "      <td>0</td>\n",
       "      <td>39</td>\n",
       "      <td>0</td>\n",
       "      <td>0</td>\n",
       "      <td>0</td>\n",
       "      <td>0</td>\n",
       "      <td>0</td>\n",
       "      <td>0</td>\n",
       "    </tr>\n",
       "    <tr>\n",
       "      <th>11680</th>\n",
       "      <td>UUUUGGACACGACAACUAACAUG</td>\n",
       "      <td>0</td>\n",
       "      <td>0</td>\n",
       "      <td>14</td>\n",
       "      <td>0</td>\n",
       "      <td>0</td>\n",
       "      <td>0</td>\n",
       "      <td>0</td>\n",
       "      <td>0</td>\n",
       "    </tr>\n",
       "    <tr>\n",
       "      <th>11681</th>\n",
       "      <td>UUUUGGCGUGGUAAAACAUCAUG</td>\n",
       "      <td>0</td>\n",
       "      <td>0</td>\n",
       "      <td>17</td>\n",
       "      <td>0</td>\n",
       "      <td>0</td>\n",
       "      <td>0</td>\n",
       "      <td>0</td>\n",
       "      <td>0</td>\n",
       "    </tr>\n",
       "    <tr>\n",
       "      <th>11682</th>\n",
       "      <td>UUUUGUAAGUGAGGAAGGUGAUG</td>\n",
       "      <td>0</td>\n",
       "      <td>0</td>\n",
       "      <td>0</td>\n",
       "      <td>0</td>\n",
       "      <td>15</td>\n",
       "      <td>0</td>\n",
       "      <td>0</td>\n",
       "      <td>0</td>\n",
       "    </tr>\n",
       "    <tr>\n",
       "      <th>11683</th>\n",
       "      <td>UUUUGUACCGGAGAAGAAGAAUG</td>\n",
       "      <td>0</td>\n",
       "      <td>0</td>\n",
       "      <td>0</td>\n",
       "      <td>0</td>\n",
       "      <td>0</td>\n",
       "      <td>22</td>\n",
       "      <td>0</td>\n",
       "      <td>0</td>\n",
       "    </tr>\n",
       "    <tr>\n",
       "      <th>11684</th>\n",
       "      <td>UUUUGUACUAUAGUUAUGUCAUG</td>\n",
       "      <td>0</td>\n",
       "      <td>23</td>\n",
       "      <td>0</td>\n",
       "      <td>0</td>\n",
       "      <td>0</td>\n",
       "      <td>0</td>\n",
       "      <td>0</td>\n",
       "      <td>0</td>\n",
       "    </tr>\n",
       "    <tr>\n",
       "      <th>11685</th>\n",
       "      <td>UUUUGUAGAGGUAAAAGAAUAUG</td>\n",
       "      <td>0</td>\n",
       "      <td>0</td>\n",
       "      <td>0</td>\n",
       "      <td>0</td>\n",
       "      <td>0</td>\n",
       "      <td>47</td>\n",
       "      <td>0</td>\n",
       "      <td>0</td>\n",
       "    </tr>\n",
       "    <tr>\n",
       "      <th>11686</th>\n",
       "      <td>UUUUGUAGUGUGGUGCCUCCAUG</td>\n",
       "      <td>0</td>\n",
       "      <td>33</td>\n",
       "      <td>0</td>\n",
       "      <td>0</td>\n",
       "      <td>0</td>\n",
       "      <td>0</td>\n",
       "      <td>0</td>\n",
       "      <td>0</td>\n",
       "    </tr>\n",
       "    <tr>\n",
       "      <th>11687</th>\n",
       "      <td>UUUUGUGCGCAUUUCCCUAUAUG</td>\n",
       "      <td>0</td>\n",
       "      <td>34</td>\n",
       "      <td>0</td>\n",
       "      <td>0</td>\n",
       "      <td>0</td>\n",
       "      <td>0</td>\n",
       "      <td>0</td>\n",
       "      <td>0</td>\n",
       "    </tr>\n",
       "    <tr>\n",
       "      <th>11688</th>\n",
       "      <td>UUUUUAUACAUAUUUCUCACAUG</td>\n",
       "      <td>0</td>\n",
       "      <td>21</td>\n",
       "      <td>0</td>\n",
       "      <td>0</td>\n",
       "      <td>0</td>\n",
       "      <td>0</td>\n",
       "      <td>0</td>\n",
       "      <td>0</td>\n",
       "    </tr>\n",
       "    <tr>\n",
       "      <th>11689</th>\n",
       "      <td>UUUUUCAACUCAUUUAUCCUAUG</td>\n",
       "      <td>0</td>\n",
       "      <td>21</td>\n",
       "      <td>0</td>\n",
       "      <td>0</td>\n",
       "      <td>0</td>\n",
       "      <td>0</td>\n",
       "      <td>0</td>\n",
       "      <td>0</td>\n",
       "    </tr>\n",
       "    <tr>\n",
       "      <th>11690</th>\n",
       "      <td>UUUUUCUGAUUUAACGGAAUAUG</td>\n",
       "      <td>0</td>\n",
       "      <td>13</td>\n",
       "      <td>0</td>\n",
       "      <td>0</td>\n",
       "      <td>0</td>\n",
       "      <td>0</td>\n",
       "      <td>0</td>\n",
       "      <td>0</td>\n",
       "    </tr>\n",
       "    <tr>\n",
       "      <th>11691</th>\n",
       "      <td>UUUUUGCCCCUGCCCUAAAAAUG</td>\n",
       "      <td>17</td>\n",
       "      <td>0</td>\n",
       "      <td>0</td>\n",
       "      <td>0</td>\n",
       "      <td>0</td>\n",
       "      <td>0</td>\n",
       "      <td>0</td>\n",
       "      <td>0</td>\n",
       "    </tr>\n",
       "  </tbody>\n",
       "</table>\n",
       "<p>11692 rows × 9 columns</p>\n",
       "</div>"
      ],
      "text/plain": [
       "                      Sequence  F1  F2  F3  F4  F5  F6  F7   F8\n",
       "0      AAAAAAAAGUGGGAACUAUCAUG   0   0   0   0  21   0   0    0\n",
       "1      AAAAAAAGAAGGGAAAAAGGAUG   0   0  35   0   0   0   0    0\n",
       "2      AAAAAAAGAGGACUAUGAAAAUG   0   0   0   0   0   0  27    0\n",
       "3      AAAAAAAUAGCUCCAAAUGAAUG   0  18   0   0   0   0   0    0\n",
       "4      AAAAAACGAGGAUUGAAGAAAUG   0   0   0   0   0  21   0    0\n",
       "5      AAAAAACGGGAGGAAAGUAAAUG   0   0   0   0   0   0   0  325\n",
       "6      AAAAAACGGUGAAAAAAAUAAUG   0   0   0  28   0   0   0    0\n",
       "7      AAAAAACUACAUGAUCAGCAAUG   0  24   0   0   0   0   0    0\n",
       "8      AAAAAACUGAAGAGAGUAUUAUG   0   0   0   0  29   0   0    0\n",
       "9      AAAAAAGAGUAAAGACCAUUAUG   0   0   0  13   0   0   0    0\n",
       "10     AAAAAAGGAUGGUGUAAGAAAUG   0   0   0  20   0   0   0    0\n",
       "11     AAAAACAUGAAGACUUCAACAUG   0   0   0   0  11   0   0    0\n",
       "12     AAAAACAUGGUCCGAAGACGAUG  23   0   0   0   0   0   0    0\n",
       "13     AAAAACCUCGAGAAAACAUGAUG   0   0   0  31   0   0   0    0\n",
       "14     AAAAACGUAGGAUAAUUGGAAUG   0   0   0   0  19   0   0    0\n",
       "15     AAAAACUAUCACCCUAAGUCAUG   0  24   0   0   0   0   0    0\n",
       "16     AAAAAGAAAUCUUAAAUCGCAUG   0  39   0   0   0   0   0    0\n",
       "17     AAAAAGAGAGUAGAGAAUGCAUG   0   0   0   0  13   0   0    0\n",
       "18     AAAAAGAGGAACGGAAAGAGAUG   0   0   0   0  22   0   0    0\n",
       "19     AAAAAGAGGUAAGAAUGAAGAUG   0   0   0   7   0  27   0    0\n",
       "20     AAAAAGAGUCGAGAGGAAACAUG   0   0   0   0  47   0   0    0\n",
       "21     AAAAAGCAUAAAGAUAAAUCAUG   0   0  22   0   0   0   0    0\n",
       "22     AAAAAGCGCUUAGCAGUUCUAUG  74   0   0   0   0   0   0    0\n",
       "23     AAAAAGCGUGGGAAAAUAGUAUG   0   0   0   0  40   0   0    0\n",
       "24     AAAAAGGAAGGACAAUGAAUAUG   0   0   0   0  41   0   0    0\n",
       "25     AAAAAGGAUGAAUUAAACGAAUG   0   0  29   0   0   0   0    0\n",
       "26     AAAAAGGUGAAAGGAAAAAAAUG   0   0   0  19   0   0   0    0\n",
       "27     AAAAAGUAACGAGGAGAGUUAUG   0   0   0   0  36   0   0    0\n",
       "28     AAAAAGUGUUAACCCUAUGCAUG  14   0   0   0   0   0   0    0\n",
       "29     AAAAAGUUAGGACGAAUAGAAUG   0   0   0  24   0   0   0    0\n",
       "...                        ...  ..  ..  ..  ..  ..  ..  ..  ...\n",
       "11662  UUUUAAGGGAUUAAUAGUUAAUG  14   0   0   0   0   0   0    0\n",
       "11663  UUUUAAUCCGGAGAUGACUUAUG   0   0   0   0   0   0  18    0\n",
       "11664  UUUUAAUGUGAUAGGUGAUAAUG   0   0  13   0   0   0   0    0\n",
       "11665  UUUUACAAAUGCUUACACGCAUG  18   0   0   0   0   0   0    0\n",
       "11666  UUUUACUCAGAGACUUUAAGAUG   0   0   0   0  76   0   0    0\n",
       "11667  UUUUAGGCAUAAACAGAACGAUG   0  28   0   0   0   0   0    0\n",
       "11668  UUUUAGGUGUAUAGACAUGUAUG   0  20   0   0   0   0   0    0\n",
       "11669  UUUUAGUACAACUAUUUAGCAUG   0   0  24   0   0   0   0    0\n",
       "11670  UUUUAGUAGCAAUACAGAUUAUG   0   0  28   0   0   0   0    0\n",
       "11671  UUUUAUAAGAUUAAGAAUUGAUG   0  15   0   0   0   0   0    0\n",
       "11672  UUUUCAACGAGACGCCGCAUAUG   0   0  19   0   0   0   0    0\n",
       "11673  UUUUCAUCGGUUGGUGCUAAAUG   0   0  34   0   0   0   0    0\n",
       "11674  UUUUCCGCGAUCCAAUCUUUAUG  21   0   0   0   0   0   0    0\n",
       "11675  UUUUCUACCAUUCGGACAACAUG   0   0   0   0   0  30   0    0\n",
       "11676  UUUUCUCAUGUUAGACGUUGAUG  41   0   0   0   0   0   0    0\n",
       "11677  UUUUGAAAGGAAGCCUAACAAUG   0  12   0   0   0   0   0    0\n",
       "11678  UUUUGAAUGUUGGAGAACAUAUG   0   0   0   0   0  44   0    0\n",
       "11679  UUUUGCCGUGAAAAAAGAACAUG   0  39   0   0   0   0   0    0\n",
       "11680  UUUUGGACACGACAACUAACAUG   0   0  14   0   0   0   0    0\n",
       "11681  UUUUGGCGUGGUAAAACAUCAUG   0   0  17   0   0   0   0    0\n",
       "11682  UUUUGUAAGUGAGGAAGGUGAUG   0   0   0   0  15   0   0    0\n",
       "11683  UUUUGUACCGGAGAAGAAGAAUG   0   0   0   0   0  22   0    0\n",
       "11684  UUUUGUACUAUAGUUAUGUCAUG   0  23   0   0   0   0   0    0\n",
       "11685  UUUUGUAGAGGUAAAAGAAUAUG   0   0   0   0   0  47   0    0\n",
       "11686  UUUUGUAGUGUGGUGCCUCCAUG   0  33   0   0   0   0   0    0\n",
       "11687  UUUUGUGCGCAUUUCCCUAUAUG   0  34   0   0   0   0   0    0\n",
       "11688  UUUUUAUACAUAUUUCUCACAUG   0  21   0   0   0   0   0    0\n",
       "11689  UUUUUCAACUCAUUUAUCCUAUG   0  21   0   0   0   0   0    0\n",
       "11690  UUUUUCUGAUUUAACGGAAUAUG   0  13   0   0   0   0   0    0\n",
       "11691  UUUUUGCCCCUGCCCUAAAAAUG  17   0   0   0   0   0   0    0\n",
       "\n",
       "[11692 rows x 9 columns]"
      ]
     },
     "execution_count": 131,
     "metadata": {},
     "output_type": "execute_result"
    }
   ],
   "source": [
    "pd.read_excel(\"nar-01502-y-2016-File012.xls\").sort_values(\"Sequence\")"
   ]
  },
  {
   "cell_type": "code",
   "execution_count": 132,
   "metadata": {
    "collapsed": false
   },
   "outputs": [],
   "source": [
    "\n",
    "table1 = pd.read_table(\"20N_SDscore_header.tab\")"
   ]
  },
  {
   "cell_type": "markdown",
   "metadata": {},
   "source": [
    "<h1> Prepare Y data"
   ]
  },
  {
   "cell_type": "code",
   "execution_count": 133,
   "metadata": {
    "collapsed": false
   },
   "outputs": [],
   "source": [
    "Y = pd.read_excel(\"nar-01502-y-2016-File012.xls\")"
   ]
  },
  {
   "cell_type": "code",
   "execution_count": 134,
   "metadata": {
    "collapsed": false
   },
   "outputs": [
    {
     "data": {
      "text/html": [
       "<div>\n",
       "<table border=\"1\" class=\"dataframe\">\n",
       "  <thead>\n",
       "    <tr style=\"text-align: right;\">\n",
       "      <th></th>\n",
       "      <th>Sequence</th>\n",
       "      <th>F1</th>\n",
       "      <th>F2</th>\n",
       "      <th>F3</th>\n",
       "      <th>F4</th>\n",
       "      <th>F5</th>\n",
       "      <th>F6</th>\n",
       "      <th>F7</th>\n",
       "      <th>F8</th>\n",
       "    </tr>\n",
       "  </thead>\n",
       "  <tbody>\n",
       "    <tr>\n",
       "      <th>0</th>\n",
       "      <td>AAAAAAAAGUGGGAACUAUCAUG</td>\n",
       "      <td>0</td>\n",
       "      <td>0</td>\n",
       "      <td>0</td>\n",
       "      <td>0</td>\n",
       "      <td>21</td>\n",
       "      <td>0</td>\n",
       "      <td>0</td>\n",
       "      <td>0</td>\n",
       "    </tr>\n",
       "    <tr>\n",
       "      <th>1</th>\n",
       "      <td>AAAAAAAGAAGGGAAAAAGGAUG</td>\n",
       "      <td>0</td>\n",
       "      <td>0</td>\n",
       "      <td>35</td>\n",
       "      <td>0</td>\n",
       "      <td>0</td>\n",
       "      <td>0</td>\n",
       "      <td>0</td>\n",
       "      <td>0</td>\n",
       "    </tr>\n",
       "    <tr>\n",
       "      <th>2</th>\n",
       "      <td>AAAAAAAGAGGACUAUGAAAAUG</td>\n",
       "      <td>0</td>\n",
       "      <td>0</td>\n",
       "      <td>0</td>\n",
       "      <td>0</td>\n",
       "      <td>0</td>\n",
       "      <td>0</td>\n",
       "      <td>27</td>\n",
       "      <td>0</td>\n",
       "    </tr>\n",
       "    <tr>\n",
       "      <th>3</th>\n",
       "      <td>AAAAAAAUAGCUCCAAAUGAAUG</td>\n",
       "      <td>0</td>\n",
       "      <td>18</td>\n",
       "      <td>0</td>\n",
       "      <td>0</td>\n",
       "      <td>0</td>\n",
       "      <td>0</td>\n",
       "      <td>0</td>\n",
       "      <td>0</td>\n",
       "    </tr>\n",
       "    <tr>\n",
       "      <th>4</th>\n",
       "      <td>AAAAAACGAGGAUUGAAGAAAUG</td>\n",
       "      <td>0</td>\n",
       "      <td>0</td>\n",
       "      <td>0</td>\n",
       "      <td>0</td>\n",
       "      <td>0</td>\n",
       "      <td>21</td>\n",
       "      <td>0</td>\n",
       "      <td>0</td>\n",
       "    </tr>\n",
       "  </tbody>\n",
       "</table>\n",
       "</div>"
      ],
      "text/plain": [
       "                  Sequence  F1  F2  F3  F4  F5  F6  F7  F8\n",
       "0  AAAAAAAAGUGGGAACUAUCAUG   0   0   0   0  21   0   0   0\n",
       "1  AAAAAAAGAAGGGAAAAAGGAUG   0   0  35   0   0   0   0   0\n",
       "2  AAAAAAAGAGGACUAUGAAAAUG   0   0   0   0   0   0  27   0\n",
       "3  AAAAAAAUAGCUCCAAAUGAAUG   0  18   0   0   0   0   0   0\n",
       "4  AAAAAACGAGGAUUGAAGAAAUG   0   0   0   0   0  21   0   0"
      ]
     },
     "execution_count": 134,
     "metadata": {},
     "output_type": "execute_result"
    }
   ],
   "source": [
    "Y.head()"
   ]
  },
  {
   "cell_type": "code",
   "execution_count": 135,
   "metadata": {
    "collapsed": false
   },
   "outputs": [],
   "source": [
    "Y = Y[[\"F1\", \"F2\", \"F3\", \"F4\", \"F5\", \"F6\", \"F7\", \"F8\"]].as_matrix()"
   ]
  },
  {
   "cell_type": "code",
   "execution_count": 136,
   "metadata": {
    "collapsed": true
   },
   "outputs": [],
   "source": [
    "Y_processed = np.zeros(Y.shape[0])"
   ]
  },
  {
   "cell_type": "code",
   "execution_count": 137,
   "metadata": {
    "collapsed": false
   },
   "outputs": [],
   "source": [
    "Y_norm = Y / Y.sum(axis=1, keepdims=True)"
   ]
  },
  {
   "cell_type": "code",
   "execution_count": 138,
   "metadata": {
    "collapsed": false
   },
   "outputs": [],
   "source": [
    "Y_norm[Y_norm < 0.05] = 0  # remove noise "
   ]
  },
  {
   "cell_type": "code",
   "execution_count": 139,
   "metadata": {
    "collapsed": false
   },
   "outputs": [],
   "source": [
    "Y_aim = np.zeros(Y_norm.shape[0], dtype=np.uint8)\n",
    "Y_aim[Y_norm[:,-1] != 0] = 7\n",
    "Y_aim[(Y_norm[:, -2] != 0) * (Y_aim == 0)] = 6\n",
    "Y_aim[(Y_norm[:, -3] != 0) * (Y_aim == 0)] = 5\n",
    "Y_aim[(Y_norm[:, -4] != 0) * (Y_aim == 0)] = 4\n",
    "Y_aim[(Y_norm[:, -5] != 0) * (Y_aim == 0)] = 3\n",
    "Y_aim[(Y_norm[:, -6] != 0) * (Y_aim == 0)] = 2\n",
    "Y_aim[(Y_norm[:, -7] != 0) * (Y_aim == 0)] = 1\n"
   ]
  },
  {
   "cell_type": "markdown",
   "metadata": {},
   "source": [
    "<h1> Prepare features"
   ]
  },
  {
   "cell_type": "code",
   "execution_count": 140,
   "metadata": {
    "collapsed": false
   },
   "outputs": [
    {
     "name": "stdout",
     "output_type": "stream",
     "text": [
      "20N_SDscore_header.tab       X_train.npy\r\n",
      "20N_pairprobL_header.tab     Y_test.npy\r\n",
      "20N_pairprobR_header.tab     Y_train.npy\r\n",
      "20N_totalfold.tab            \u001b[1m\u001b[36mexamples\u001b[m\u001b[m\r\n",
      "20N_windfold_header.tab      nar-01502-y-2016-File012.xls\r\n",
      "NN20.ipynb                   nar-01502-y-2016-File014.xls\r\n",
      "X_test.npy                   promotors.txt\r\n"
     ]
    }
   ],
   "source": [
    "!ls"
   ]
  },
  {
   "cell_type": "code",
   "execution_count": 141,
   "metadata": {
    "collapsed": true
   },
   "outputs": [],
   "source": [
    "data_tables = [\"20N_SDscore_header.tab\", \"20N_pairprobL_header.tab\", \"20N_pairprobR_header.tab\", \"20N_totalfold.tab\",\\\n",
    "              \"20N_windfold_header.tab\"]\n",
    "\n"
   ]
  },
  {
   "cell_type": "code",
   "execution_count": 142,
   "metadata": {
    "collapsed": false
   },
   "outputs": [],
   "source": [
    "X = np.concatenate([pd.read_table(dt, skiprows=0).iloc[:, 1:] for dt in data_tables], axis = 1 )"
   ]
  },
  {
   "cell_type": "markdown",
   "metadata": {},
   "source": [
    "<h2> Train/test split"
   ]
  },
  {
   "cell_type": "code",
   "execution_count": 143,
   "metadata": {
    "collapsed": false
   },
   "outputs": [],
   "source": [
    "X_train, X_test, Y_train, Y_test = train_test_split(X, Y_aim, test_size=0.33)"
   ]
  },
  {
   "cell_type": "code",
   "execution_count": 144,
   "metadata": {
    "collapsed": true
   },
   "outputs": [],
   "source": [
    "np.save(\"X_train.npy\", X_train)\n",
    "np.save(\"X_test.npy\", X_test)\n",
    "np.save(\"Y_train.npy\", Y_train)\n",
    "np.save(\"Y_test.npy\", Y_test)"
   ]
  },
  {
   "cell_type": "markdown",
   "metadata": {},
   "source": [
    "<h1> Help functions"
   ]
  },
  {
   "cell_type": "code",
   "execution_count": 145,
   "metadata": {
    "collapsed": false
   },
   "outputs": [],
   "source": [
    "#was copied from previous homework\n",
    "def print_work_time(func):\n",
    "    def wrapper(*args, **kwargs):\n",
    "        start = timer()\n",
    "        result = func(*args, **kwargs)\n",
    "        end = timer()\n",
    "        print(\"Execution take {}\".format(end - start))\n",
    "        return result\n",
    "    return wrapper\n",
    "\n",
    "@print_work_time\n",
    "def learn_on_model(X, Y, model, loss_fn, optimizer, X_test = None, Y_test = None, learning_rate = 1e-2, \n",
    "                   batch_size = 100, max_epoch_num = 1, min_loss = 1e-3): \n",
    "    loss = 1000\n",
    "    epoch_num = 0\n",
    "     \n",
    "    loss_arr = list()\n",
    "\n",
    "    test_loss_arr = list() if not (type(X_test) is None) else None\n",
    "    tot_err = 10**6\n",
    "    \n",
    "    while tot_err > min_loss and epoch_num < max_epoch_num:\n",
    "        tot_err = 0\n",
    "        sys.stdout.write(\"\\nEpoch {} ...\\n\".format(epoch_num + 1))\n",
    "        for bn, start in enumerate(xrange(0, X.shape[0], batch_size)):\n",
    "            optimizer.zero_grad()\n",
    "            if bn % 10 == 0:\n",
    "                sys.stdout.write(\"\\rTrain Batch {}\".format(bn))\n",
    "            X_CUR = Variable(torch.from_numpy(X[start:start + batch_size]).type(torch.FloatTensor))\n",
    "            Y_CUR = Variable(torch.from_numpy(Y[start:start + batch_size]).type(torch.LongTensor), requires_grad=False)\n",
    "            output =  model.forward(X_CUR)\n",
    "            loss = loss_fn(output, Y_CUR)\n",
    "            loss_arr.append(loss.data.tolist()[0])\n",
    "            tot_err += loss\n",
    "            loss.backward()\n",
    "            optimizer.step()\n",
    "            del loss\n",
    "            del X_CUR\n",
    "            del Y_CUR\n",
    "            del output\n",
    "\n",
    "        \n",
    "        if not (type(X_test) is None):\n",
    "            for bn, start in enumerate(xrange(0, X_test.shape[0], batch_size)):\n",
    "                if bn % 10 == 0:\n",
    "                    sys.stdout.write(\"\\rTest Batch {}\".format(bn))\n",
    "                X_CUR = Variable(torch.from_numpy(X_test[start:start + batch_size]).type(torch.FloatTensor))\n",
    "                Y_CUR = Variable(torch.from_numpy(Y_test[start:start + batch_size]).type(torch.LongTensor), requires_grad=False)\n",
    "                y_pred = model.forward(X_CUR)\n",
    "                loss = loss_fn(y_pred, Y_CUR)\n",
    "                test_loss_arr.append(loss.data.tolist()[0])\n",
    "                del X_CUR\n",
    "                del Y_CUR\n",
    "                del y_pred\n",
    "                del loss\n",
    "            \n",
    "            \n",
    "        epoch_num += 1\n",
    "        gc.collect() # only this've helped to save process from beeing kill\n",
    "        clear_output(wait=True)\n",
    "    return np.array(loss_arr), np.array(test_loss_arr)\n",
    "\n",
    "def draw_plots(model, loss_arr, layer_arr, test_loss_arr, show_weights = False):\n",
    "    x = np.arange(loss_arr.shape[0]);\n",
    "    number_of_plots = 1 + sum(len(x) for x in layer_arr)\n",
    "    gridSize = number_of_plots\n",
    "    plt.figure(figsize=(15, 6 * number_of_plots))\n",
    "    \n",
    "    plotId = 1\n",
    "    subpl = plt.subplot(gridSize, 1, plotId)\n",
    "    if not type(test_loss_arr) is None:\n",
    "        subpl.plot(x, loss_arr, x, test_loss_arr)\n",
    "        subpl.legend([\"Train\", \"Test\"])\n",
    "    else:\n",
    "        subpl.plot(x, loss_arr)\n",
    "    subpl.set_xticks(range(x.shape[0]))\n",
    "    subpl.set_title(\"Loss function\")\n",
    "    subpl.set_xlabel(\"Epoch num\")\n",
    "    subpl.set_ylabel(\"Loss func\")\n",
    "    if show_weights:\n",
    "        for ind1, child in enumerate(model.children()):\n",
    "            for ind2, key in enumerate(child.state_dict().keys()):\n",
    "                plotId += 1\n",
    "                subpl = plt.subplot(gridSize, 1, plotId)\n",
    "                y = layer_arr[ind1][ind2]\n",
    "                subpl.plot(x, y)\n",
    "\n",
    "                subpl.set_xticks(range(x.shape[0]))\n",
    "                subpl.set_title(\"Layer {} : {} gradient norm\".format(ind1 + 1, key))\n",
    "                subpl.set_xlabel(\"Epoch num\")\n",
    "                subpl.set_ylabel(key + \"_grad\")\n",
    "    \n",
    "    plt.show()\n",
    "\n",
    "from sklearn.metrics import classification_report\n",
    "\n",
    "def make_classification_report(model, X_TRAIN, Y_TRAIN, X_TEST, Y_TEST, batch_size = 100):\n",
    "    print (\"Train report\")\n",
    "    y_predicted = np.zeros(shape = (Y_TRAIN.shape[0], len(np.unique(Y_TRAIN))))\n",
    "    \n",
    "    for bn, start in enumerate(xrange(0, X_TRAIN.shape[0], batch_size)):\n",
    "        if bn % 100 == 0:\n",
    "            sys.stdout.write(\"\\rBatch {}\".format(bn))\n",
    "        X_CUR = Variable(torch.from_numpy(X_TRAIN[start:start + batch_size]).type(torch.FloatTensor))\n",
    "        y_predicted[start:start + batch_size] = np.array(model.forward(X_CUR).data.tolist())\n",
    "    indices = np.argmax(y_predicted, axis = 1)\n",
    "    print (classification_report(np.array(Y_TRAIN.tolist()), indices))\n",
    "    print (\"Accuracy\", np.mean(np.array(Y_TRAIN.tolist()) == indices))\n",
    "    \n",
    "    print (\"Test report\")\n",
    "    y_predicted = np.zeros(shape = (Y_TEST.shape[0], len(np.unique(Y_TRAIN))))\n",
    "    for bn, start in enumerate(xrange(0, X_TEST.shape[0], batch_size)):\n",
    "        if bn % 100 == 0:\n",
    "            sys.stdout.write(\"\\rBatch {}\\n\".format(bn))\n",
    "        X_CUR = Variable(torch.from_numpy(X_TEST[start:start + batch_size]).type(torch.FloatTensor))\n",
    "        y_predicted[start:start + batch_size] = np.array(model.forward(X_CUR).data.tolist())\n",
    "        del X_CUR\n",
    "        \n",
    "    \n",
    "    \n",
    "    indices = np.argmax(y_predicted, axis = 1)\n",
    "    print (classification_report(np.array(Y_TEST.tolist()), indices))\n",
    "    print (\"Accuracy\", np.mean(np.array(Y_TEST.tolist()) == indices))"
   ]
  },
  {
   "cell_type": "markdown",
   "metadata": {},
   "source": [
    "<h1> Simple regression"
   ]
  },
  {
   "cell_type": "code",
   "execution_count": 27,
   "metadata": {
    "collapsed": false
   },
   "outputs": [
    {
     "name": "stdout",
     "output_type": "stream",
     "text": [
      "(11692, 126)\n"
     ]
    }
   ],
   "source": [
    "print X.shape"
   ]
  },
  {
   "cell_type": "code",
   "execution_count": 28,
   "metadata": {
    "collapsed": false
   },
   "outputs": [
    {
     "name": "stdout",
     "output_type": "stream",
     "text": [
      "(8,)\n"
     ]
    }
   ],
   "source": [
    "print np.unique(Y_aim).shape"
   ]
  },
  {
   "cell_type": "code",
   "execution_count": 29,
   "metadata": {
    "collapsed": false
   },
   "outputs": [],
   "source": [
    "simple_model = nn.Sequential(nn.Linear(126, 8), nn.LogSoftmax())\n",
    "criterion = nn.NLLLoss()"
   ]
  },
  {
   "cell_type": "code",
   "execution_count": 30,
   "metadata": {
    "collapsed": false
   },
   "outputs": [
    {
     "name": "stdout",
     "output_type": "stream",
     "text": [
      "Execution take 80.8825089931\n"
     ]
    }
   ],
   "source": [
    "learning_rate = 1e-4\n",
    "\n",
    "optimizer = Adam(simple_model.parameters(), lr=learning_rate)\n",
    "\n",
    "\n",
    "loss_arr, test_loss_arr = learn_on_model( X_train, Y_train, simple_model, criterion, optimizer,  X_test,\\\n",
    "                                                    Y_test,\\\n",
    "                                                    learning_rate,\\\n",
    "                                                    max_epoch_num=100, batch_size =16)"
   ]
  },
  {
   "cell_type": "code",
   "execution_count": 31,
   "metadata": {
    "collapsed": false
   },
   "outputs": [
    {
     "data": {
      "image/png": "[encoded data removed]",
      "text/plain": [
       "<matplotlib.figure.Figure at 0x115c3bcd0>"
      ]
     },
     "metadata": {},
     "output_type": "display_data"
    }
   ],
   "source": [
    "plt.plot(loss_arr)\n",
    "plt.show()"
   ]
  },
  {
   "cell_type": "code",
   "execution_count": 32,
   "metadata": {
    "collapsed": false
   },
   "outputs": [
    {
     "data": {
      "image/png": "[encoded data removed]",
      "text/plain": [
       "<matplotlib.figure.Figure at 0x11a3e10d0>"
      ]
     },
     "metadata": {},
     "output_type": "display_data"
    }
   ],
   "source": [
    "plt.plot(test_loss_arr)\n",
    "plt.show()"
   ]
  },
  {
   "cell_type": "code",
   "execution_count": 33,
   "metadata": {
    "collapsed": false
   },
   "outputs": [
    {
     "name": "stdout",
     "output_type": "stream",
     "text": [
      "Train report\n",
      "Batch 0             precision    recall  f1-score   support\n",
      "\n",
      "          0       0.49      0.58      0.53      1125\n",
      "          1       0.37      0.28      0.32      1300\n",
      "          2       0.32      0.50      0.39      1428\n",
      "          3       0.31      0.26      0.28      1224\n",
      "          4       0.31      0.16      0.21       969\n",
      "          5       0.32      0.47      0.38       984\n",
      "          6       0.33      0.14      0.20       700\n",
      "          7       0.00      0.00      0.00       103\n",
      "\n",
      "avg / total       0.34      0.35      0.33      7833\n",
      "\n",
      "('Accuracy', 0.35184475935146176)\n",
      "Test report\n",
      "Batch 0\n",
      "             precision    recall  f1-score   support\n",
      "\n",
      "          0       0.44      0.54      0.48       541\n",
      "          1       0.34      0.25      0.29       633\n",
      "          2       0.30      0.45      0.36       739\n",
      "          3       0.25      0.21      0.23       594\n",
      "          4       0.25      0.15      0.18       439\n",
      "          5       0.31      0.44      0.37       508\n",
      "          6       0.30      0.14      0.19       351\n",
      "          7       0.00      0.00      0.00        54\n",
      "\n",
      "avg / total       0.31      0.32      0.31      3859\n",
      "\n",
      "('Accuracy', 0.32184503757450117)\n"
     ]
    },
    {
     "name": "stderr",
     "output_type": "stream",
     "text": [
      "/Users/penzardmitry/anaconda/lib/python2.7/site-packages/sklearn/metrics/classification.py:1109: UndefinedMetricWarning: Precision and F-score are ill-defined and being set to 0.0 in labels with no predicted samples.\n",
      "  'precision', 'predicted', average, warn_for)\n"
     ]
    }
   ],
   "source": [
    "make_classification_report(simple_model, X_train, Y_train, X_test, Y_test, batch_size=100)"
   ]
  },
  {
   "cell_type": "code",
   "execution_count": 250,
   "metadata": {
    "collapsed": false
   },
   "outputs": [
    {
     "data": {
      "text/plain": [
       "array([1684, 1952, 2178, 1827, 1411, 1528,  960,  152])"
      ]
     },
     "execution_count": 250,
     "metadata": {},
     "output_type": "execute_result"
    }
   ],
   "source": [
    "np.bincount(Y_aim_new)"
   ]
  },
  {
   "cell_type": "markdown",
   "metadata": {},
   "source": [
    "Заметим, что классы F8(6) и F7(7) представлены слабее остальных, попробуем их объединить"
   ]
  },
  {
   "cell_type": "code",
   "execution_count": 34,
   "metadata": {
    "collapsed": true
   },
   "outputs": [],
   "source": [
    "Y_aim_new = Y_aim.copy()"
   ]
  },
  {
   "cell_type": "code",
   "execution_count": 35,
   "metadata": {
    "collapsed": false
   },
   "outputs": [],
   "source": [
    "Y_aim_new[Y_aim_new==7] = 6"
   ]
  },
  {
   "cell_type": "code",
   "execution_count": 36,
   "metadata": {
    "collapsed": true
   },
   "outputs": [],
   "source": [
    "X_train, X_test, Y_train, Y_test = train_test_split(X, Y_aim_new, test_size=0.33)"
   ]
  },
  {
   "cell_type": "code",
   "execution_count": 39,
   "metadata": {
    "collapsed": false
   },
   "outputs": [
    {
     "name": "stdout",
     "output_type": "stream",
     "text": [
      "Execution take 46.2548069954\n"
     ]
    }
   ],
   "source": [
    "simple_model = nn.Sequential(nn.Linear(126, 7), nn.LogSoftmax())\n",
    "criterion = nn.NLLLoss()\n",
    "learning_rate = 1e-4\n",
    "\n",
    "optimizer = Adam(simple_model.parameters(), lr=learning_rate)\n",
    "\n",
    "\n",
    "loss_arr, test_loss_arr = learn_on_model( X_train, Y_train, simple_model, criterion, optimizer, X_test,\\\n",
    "                                                    Y_test,\\\n",
    "                                                    learning_rate,\\\n",
    "                                                    max_epoch_num=100, batch_size =16)"
   ]
  },
  {
   "cell_type": "code",
   "execution_count": 40,
   "metadata": {
    "collapsed": false
   },
   "outputs": [
    {
     "data": {
      "image/png": "[encoded data removed]",
      "text/plain": [
       "<matplotlib.figure.Figure at 0x116b301d0>"
      ]
     },
     "metadata": {},
     "output_type": "display_data"
    }
   ],
   "source": [
    "plt.plot(loss_arr)\n",
    "plt.show()"
   ]
  },
  {
   "cell_type": "code",
   "execution_count": 41,
   "metadata": {
    "collapsed": false
   },
   "outputs": [
    {
     "data": {
      "image/png": "[encoded data removed]",
      "text/plain": [
       "<matplotlib.figure.Figure at 0x115c6c290>"
      ]
     },
     "metadata": {},
     "output_type": "display_data"
    }
   ],
   "source": [
    "plt.plot(test_loss_arr)\n",
    "plt.show()"
   ]
  },
  {
   "cell_type": "code",
   "execution_count": 42,
   "metadata": {
    "collapsed": false
   },
   "outputs": [
    {
     "name": "stdout",
     "output_type": "stream",
     "text": [
      "Train report\n",
      "Batch 0             precision    recall  f1-score   support\n",
      "\n",
      "          0       0.50      0.50      0.50      1079\n",
      "          1       0.38      0.36      0.37      1291\n",
      "          2       0.31      0.53      0.39      1481\n",
      "          3       0.27      0.18      0.22      1242\n",
      "          4       0.34      0.04      0.08       919\n",
      "          5       0.33      0.39      0.36      1013\n",
      "          6       0.36      0.38      0.37       808\n",
      "\n",
      "avg / total       0.35      0.35      0.33      7833\n",
      "\n",
      "('Accuracy', 0.35210008936550491)\n",
      "Test report\n",
      "Batch 0\n",
      "             precision    recall  f1-score   support\n",
      "\n",
      "          0       0.50      0.48      0.49       587\n",
      "          1       0.31      0.28      0.30       642\n",
      "          2       0.26      0.48      0.34       686\n",
      "          3       0.22      0.16      0.19       576\n",
      "          4       0.24      0.03      0.05       489\n",
      "          5       0.31      0.37      0.33       479\n",
      "          6       0.35      0.40      0.37       400\n",
      "\n",
      "avg / total       0.31      0.32      0.30      3859\n",
      "\n",
      "('Accuracy', 0.31718061674008813)\n"
     ]
    }
   ],
   "source": [
    "make_classification_report(simple_model, X_train, Y_train, X_test, Y_test, batch_size=100)"
   ]
  },
  {
   "cell_type": "markdown",
   "metadata": {},
   "source": [
    "Не улучшило - так делать не будем"
   ]
  },
  {
   "cell_type": "code",
   "execution_count": 43,
   "metadata": {
    "collapsed": true
   },
   "outputs": [],
   "source": [
    "X_train, X_test, Y_train, Y_test = train_test_split(X, Y_aim, test_size=0.33)"
   ]
  },
  {
   "cell_type": "markdown",
   "metadata": {},
   "source": [
    "Попробуем XGBoost"
   ]
  },
  {
   "cell_type": "code",
   "execution_count": 44,
   "metadata": {
    "collapsed": true
   },
   "outputs": [],
   "source": [
    "import xgboost as xgb"
   ]
  },
  {
   "cell_type": "code",
   "execution_count": 51,
   "metadata": {
    "collapsed": true
   },
   "outputs": [],
   "source": [
    "ind_params = {'max_depth': 4, 'min_child_weight': 1,\n",
    "             'subsample': 0.8,\n",
    "             'colsample_bytree': 0.33, 'n_estimators': 100,\n",
    "             'seed':0, 'objective': 'binary:logistic', 'learning_rate': 0.1\n",
    "            }"
   ]
  },
  {
   "cell_type": "code",
   "execution_count": 52,
   "metadata": {
    "collapsed": true
   },
   "outputs": [],
   "source": [
    "classifier = xgb.XGBClassifier(**ind_params)\n"
   ]
  },
  {
   "cell_type": "code",
   "execution_count": 53,
   "metadata": {
    "collapsed": false
   },
   "outputs": [
    {
     "data": {
      "text/plain": [
       "XGBClassifier(base_score=0.5, colsample_bylevel=1, colsample_bytree=0.33,\n",
       "       gamma=0, learning_rate=0.1, max_delta_step=0, max_depth=4,\n",
       "       min_child_weight=1, missing=None, n_estimators=100, nthread=-1,\n",
       "       objective='multi:softprob', reg_alpha=0, reg_lambda=1,\n",
       "       scale_pos_weight=1, seed=0, silent=True, subsample=0.8)"
      ]
     },
     "execution_count": 53,
     "metadata": {},
     "output_type": "execute_result"
    }
   ],
   "source": [
    "classifier.fit(X_train, Y_train)\n"
   ]
  },
  {
   "cell_type": "code",
   "execution_count": 54,
   "metadata": {
    "collapsed": false
   },
   "outputs": [
    {
     "name": "stdout",
     "output_type": "stream",
     "text": [
      "Train report\n",
      "             precision    recall  f1-score   support\n",
      "\n",
      "          0       0.75      0.75      0.75      1104\n",
      "          1       0.72      0.67      0.70      1387\n",
      "          2       0.72      0.62      0.66      1679\n",
      "          3       0.64      0.62      0.63      1277\n",
      "          4       0.48      0.84      0.61       528\n",
      "          5       0.73      0.63      0.68      1161\n",
      "          6       0.69      0.76      0.73       643\n",
      "          7       0.49      1.00      0.65        54\n",
      "\n",
      "avg / total       0.69      0.68      0.68      7833\n",
      "\n",
      "Test report\n",
      "             precision    recall  f1-score   support\n",
      "\n",
      "          0       0.54      0.52      0.53       576\n",
      "          1       0.37      0.36      0.36       666\n",
      "          2       0.40      0.33      0.36       856\n",
      "          3       0.30      0.24      0.27       688\n",
      "          4       0.10      0.25      0.14       190\n",
      "          5       0.38      0.31      0.34       599\n",
      "          6       0.35      0.43      0.38       279\n",
      "          7       0.07      0.60      0.12         5\n",
      "\n",
      "avg / total       0.37      0.35      0.36      3859\n",
      "\n"
     ]
    }
   ],
   "source": [
    "print \"Train report\"\n",
    "print classification_report(classifier.predict(X_train), Y_train)\n",
    "print \"Test report\"\n",
    "print classification_report(classifier.predict(X_test), Y_test)"
   ]
  },
  {
   "cell_type": "markdown",
   "metadata": {},
   "source": [
    "Он у нас и будет baseline  в дальнейшем"
   ]
  },
  {
   "cell_type": "code",
   "execution_count": 55,
   "metadata": {
    "collapsed": true
   },
   "outputs": [],
   "source": [
    "model_3linear = nn.Sequential(nn.Linear(126, 72), nn.Tanh(), nn.Linear(72, 32), nn.Tanh(), nn.Linear(32, 8),\\\n",
    "                              nn.LogSoftmax())"
   ]
  },
  {
   "cell_type": "code",
   "execution_count": 56,
   "metadata": {
    "collapsed": false
   },
   "outputs": [
    {
     "name": "stdout",
     "output_type": "stream",
     "text": [
      "Execution take 91.0360319614\n"
     ]
    }
   ],
   "source": [
    "criterion = nn.NLLLoss()\n",
    "learning_rate = 1e-4\n",
    "\n",
    "optimizer = Adam(model_3linear.parameters(), lr=learning_rate)\n",
    "\n",
    "\n",
    "loss_arr, test_loss_arr = learn_on_model( X_train, Y_train, model_3linear, criterion, optimizer, X_test,\\\n",
    "                                                    Y_test,\\\n",
    "                                                    learning_rate,\\\n",
    "                                                    max_epoch_num=100, batch_size =16)"
   ]
  },
  {
   "cell_type": "code",
   "execution_count": 57,
   "metadata": {
    "collapsed": false
   },
   "outputs": [
    {
     "data": {
      "image/png": "[encoded data removed]",
      "text/plain": [
       "<matplotlib.figure.Figure at 0x115706550>"
      ]
     },
     "metadata": {},
     "output_type": "display_data"
    }
   ],
   "source": [
    "plt.plot(loss_arr)\n",
    "plt.show()"
   ]
  },
  {
   "cell_type": "code",
   "execution_count": 58,
   "metadata": {
    "collapsed": false
   },
   "outputs": [
    {
     "data": {
      "image/png": "[encoded data removed]",
      "text/plain": [
       "<matplotlib.figure.Figure at 0x115734490>"
      ]
     },
     "metadata": {},
     "output_type": "display_data"
    }
   ],
   "source": [
    "plt.plot(test_loss_arr)\n",
    "plt.show()"
   ]
  },
  {
   "cell_type": "code",
   "execution_count": 59,
   "metadata": {
    "collapsed": false
   },
   "outputs": [
    {
     "name": "stdout",
     "output_type": "stream",
     "text": [
      "Train report\n",
      "Batch 0             precision    recall  f1-score   support\n",
      "\n",
      "          0       0.59      0.52      0.56      1103\n",
      "          1       0.41      0.49      0.45      1294\n",
      "          2       0.40      0.39      0.40      1453\n",
      "          3       0.35      0.42      0.38      1249\n",
      "          4       0.29      0.15      0.19       916\n",
      "          5       0.36      0.49      0.42       999\n",
      "          6       0.42      0.34      0.37       708\n",
      "          7       0.00      0.00      0.00       111\n",
      "\n",
      "avg / total       0.40      0.40      0.40      7833\n",
      "\n",
      "('Accuracy', 0.40495340227243715)\n",
      "Test report\n",
      "Batch 0\n",
      "             precision    recall  f1-score   support\n",
      "\n",
      "          0       0.56      0.49      0.53       563\n",
      "          1       0.35      0.44      0.39       639\n",
      "          2       0.36      0.32      0.34       714\n",
      "          3       0.30      0.38      0.34       569\n",
      "          4       0.27      0.12      0.17       492\n",
      "          5       0.32      0.48      0.39       493\n",
      "          6       0.39      0.28      0.33       343\n",
      "          7       0.00      0.00      0.00        46\n",
      "\n",
      "avg / total       0.36      0.36      0.35      3859\n",
      "\n",
      "('Accuracy', 0.3627882871210158)\n"
     ]
    }
   ],
   "source": [
    "make_classification_report(model_3linear, X_train, Y_train, X_test, Y_test, batch_size=100)"
   ]
  },
  {
   "cell_type": "code",
   "execution_count": 146,
   "metadata": {
    "collapsed": false
   },
   "outputs": [],
   "source": [
    "nucl_dict = {\"A\" : 0, \"U\" : 1, \"G\" : 2, \"C\" : 3}\n",
    "\n",
    "def nucl_string_to_numpy(string, right_offset=3):\n",
    "    return [nucl_dict[x] for x in string[:len(string)-right_offset]]"
   ]
  },
  {
   "cell_type": "code",
   "execution_count": 147,
   "metadata": {
    "collapsed": false
   },
   "outputs": [],
   "source": [
    "sequences = pd.read_excel(\"nar-01502-y-2016-File012.xls\")[\"Sequence\"]"
   ]
  },
  {
   "cell_type": "code",
   "execution_count": 148,
   "metadata": {
    "collapsed": false
   },
   "outputs": [],
   "source": [
    "X = np.zeros((len(sequences), len(sequences[0]) - 3), dtype=np.uint8)\n",
    "for ind, x in enumerate(sequences.apply(nucl_string_to_numpy)):\n",
    "    X[ind] = np.array(x, dtype=np.uint8)"
   ]
  },
  {
   "cell_type": "markdown",
   "metadata": {},
   "source": [
    "Модифицируем функцию, чтобы она правильно приводила X "
   ]
  },
  {
   "cell_type": "code",
   "execution_count": 269,
   "metadata": {
    "collapsed": false
   },
   "outputs": [],
   "source": [
    "@print_work_time\n",
    "def learn_on_model(X, Y, model, loss_fn, X_test = None, Y_test = None, learning_rate = 1e-2, \n",
    "                   batch_size = 100, max_epoch_num = 1, min_loss = 1e-3): \n",
    "    optimizer = torch.optim.Adam(model.parameters(), lr=learning_rate)    \n",
    "    loss = 1000\n",
    "    epoch_num = 0\n",
    "     \n",
    "    loss_arr = list()\n",
    "\n",
    "    test_loss_arr = list() if not (type(X_test) is None) else None\n",
    "    tot_err = 10**6\n",
    "    \n",
    "    while tot_err > min_loss and epoch_num < max_epoch_num:\n",
    "        tot_err = 0\n",
    "        sys.stdout.write(\"\\nEpoch {} ...\\n\".format(epoch_num + 1))\n",
    "        for bn, start in enumerate(xrange(0, X.shape[0], batch_size)):\n",
    "            optimizer.zero_grad()\n",
    "            if bn % 10 == 0:\n",
    "                sys.stdout.write(\"\\rTrain Batch {}\".format(bn))\n",
    "           \n",
    "            X_CUR = Variable(torch.from_numpy(X[start:start + batch_size]).type(torch.LongTensor))\n",
    "           \n",
    "            Y_CUR = Variable(torch.from_numpy(Y[start:start + batch_size]).type(torch.LongTensor), requires_grad=False)\n",
    "            output =  model.forward(X_CUR)\n",
    "            loss = loss_fn(output, Y_CUR)\n",
    "            loss_arr.append(loss.data.tolist()[0])\n",
    "            tot_err += loss\n",
    "            loss.backward()\n",
    "            optimizer.step()\n",
    "            del loss\n",
    "            del X_CUR\n",
    "            del Y_CUR\n",
    "            del output\n",
    "\n",
    "        \n",
    "        if not (type(X_test) is None):\n",
    "            for bn, start in enumerate(xrange(0, X_test.shape[0], batch_size)):\n",
    "                if bn % 10 == 0:\n",
    "                    sys.stdout.write(\"\\rTest Batch {}\".format(bn))\n",
    "                X_CUR = Variable(torch.from_numpy(X_test[start:start + batch_size]).type(torch.LongTensor))\n",
    "                Y_CUR = Variable(torch.from_numpy(Y_test[start:start + batch_size]).type(torch.LongTensor), requires_grad=False)\n",
    "                y_pred = model.forward(X_CUR)\n",
    "                loss = loss_fn(y_pred, Y_CUR)\n",
    "                test_loss_arr.append(loss.data.tolist()[0])\n",
    "                del X_CUR\n",
    "                del Y_CUR\n",
    "                del y_pred\n",
    "                del loss\n",
    "            \n",
    "            \n",
    "        epoch_num += 1\n",
    "        gc.collect() # only this've helped to save process from beeing kill\n",
    "        clear_output(wait=True)\n",
    "    return np.array(loss_arr), np.array(test_loss_arr)\n",
    "\n",
    "\n",
    "def make_classification_report(model, X_TRAIN, Y_TRAIN, X_TEST, Y_TEST, batch_size = 100):\n",
    "    print (\"Train report\")\n",
    "    y_predicted = np.zeros(shape = (Y_TRAIN.shape[0], len(np.unique(Y_TRAIN))))\n",
    "    \n",
    "    for bn, start in enumerate(xrange(0, X_TRAIN.shape[0], batch_size)):\n",
    "        if bn % 100 == 0:\n",
    "            sys.stdout.write(\"\\rBatch {}\".format(bn))\n",
    "        X_CUR = Variable(torch.from_numpy(X_TRAIN[start:start + batch_size]).type(torch.LongTensor))\n",
    "        y_predicted[start:start + batch_size] = np.array(model.forward(X_CUR).data.tolist())\n",
    "    indices = np.argmax(y_predicted, axis = 1)\n",
    "    print (classification_report(np.array(Y_TRAIN.tolist()), indices))\n",
    "    print (\"Accuracy\", np.mean(np.array(Y_TRAIN.tolist()) == indices))\n",
    "    \n",
    "    print (\"Test report\")\n",
    "    y_predicted = np.zeros(shape = (Y_TEST.shape[0], len(np.unique(Y_TRAIN))))\n",
    "    for bn, start in enumerate(xrange(0, X_TEST.shape[0], batch_size)):\n",
    "        if bn % 100 == 0:\n",
    "            sys.stdout.write(\"\\rBatch {}\\n\".format(bn))\n",
    "        X_CUR = Variable(torch.from_numpy(X_TEST[start:start + batch_size]).type(torch.LongTensor))\n",
    "        y_predicted[start:start + batch_size] = np.array(model.forward(X_CUR).data.tolist())\n",
    "        del X_CUR\n",
    "        \n",
    "    \n",
    "    \n",
    "    indices = np.argmax(y_predicted, axis = 1)\n",
    "    print (classification_report(np.array(Y_TEST.tolist()), indices))\n",
    "    print (\"Accuracy\", np.mean(np.array(Y_TEST.tolist()) == indices))"
   ]
  },
  {
   "cell_type": "code",
   "execution_count": 150,
   "metadata": {
    "collapsed": false
   },
   "outputs": [],
   "source": [
    "class PromoterModel(nn.Module):\n",
    "    def __init__(self, nucl_property_size, hidden_size, in_size=20, out_size=8):\n",
    "        super(PromoterModel, self).__init__()\n",
    "        \n",
    "        self.nucl_property_size = nucl_property_size\n",
    "        self.hidden_size = hidden_size\n",
    "        self.coder = nn.Embedding(4, nucl_property_size) # A U G C\n",
    "        self.full_connected = nn.Sequential(\\\n",
    "                                               nn.Linear(in_size * nucl_property_size, hidden_size),\\\n",
    "                                               nn.Tanh(),\\\n",
    "                                               nn.Linear(hidden_size, out_size),\n",
    "                                               nn.LogSoftmax()\n",
    "                                           )\n",
    "    def forward(self, in_data):\n",
    "        output = self.coder(in_data).view(in_data.size(0), -1)\n",
    "        output = self.full_connected(output)\n",
    "        return output\n",
    "        \n",
    "                                            "
   ]
  },
  {
   "cell_type": "code",
   "execution_count": 65,
   "metadata": {
    "collapsed": false
   },
   "outputs": [],
   "source": [
    "X_train, X_test, Y_train, Y_test = train_test_split(X, Y_aim, test_size=0.33)"
   ]
  },
  {
   "cell_type": "code",
   "execution_count": 66,
   "metadata": {
    "collapsed": false
   },
   "outputs": [
    {
     "name": "stdout",
     "output_type": "stream",
     "text": [
      "Execution take 26.5156729221\n"
     ]
    }
   ],
   "source": [
    "promotor_model1 = PromoterModel(30, 100)\n",
    "criterion = nn.NLLLoss()\n",
    "learning_rate = 1e-4\n",
    "\n",
    "optimizer = Adam(promotor_model1.parameters(), lr=learning_rate)\n",
    "\n",
    "\n",
    "loss_arr, test_loss_arr = learn_on_model( X_train, Y_train,promotor_model1, criterion, X_test,\\\n",
    "                                                    Y_test,\\\n",
    "                                                    learning_rate,\\\n",
    "                                                    max_epoch_num=15, batch_size =16)"
   ]
  },
  {
   "cell_type": "code",
   "execution_count": 67,
   "metadata": {
    "collapsed": false
   },
   "outputs": [
    {
     "data": {
      "image/png": "[encoded data removed]",
      "text/plain": [
       "<matplotlib.figure.Figure at 0x1199c34d0>"
      ]
     },
     "metadata": {},
     "output_type": "display_data"
    }
   ],
   "source": [
    "plt.plot(loss_arr)\n",
    "plt.show()"
   ]
  },
  {
   "cell_type": "code",
   "execution_count": 68,
   "metadata": {
    "collapsed": false
   },
   "outputs": [
    {
     "data": {
      "image/png": "[encoded data removed]",
      "text/plain": [
       "<matplotlib.figure.Figure at 0x118bab450>"
      ]
     },
     "metadata": {},
     "output_type": "display_data"
    }
   ],
   "source": [
    "plt.plot(test_loss_arr)\n",
    "plt.show()"
   ]
  },
  {
   "cell_type": "code",
   "execution_count": 69,
   "metadata": {
    "collapsed": false
   },
   "outputs": [
    {
     "name": "stdout",
     "output_type": "stream",
     "text": [
      "Train report\n",
      "Batch 0             precision    recall  f1-score   support\n",
      "\n",
      "          0       0.52      0.68      0.59      1142\n",
      "          1       0.43      0.46      0.45      1315\n",
      "          2       0.45      0.37      0.40      1405\n",
      "          3       0.37      0.41      0.39      1232\n",
      "          4       0.39      0.30      0.34       940\n",
      "          5       0.40      0.41      0.41       991\n",
      "          6       0.47      0.49      0.48       707\n",
      "          7       0.00      0.00      0.00       101\n",
      "\n",
      "avg / total       0.43      0.44      0.43      7833\n",
      "\n",
      "('Accuracy', 0.43738031405591726)\n",
      "Test report\n",
      "Batch 0\n",
      "             precision    recall  f1-score   support\n",
      "\n",
      "          0       0.48      0.68      0.56       524\n",
      "          1       0.35      0.36      0.35       618\n",
      "          2       0.39      0.29      0.33       762\n",
      "          3       0.29      0.33      0.31       586\n",
      "          4       0.26      0.21      0.23       468\n",
      "          5       0.32      0.32      0.32       501\n",
      "          6       0.37      0.39      0.38       344\n",
      "          7       0.50      0.02      0.03        56\n",
      "\n",
      "avg / total       0.35      0.36      0.35      3859\n",
      "\n",
      "('Accuracy', 0.35864213526820421)\n"
     ]
    }
   ],
   "source": [
    "make_classification_report(promotor_model1, X_train, Y_train, X_test, Y_test)"
   ]
  },
  {
   "cell_type": "code",
   "execution_count": 70,
   "metadata": {
    "collapsed": false
   },
   "outputs": [],
   "source": [
    "class PromoterModel2(nn.Module):\n",
    "    def __init__(self, nucl_property_size, hidden_size1, hidden_size2, in_size=20, out_size=8):\n",
    "        super(PromoterModel2, self).__init__()\n",
    "        self.nucl_property_size = nucl_property_size\n",
    "        self.coder = nn.Embedding(4, nucl_property_size) # A U G C\n",
    "        self.full_connected = nn.Sequential(\\\n",
    "                                               nn.Linear(in_size * nucl_property_size, hidden_size1),\\\n",
    "                                               nn.Tanh(),\\\n",
    "                                               nn.Linear(hidden_size1, hidden_size2),\n",
    "                                               nn.Tanh(),\n",
    "                                               nn.Linear(hidden_size2, out_size),\n",
    "                                               nn.LogSoftmax()\n",
    "                                           )\n",
    "    def forward(self, in_data):\n",
    "        output = self.coder(in_data).view(in_data.size(0), -1)\n",
    "        output = self.full_connected(output)\n",
    "        return output\n",
    "        "
   ]
  },
  {
   "cell_type": "code",
   "execution_count": 71,
   "metadata": {
    "collapsed": false
   },
   "outputs": [
    {
     "name": "stdout",
     "output_type": "stream",
     "text": [
      "Execution take 428.796616077\n"
     ]
    }
   ],
   "source": [
    "promotor_model2 = PromoterModel2(64, 512, 64)\n",
    "criterion = nn.NLLLoss()\n",
    "learning_rate = 1e-4\n",
    "\n",
    "optimizer = Adam(promotor_model2.parameters(), lr=learning_rate)\n",
    "\n",
    "\n",
    "loss_arr, test_loss_arr = learn_on_model( X_train, Y_train,promotor_model2, criterion, X_test,\\\n",
    "                                                    Y_test,\\\n",
    "                                                    learning_rate,\\\n",
    "                                                    max_epoch_num=20, batch_size =8)"
   ]
  },
  {
   "cell_type": "code",
   "execution_count": 72,
   "metadata": {
    "collapsed": false
   },
   "outputs": [
    {
     "data": {
      "image/png": "[encoded data removed]",
      "text/plain": [
       "<matplotlib.figure.Figure at 0x118b15310>"
      ]
     },
     "metadata": {},
     "output_type": "display_data"
    },
    {
     "data": {
      "image/png": "[encoded data removed]",
      "text/plain": [
       "<matplotlib.figure.Figure at 0x11a3760d0>"
      ]
     },
     "metadata": {},
     "output_type": "display_data"
    }
   ],
   "source": [
    "plt.plot(loss_arr)\n",
    "plt.show()\n",
    "plt.plot(test_loss_arr)\n",
    "plt.show()"
   ]
  },
  {
   "cell_type": "code",
   "execution_count": 73,
   "metadata": {
    "collapsed": false
   },
   "outputs": [
    {
     "name": "stdout",
     "output_type": "stream",
     "text": [
      "Train report\n",
      "Batch 0             precision    recall  f1-score   support\n",
      "\n",
      "          0       0.89      1.00      0.94      1142\n",
      "          1       0.90      0.96      0.93      1315\n",
      "          2       0.97      0.92      0.94      1405\n",
      "          3       0.95      0.95      0.95      1232\n",
      "          4       0.95      0.93      0.94       940\n",
      "          5       0.97      0.89      0.93       991\n",
      "          6       0.89      0.91      0.90       707\n",
      "          7       1.00      0.48      0.64       101\n",
      "\n",
      "avg / total       0.93      0.93      0.93      7833\n",
      "\n",
      "('Accuracy', 0.93208221626452192)\n",
      "Test report\n",
      "Batch 0\n",
      "             precision    recall  f1-score   support\n",
      "\n",
      "          0       0.45      0.60      0.51       524\n",
      "          1       0.33      0.39      0.36       618\n",
      "          2       0.39      0.26      0.31       762\n",
      "          3       0.32      0.39      0.35       586\n",
      "          4       0.31      0.33      0.32       468\n",
      "          5       0.44      0.32      0.37       501\n",
      "          6       0.44      0.45      0.45       344\n",
      "          7       0.30      0.05      0.09        56\n",
      "\n",
      "avg / total       0.38      0.38      0.37      3859\n",
      "\n",
      "('Accuracy', 0.37652241513345425)\n"
     ]
    }
   ],
   "source": [
    "make_classification_report(promotor_model2, X_train, Y_train, X_test, Y_test)"
   ]
  },
  {
   "cell_type": "code",
   "execution_count": 74,
   "metadata": {
    "collapsed": false
   },
   "outputs": [
    {
     "name": "stdout",
     "output_type": "stream",
     "text": [
      "Execution take 1496.18539786\n"
     ]
    }
   ],
   "source": [
    "promotor_model3 = PromoterModel2(128, 1024, 32)\n",
    "criterion = nn.NLLLoss()\n",
    "learning_rate = 1e-4\n",
    "\n",
    "optimizer = Adam(promotor_model3.parameters(), lr=learning_rate)\n",
    "\n",
    "\n",
    "loss_arr, test_loss_arr = learn_on_model( X_train, Y_train,promotor_model3, criterion, X_test,\\\n",
    "                                                    Y_test,\\\n",
    "                                                    learning_rate,\\\n",
    "                                                    max_epoch_num=20, batch_size =8)"
   ]
  },
  {
   "cell_type": "code",
   "execution_count": 75,
   "metadata": {
    "collapsed": false
   },
   "outputs": [
    {
     "name": "stdout",
     "output_type": "stream",
     "text": [
      "Train report\n",
      "Batch 0             precision    recall  f1-score   support\n",
      "\n",
      "          0       0.89      1.00      0.94      1142\n",
      "          1       0.90      0.96      0.93      1315\n",
      "          2       0.97      0.92      0.94      1405\n",
      "          3       0.95      0.95      0.95      1232\n",
      "          4       0.95      0.93      0.94       940\n",
      "          5       0.97      0.89      0.93       991\n",
      "          6       0.89      0.91      0.90       707\n",
      "          7       1.00      0.48      0.64       101\n",
      "\n",
      "avg / total       0.93      0.93      0.93      7833\n",
      "\n",
      "('Accuracy', 0.93208221626452192)\n",
      "Test report\n",
      "Batch 0\n",
      "             precision    recall  f1-score   support\n",
      "\n",
      "          0       0.45      0.60      0.51       524\n",
      "          1       0.33      0.39      0.36       618\n",
      "          2       0.39      0.26      0.31       762\n",
      "          3       0.32      0.39      0.35       586\n",
      "          4       0.31      0.33      0.32       468\n",
      "          5       0.44      0.32      0.37       501\n",
      "          6       0.44      0.45      0.45       344\n",
      "          7       0.30      0.05      0.09        56\n",
      "\n",
      "avg / total       0.38      0.38      0.37      3859\n",
      "\n",
      "('Accuracy', 0.37652241513345425)\n"
     ]
    }
   ],
   "source": [
    "make_classification_report(promotor_model2, X_train, Y_train, X_test, Y_test)"
   ]
  },
  {
   "cell_type": "code",
   "execution_count": 76,
   "metadata": {
    "collapsed": true
   },
   "outputs": [],
   "source": [
    "class PromoterModel3(nn.Module):\n",
    "    def __init__(self, nucl_property_size, hidden_size1, hidden_size2, in_size=20, out_size=1):\n",
    "        super(PromoterModel3, self).__init__()\n",
    "        self.nucl_property_size = nucl_property_size\n",
    "        self.coder = nn.Embedding(4, nucl_property_size) # A U G C\n",
    "        self.full_connected = nn.Sequential(\\\n",
    "                                               nn.Linear(in_size * nucl_property_size, hidden_size1),\\\n",
    "                                               nn.PReLU(),\\\n",
    "                                               nn.Linear(hidden_size1, hidden_size2),\n",
    "                                               nn.PReLU(),\n",
    "                                               nn.Linear(hidden_size2, out_size),\n",
    "                                               nn.Sigmoid()\n",
    "                                           )\n",
    "    def forward(self, in_data):\n",
    "        output = self.coder(in_data).view(in_data.size(0), -1)\n",
    "        output = self.full_connected(output)\n",
    "        return output\n",
    "        "
   ]
  },
  {
   "cell_type": "code",
   "execution_count": 270,
   "metadata": {
    "collapsed": true
   },
   "outputs": [],
   "source": [
    "X_energy = np.concatenate([pd.read_table(dt, skiprows=0).iloc[:, 1:] for dt in data_tables], axis = 1 )\n",
    "#X_seq = X"
   ]
  },
  {
   "cell_type": "code",
   "execution_count": 271,
   "metadata": {
    "collapsed": false
   },
   "outputs": [],
   "source": [
    "X = np.concatenate([X_seq, X_energy], axis = 1)"
   ]
  },
  {
   "cell_type": "code",
   "execution_count": 274,
   "metadata": {
    "collapsed": true
   },
   "outputs": [],
   "source": [
    "X_train, X_test, Y_train, Y_test = train_test_split(X, Y_aim, test_size=0.33)"
   ]
  },
  {
   "cell_type": "code",
   "execution_count": 275,
   "metadata": {
    "collapsed": false
   },
   "outputs": [
    {
     "data": {
      "text/plain": [
       "(7833, 146)"
      ]
     },
     "execution_count": 275,
     "metadata": {},
     "output_type": "execute_result"
    }
   ],
   "source": [
    "X_train.shape"
   ]
  },
  {
   "cell_type": "code",
   "execution_count": 609,
   "metadata": {
    "collapsed": false
   },
   "outputs": [],
   "source": [
    "class PromoterModel4(nn.Module):\n",
    "    def __init__(self, nucl_property_size, hidden_size1, hidden_size2, in_size = 146,  seq_size=20, out_size=8):\n",
    "        super(PromoterModel4, self).__init__()\n",
    "        self.nucl_property_size = nucl_property_size\n",
    "        self.coder = nn.Embedding(4, nucl_property_size) # A U G C\n",
    "        self.full_connected = nn.Sequential(\\\n",
    "                                               nn.Linear( in_size - seq_size +seq_size * nucl_property_size,\\\n",
    "                                                         hidden_size1),\\\n",
    "                                               nn.Tanh(),\\\n",
    "                                               nn.Linear(hidden_size1, hidden_size2),\n",
    "                                               nn.Tanh(),\n",
    "                                               nn.Linear(hidden_size2, out_size),\n",
    "                                               nn.LogSoftmax()\n",
    "                                           )\n",
    "        self.seq_size = seq_size\n",
    "    def forward(self, in_data):\n",
    "        seq_info = in_data[:, :self.seq_size]\n",
    "        \n",
    "        output = self.coder(seq_info.type(torch.LongTensor)).view(seq_info.size(0), -1)\n",
    "        output = torch.cat((output.type(torch.FloatTensor), in_data[:,self.seq_size:] ), 1)\n",
    "        output = self.full_connected(output)\n",
    "        return output\n",
    "        "
   ]
  },
  {
   "cell_type": "code",
   "execution_count": 87,
   "metadata": {
    "collapsed": false
   },
   "outputs": [
    {
     "name": "stdout",
     "output_type": "stream",
     "text": [
      "Execution take 233.961699963\n"
     ]
    }
   ],
   "source": [
    "promotor_model4 = PromoterModel4(64, 128, 32)\n",
    "criterion = nn.NLLLoss(size_average=True)\n",
    "learning_rate = 1e-4\n",
    "\n",
    "optimizer = Adam(promotor_model4.parameters(), lr=learning_rate, weight_decay=1e-2)\n",
    "\n",
    "\n",
    "loss_arr, test_loss_arr = learn_on_model( X_train, Y_train,promotor_model4, criterion, optimizer, X_test,\\\n",
    "                                                    Y_test,\\\n",
    "                                                    learning_rate,\\\n",
    "                                                    max_epoch_num=100, batch_size =32)"
   ]
  },
  {
   "cell_type": "code",
   "execution_count": 88,
   "metadata": {
    "collapsed": false
   },
   "outputs": [
    {
     "data": {
      "image/png": "[encoded data removed]",
      "text/plain": [
       "<matplotlib.figure.Figure at 0x11fda0810>"
      ]
     },
     "metadata": {},
     "output_type": "display_data"
    }
   ],
   "source": [
    "plt.plot([loss_arr[x-500:x].mean()  for x in range(500, loss_arr.shape[0], 1)])\n",
    "plt.show()"
   ]
  },
  {
   "cell_type": "code",
   "execution_count": 89,
   "metadata": {
    "collapsed": false
   },
   "outputs": [
    {
     "data": {
      "image/png": "[encoded data removed]",
      "text/plain": [
       "<matplotlib.figure.Figure at 0x115faf410>"
      ]
     },
     "metadata": {},
     "output_type": "display_data"
    }
   ],
   "source": [
    "plt.plot([test_loss_arr[x-500:x].mean()  for x in range(500, test_loss_arr.shape[0], 1)])\n",
    "plt.show()"
   ]
  },
  {
   "cell_type": "code",
   "execution_count": 90,
   "metadata": {
    "collapsed": false
   },
   "outputs": [
    {
     "name": "stdout",
     "output_type": "stream",
     "text": [
      "Train report\n",
      "Batch 0             precision    recall  f1-score   support\n",
      "\n",
      "          0       0.59      0.68      0.63      1120\n",
      "          1       0.46      0.47      0.47      1286\n",
      "          2       0.46      0.51      0.48      1482\n",
      "          3       0.41      0.44      0.42      1222\n",
      "          4       0.45      0.26      0.33       933\n",
      "          5       0.50      0.58      0.54       987\n",
      "          6       0.60      0.52      0.56       693\n",
      "          7       0.00      0.00      0.00       110\n",
      "\n",
      "avg / total       0.48      0.49      0.48      7833\n",
      "\n",
      "('Accuracy', 0.48921230690667689)\n",
      "Test report\n",
      "Batch 0\n",
      "             precision    recall  f1-score   support\n",
      "\n",
      "          0       0.53      0.62      0.57       546\n",
      "          1       0.42      0.43      0.42       647\n",
      "          2       0.39      0.45      0.42       685\n",
      "          3       0.37      0.38      0.37       596\n",
      "          4       0.30      0.16      0.21       475\n",
      "          5       0.43      0.51      0.47       505\n",
      "          6       0.55      0.49      0.52       358\n",
      "          7       0.00      0.00      0.00        47\n",
      "\n",
      "avg / total       0.42      0.43      0.42      3859\n",
      "\n",
      "('Accuracy', 0.4286084477844001)\n"
     ]
    }
   ],
   "source": [
    "make_classification_report(promotor_model4, X_train, Y_train, X_test, Y_test)"
   ]
  },
  {
   "cell_type": "code",
   "execution_count": 892,
   "metadata": {
    "collapsed": true
   },
   "outputs": [],
   "source": [
    "t = KNeighborsClassifier(n_neighbors=100)"
   ]
  },
  {
   "cell_type": "code",
   "execution_count": 893,
   "metadata": {
    "collapsed": false
   },
   "outputs": [
    {
     "data": {
      "text/plain": [
       "KNeighborsClassifier(algorithm='auto', leaf_size=30, metric='minkowski',\n",
       "           metric_params=None, n_jobs=1, n_neighbors=100, p=2,\n",
       "           weights='uniform')"
      ]
     },
     "execution_count": 893,
     "metadata": {},
     "output_type": "execute_result"
    }
   ],
   "source": [
    "t.fit(X_train, Y_train)"
   ]
  },
  {
   "cell_type": "code",
   "execution_count": 894,
   "metadata": {
    "collapsed": false
   },
   "outputs": [
    {
     "name": "stdout",
     "output_type": "stream",
     "text": [
      "             precision    recall  f1-score   support\n",
      "\n",
      "          0       0.37      0.42      0.39       471\n",
      "          1       0.18      0.26      0.21       448\n",
      "          2       0.34      0.21      0.26      1140\n",
      "          3       0.21      0.20      0.21       656\n",
      "          4       0.11      0.19      0.14       267\n",
      "          5       0.20      0.24      0.22       429\n",
      "          6       0.33      0.25      0.28       448\n",
      "          7       0.00      0.00      0.00         0\n",
      "\n",
      "avg / total       0.27      0.25      0.25      3859\n",
      "\n"
     ]
    },
    {
     "name": "stderr",
     "output_type": "stream",
     "text": [
      "/Users/penzardmitry/anaconda/lib/python2.7/site-packages/sklearn/metrics/classification.py:1111: UndefinedMetricWarning: Recall and F-score are ill-defined and being set to 0.0 in labels with no true samples.\n",
      "  'recall', 'true', average, warn_for)\n"
     ]
    }
   ],
   "source": [
    "print classification_report(t.predict(X_test), Y_test)"
   ]
  },
  {
   "cell_type": "code",
   "execution_count": 1007,
   "metadata": {
    "collapsed": true
   },
   "outputs": [],
   "source": [
    "class PromoterModel5(nn.Module):\n",
    "    def __init__(self, nucl_property_size, hidden_size1, hidden_size2, in_size = 146,  seq_size=20, out_size=8):\n",
    "        super(PromoterModel5, self).__init__()\n",
    "        self.nucl_property_size = nucl_property_size\n",
    "        self.coder = nn.Embedding(4, nucl_property_size) # A U G C\n",
    "        self.full_connected = nn.Sequential(\\\n",
    "                                               nn.Linear( in_size - seq_size +seq_size * nucl_property_size,\\\n",
    "                                                         hidden_size1),\\\n",
    "                                               nn.PReLU(),\\\n",
    "                                               nn.Linear(hidden_size1, hidden_size2),\n",
    "                                               nn.PReLU(),\n",
    "                                               nn.Linear(hidden_size2, out_size),\n",
    "                                               nn.LogSoftmax()\n",
    "                                           )\n",
    "        self.seq_size = seq_size\n",
    "    def forward(self, in_data):\n",
    "        seq_info = in_data[:, :self.seq_size]\n",
    "        \n",
    "        output = self.coder(seq_info.type(torch.LongTensor)).view(seq_info.size(0), -1)\n",
    "        output = torch.cat((output.type(torch.FloatTensor), in_data[:,self.seq_size:] ), 1)\n",
    "        output = self.full_connected(output)\n",
    "        return output"
   ]
  },
  {
   "cell_type": "code",
   "execution_count": 1008,
   "metadata": {
    "collapsed": false
   },
   "outputs": [
    {
     "name": "stdout",
     "output_type": "stream",
     "text": [
      "Execution take 221.23099494\n"
     ]
    }
   ],
   "source": [
    "promotor_model5 = PromoterModel5(64, 128, 32)\n",
    "criterion = nn.NLLLoss(size_average=True)\n",
    "learning_rate = 1e-4\n",
    "\n",
    "optimizer = Adam(promotor_model5.parameters(), lr=learning_rate, weight_decay=1e-2)\n",
    "\n",
    "\n",
    "loss_arr, test_loss_arr = learn_on_model( X_train, Y_train,promotor_model5, criterion, optimizer, X_test,\\\n",
    "                                                    Y_test,\\\n",
    "                                                    learning_rate,\\\n",
    "                                                    max_epoch_num=100, batch_size =32)"
   ]
  },
  {
   "cell_type": "code",
   "execution_count": 1009,
   "metadata": {
    "collapsed": false
   },
   "outputs": [
    {
     "data": {
      "image/png": "[encoded data removed]",
      "text/plain": [
       "<matplotlib.figure.Figure at 0x126e82190>"
      ]
     },
     "metadata": {},
     "output_type": "display_data"
    }
   ],
   "source": [
    "plt.plot([loss_arr[x-500:x].mean()  for x in range(500, loss_arr.shape[0], 1)])\n",
    "plt.show()"
   ]
  },
  {
   "cell_type": "code",
   "execution_count": 1010,
   "metadata": {
    "collapsed": false
   },
   "outputs": [
    {
     "data": {
      "image/png": "[encoded data removed]",
      "text/plain": [
       "<matplotlib.figure.Figure at 0x127da49d0>"
      ]
     },
     "metadata": {},
     "output_type": "display_data"
    }
   ],
   "source": [
    "plt.plot([test_loss_arr[x-500:x].mean()  for x in range(500, test_loss_arr.shape[0], 1)])\n",
    "plt.show()"
   ]
  },
  {
   "cell_type": "code",
   "execution_count": 1011,
   "metadata": {
    "collapsed": false
   },
   "outputs": [
    {
     "name": "stdout",
     "output_type": "stream",
     "text": [
      "Train report\n",
      "Batch 0             precision    recall  f1-score   support\n",
      "\n",
      "          0       0.82      0.78      0.80      1114\n",
      "          1       0.67      0.72      0.69      1295\n",
      "          2       0.70      0.66      0.68      1431\n",
      "          3       0.59      0.66      0.62      1210\n",
      "          4       0.56      0.49      0.52       962\n",
      "          5       0.61      0.58      0.60       999\n",
      "          6       0.60      0.75      0.67       709\n",
      "          7       0.00      0.00      0.00       113\n",
      "\n",
      "avg / total       0.65      0.65      0.65      7833\n",
      "\n",
      "('Accuracy', 0.65390016596450917)\n",
      "Test report\n",
      "Batch 0\n",
      "             precision    recall  f1-score   support\n",
      "\n",
      "          0       0.53      0.53      0.53       552\n",
      "          1       0.38      0.42      0.40       638\n",
      "          2       0.40      0.35      0.37       736\n",
      "          3       0.34      0.35      0.34       608\n",
      "          4       0.30      0.29      0.30       446\n",
      "          5       0.43      0.43      0.43       493\n",
      "          6       0.53      0.60      0.56       342\n",
      "          7       0.00      0.00      0.00        44\n",
      "\n",
      "avg / total       0.40      0.41      0.41      3859\n",
      "\n",
      "('Accuracy', 0.4091733609743457)\n"
     ]
    }
   ],
   "source": [
    "make_classification_report(promotor_model5, X_train, Y_train, X_test, Y_test)"
   ]
  },
  {
   "cell_type": "code",
   "execution_count": 91,
   "metadata": {
    "collapsed": false
   },
   "outputs": [],
   "source": [
    "class PromoterModel6(nn.Module):\n",
    "    def __init__(self, nucl_property_size, hidden_size1, hidden_size2, hidden_size3,\\\n",
    "                 in_size = 146,  seq_size=20, out_size=8):\n",
    "        super(PromoterModel6, self).__init__()\n",
    "        self.nucl_property_size = nucl_property_size\n",
    "        self.coder = nn.Embedding(4, nucl_property_size) # A U G C\n",
    "        self.full_connected = nn.Sequential(\\\n",
    "                                               nn.Linear( in_size - seq_size +seq_size * nucl_property_size,\\\n",
    "                                                         hidden_size1),\\\n",
    "                                               nn.Tanh(),\\\n",
    "                                               nn.Dropout(p = 0.2),\n",
    "                                               nn.Linear(hidden_size1, hidden_size2),\n",
    "                                               nn.Dropout(p = 0.2),\n",
    "                                               nn.Tanh(),\n",
    "                                               nn.Linear(hidden_size2, hidden_size3),\n",
    "                                               nn.Tanh(),\n",
    "                                               nn.Dropout(p = 0.2),\n",
    "                                               nn.Linear(hidden_size3, out_size),\n",
    "                                               nn.LogSoftmax()\n",
    "                                           )\n",
    "        self.seq_size = seq_size\n",
    "    def forward(self, in_data):\n",
    "        seq_info = in_data[:, :self.seq_size]\n",
    "        \n",
    "        output = self.coder(seq_info.type(torch.LongTensor)).view(seq_info.size(0), -1)\n",
    "        output = torch.cat((output.type(torch.FloatTensor), in_data[:,self.seq_size:] ), 1)\n",
    "        output = self.full_connected(output)\n",
    "        return output"
   ]
  },
  {
   "cell_type": "code",
   "execution_count": 94,
   "metadata": {
    "collapsed": false
   },
   "outputs": [
    {
     "name": "stdout",
     "output_type": "stream",
     "text": [
      "Execution take 367.4258008\n"
     ]
    }
   ],
   "source": [
    "promotor_model6 = PromoterModel6(64, 512, 256, 64)\n",
    "criterion = nn.NLLLoss(size_average=True)\n",
    "learning_rate = 1e-4\n",
    "\n",
    "optimizer = Adam(promotor_model6.parameters(), lr=learning_rate, weight_decay=1e-2)\n",
    "\n",
    "\n",
    "loss_arr, test_loss_arr = learn_on_model( X_train, Y_train,promotor_model6, criterion, optimizer, X_test,\\\n",
    "                                                    Y_test,\\\n",
    "                                                    learning_rate,\\\n",
    "                                                    max_epoch_num=50, batch_size =32)"
   ]
  },
  {
   "cell_type": "code",
   "execution_count": 95,
   "metadata": {
    "collapsed": false
   },
   "outputs": [
    {
     "name": "stdout",
     "output_type": "stream",
     "text": [
      "Train report\n",
      "Batch 0             precision    recall  f1-score   support\n",
      "\n",
      "          0       0.59      0.62      0.61      1120\n",
      "          1       0.43      0.38      0.40      1286\n",
      "          2       0.42      0.46      0.44      1482\n",
      "          3       0.39      0.39      0.39      1222\n",
      "          4       0.37      0.22      0.28       933\n",
      "          5       0.39      0.55      0.46       987\n",
      "          6       0.52      0.55      0.53       693\n",
      "          7       0.00      0.00      0.00       110\n",
      "\n",
      "avg / total       0.44      0.44      0.44      7833\n",
      "\n",
      "('Accuracy', 0.44376356440699605)\n",
      "Test report\n",
      "Batch 0\n",
      "             precision    recall  f1-score   support\n",
      "\n",
      "          0       0.54      0.55      0.54       546\n",
      "          1       0.41      0.37      0.39       647\n",
      "          2       0.36      0.42      0.39       685\n",
      "          3       0.34      0.34      0.34       596\n",
      "          4       0.29      0.15      0.20       475\n",
      "          5       0.38      0.54      0.45       505\n",
      "          6       0.48      0.50      0.49       358\n",
      "          7       0.00      0.00      0.00        47\n",
      "\n",
      "avg / total       0.39      0.40      0.39      3859\n",
      "\n",
      "('Accuracy', 0.40139932625032393)\n"
     ]
    }
   ],
   "source": [
    "model.eval()\n",
    "make_classification_report(promotor_model6, X_train, Y_train, X_test, Y_test)"
   ]
  },
  {
   "cell_type": "code",
   "execution_count": 96,
   "metadata": {
    "collapsed": false
   },
   "outputs": [
    {
     "data": {
      "image/png": "[encoded data removed]",
      "text/plain": [
       "<matplotlib.figure.Figure at 0x115703090>"
      ]
     },
     "metadata": {},
     "output_type": "display_data"
    }
   ],
   "source": [
    "plt.plot([test_loss_arr[x-500:x].mean()  for x in range(500, test_loss_arr.shape[0], 1)])\n",
    "plt.show()"
   ]
  },
  {
   "cell_type": "code",
   "execution_count": 14,
   "metadata": {
    "collapsed": false
   },
   "outputs": [
    {
     "data": {
      "text/plain": [
       "[0, 1, 2, 3, 1, 1, 2, 3]"
      ]
     },
     "execution_count": 14,
     "metadata": {},
     "output_type": "execute_result"
    }
   ],
   "source": [
    "nucl_string_to_numpy(\"augcuugc\".upper(), 0)"
   ]
  },
  {
   "cell_type": "code",
   "execution_count": 49,
   "metadata": {
    "collapsed": false
   },
   "outputs": [],
   "source": [
    "def onehot(sequence, offset):\n",
    "    X = np.zeros(shape=(len(sequence) - offset, 4))\n",
    "    for i, s in enumerate(sequence[0:len(sequence) - offset]):\n",
    "        X[i, nucl_dict[s]] = 1\n",
    "    return X"
   ]
  },
  {
   "cell_type": "code",
   "execution_count": 146,
   "metadata": {
    "collapsed": true
   },
   "outputs": [],
   "source": [
    "with open(\"promotors.txt\") as promotors_file:\n",
    "    promotors = [x.strip().replace(\"T\", \"U\") for x in promotors_file if not \"N\" in x and not \"K\" in x and not \"R\" in x\\\n",
    "                and not \"M\" in x ]"
   ]
  },
  {
   "cell_type": "code",
   "execution_count": 147,
   "metadata": {
    "collapsed": false
   },
   "outputs": [],
   "source": [
    "X_prom = np.zeros(shape=(len(promotors), 20, 4))"
   ]
  },
  {
   "cell_type": "code",
   "execution_count": 155,
   "metadata": {
    "collapsed": false
   },
   "outputs": [],
   "source": [
    "for ind, promotor in enumerate(promotors):\n",
    "    X_prom[ind] = onehot(promotor, 0)"
   ]
  },
  {
   "cell_type": "code",
   "execution_count": 268,
   "metadata": {
    "collapsed": false
   },
   "outputs": [],
   "source": [
    "@print_work_time\n",
    "def learn_on_model(X, Y, model, loss_fn, optimizer, X_test = None, Y_test = None, learning_rate = 1e-2, \n",
    "                   batch_size = 100, max_epoch_num = 1, min_loss = 1e-3): \n",
    "    loss = 1000\n",
    "    epoch_num = 0\n",
    "     \n",
    "    loss_arr = list()\n",
    "\n",
    "    test_loss_arr = list() if not (type(X_test) is None) else None\n",
    "    tot_err = 10**6\n",
    "    \n",
    "    while tot_err > min_loss and epoch_num < max_epoch_num:\n",
    "        tot_err = 0\n",
    "        sys.stdout.write(\"\\nEpoch {} ...\\n\".format(epoch_num + 1))\n",
    "        for bn, start in enumerate(xrange(0, X.shape[0], batch_size)):\n",
    "            optimizer.zero_grad()\n",
    "            if bn % 10 == 0:\n",
    "                sys.stdout.write(\"\\rTrain Batch {}\".format(bn))\n",
    "           \n",
    "            X_CUR = Variable(torch.from_numpy(X[start:start + batch_size]).type(torch.FloatTensor))\n",
    "           \n",
    "            Y_CUR = Variable(torch.from_numpy(Y[start:start + batch_size]).type(torch.FloatTensor), requires_grad=False)\n",
    "            output =  model.forward(X_CUR)\n",
    "            loss = loss_fn(output, Y_CUR)\n",
    "            loss_arr.append(loss.data.tolist()[0])\n",
    "            tot_err += loss\n",
    "            loss.backward()\n",
    "            optimizer.step()\n",
    "            del loss\n",
    "            del X_CUR\n",
    "            del Y_CUR\n",
    "            del output\n",
    "\n",
    "        \n",
    "        if not (type(X_test) is None):\n",
    "            for bn, start in enumerate(xrange(0, X_test.shape[0], batch_size)):\n",
    "                if bn % 10 == 0:\n",
    "                    sys.stdout.write(\"\\rTest Batch {}\".format(bn))\n",
    "                X_CUR = Variable(torch.from_numpy(X_test[start:start + batch_size]).type(torch.FloatTensor))\n",
    "                Y_CUR = Variable(torch.from_numpy(Y_test[start:start + batch_size]).type(torch.FloatTensor), requires_grad=False)\n",
    "                y_pred = model.forward(X_CUR)\n",
    "                loss = loss_fn(y_pred, Y_CUR)\n",
    "                test_loss_arr.append(loss.data.tolist()[0])\n",
    "                del X_CUR\n",
    "                del Y_CUR\n",
    "                del y_pred\n",
    "                del loss\n",
    "            \n",
    "            \n",
    "        epoch_num += 1\n",
    "        gc.collect() # only this've helped to save process from beeing kill\n",
    "        clear_output(wait=True)\n",
    "    return np.array(loss_arr), np.array(test_loss_arr)\n",
    "\n",
    "\n",
    "def make_classification_report(model, X_TRAIN, Y_TRAIN, X_TEST, Y_TEST, batch_size = 100):\n",
    "    print (\"Train report\")\n",
    "    y_predicted = np.zeros(shape = (Y_TRAIN.shape[0], len(np.unique(Y_TRAIN))))\n",
    "    \n",
    "    for bn, start in enumerate(xrange(0, X_TRAIN.shape[0], batch_size)):\n",
    "        if bn % 100 == 0:\n",
    "            sys.stdout.write(\"\\rBatch {}\".format(bn))\n",
    "        X_CUR = Variable(torch.from_numpy(X_TRAIN[start:start + batch_size]).type(torch.FloatTensor))\n",
    "        y_predicted[start:start + batch_size] = np.array(model.forward(X_CUR).data.tolist())\n",
    "    indices = np.argmax(y_predicted, axis = 1)\n",
    "    print (classification_report(np.array(Y_TRAIN.tolist()), indices))\n",
    "    print (\"Accuracy\", np.mean(np.array(Y_TRAIN.tolist()) == indices))\n",
    "    \n",
    "    print (\"Test report\")\n",
    "    y_predicted = np.zeros(shape = (Y_TEST.shape[0], len(np.unique(Y_TRAIN))))\n",
    "    for bn, start in enumerate(xrange(0, X_TEST.shape[0], batch_size)):\n",
    "        if bn % 100 == 0:\n",
    "            sys.stdout.write(\"\\rBatch {}\\n\".format(bn))\n",
    "        X_CUR = Variable(torch.from_numpy(X_TEST[start:start + batch_size]).type(torch.FloatTensor))\n",
    "        y_predicted[start:start + batch_size] = np.array(model.forward(X_CUR).data.tolist())\n",
    "        del X_CUR\n",
    "        \n",
    "    \n",
    "    \n",
    "    indices = np.argmax(y_predicted, axis = 1)\n",
    "    print (classification_report(np.array(Y_TEST.tolist()), indices))\n",
    "    print (\"Accuracy\", np.mean(np.array(Y_TEST.tolist()) == indices))"
   ]
  },
  {
   "cell_type": "code",
   "execution_count": 203,
   "metadata": {
    "collapsed": false
   },
   "outputs": [
    {
     "data": {
      "text/plain": [
       "(812906, 20, 4)"
      ]
     },
     "execution_count": 203,
     "metadata": {},
     "output_type": "execute_result"
    }
   ],
   "source": [
    "X_prom.shape"
   ]
  },
  {
   "cell_type": "code",
   "execution_count": 204,
   "metadata": {
    "collapsed": false
   },
   "outputs": [],
   "source": [
    "\n",
    "\n",
    "class AutoEncoder(nn.Module):\n",
    "    def __init__(self):\n",
    "        super(AutoEncoder, self).__init__()\n",
    "        self.encoder = nn.Sequential(\n",
    "                            nn.Linear(80, 64),\n",
    "                            nn.Tanh(),\n",
    "                            nn.Linear(64, 32),\\\n",
    "                            nn.Tanh(),         \n",
    "                            nn.Linear(32, 20),\n",
    "                            nn.Tanh())\n",
    "        self.decoder = nn.Sequential(nn.Linear(20, 32),\n",
    "                                    nn.Tanh(),\n",
    "                                    nn.Linear(32, 64),\n",
    "                                    nn.Tanh(),\n",
    "                                    nn.Linear(64, 80))\n",
    "        \n",
    "    def forward(self, in_data):\n",
    "        in_data = in_data.view(in_data.size(0), -1)\n",
    "        output = self.encoder(in_data)\n",
    "        output = self.decoder(output)\n",
    "        return output\n",
    "        "
   ]
  },
  {
   "cell_type": "code",
   "execution_count": 205,
   "metadata": {
    "collapsed": true
   },
   "outputs": [],
   "source": [
    "X_train, X_test = train_test_split(X_prom, test_size=0.33)"
   ]
  },
  {
   "cell_type": "code",
   "execution_count": 206,
   "metadata": {
    "collapsed": false
   },
   "outputs": [
    {
     "name": "stdout",
     "output_type": "stream",
     "text": [
      "Execution take 216.25194788\n"
     ]
    }
   ],
   "source": [
    "autoencoder = AutoEncoder()\n",
    "criterion = nn.MSELoss(size_average=True)\n",
    "learning_rate = 1e-4\n",
    "\n",
    "optimizer = Adam(autoencoder.parameters(), lr=learning_rate)\n",
    "\n",
    "\n",
    "loss_arr, test_loss_arr = learn_on_model(X_train, X_train, autoencoder, criterion, optimizer, X_test,\\\n",
    "                                                    X_test,\\\n",
    "                                                    learning_rate,\\\n",
    "                                                    max_epoch_num=5, batch_size =32)"
   ]
  },
  {
   "cell_type": "code",
   "execution_count": 207,
   "metadata": {
    "collapsed": false
   },
   "outputs": [
    {
     "data": {
      "image/png": "[encoded data removed]",
      "text/plain": [
       "<matplotlib.figure.Figure at 0x131b2de90>"
      ]
     },
     "metadata": {},
     "output_type": "display_data"
    }
   ],
   "source": [
    "plt.plot(loss_arr)\n",
    "plt.show()"
   ]
  },
  {
   "cell_type": "code",
   "execution_count": 208,
   "metadata": {
    "collapsed": false
   },
   "outputs": [
    {
     "data": {
      "image/png": "[encoded data removed]",
      "text/plain": [
       "<matplotlib.figure.Figure at 0x13193d890>"
      ]
     },
     "metadata": {},
     "output_type": "display_data"
    }
   ],
   "source": [
    "plt.plot(test_loss_arr)\n",
    "plt.show()"
   ]
  },
  {
   "cell_type": "code",
   "execution_count": 2,
   "metadata": {
    "collapsed": true
   },
   "outputs": [],
   "source": [
    "sequences = pd.read_excel(\"nar-01502-y-2016-File012.xls\")[\"Sequence\"]"
   ]
  },
  {
   "cell_type": "code",
   "execution_count": 50,
   "metadata": {
    "collapsed": false
   },
   "outputs": [],
   "source": [
    "X = np.zeros((len(sequences), len(sequences[0]) - 3, 4), dtype=np.uint8)\n",
    "for ind, x in enumerate(sequences.apply(lambda x: onehot(x, 3) )):\n",
    "    X[ind] = np.array(x, dtype=np.uint8)"
   ]
  },
  {
   "cell_type": "code",
   "execution_count": 278,
   "metadata": {
    "collapsed": false
   },
   "outputs": [],
   "source": [
    "@print_work_time\n",
    "def learn_on_model(X, Y, model, loss_fn,  optimizer, X_test = None, Y_test = None, learning_rate = 1e-2, \n",
    "                   batch_size = 100, max_epoch_num = 1, min_loss = 1e-3): \n",
    "\n",
    "    loss = 1000\n",
    "    epoch_num = 0\n",
    "     \n",
    "    loss_arr = list()\n",
    "\n",
    "    test_loss_arr = list() if not (type(X_test) is None) else None\n",
    "    tot_err = 10**6\n",
    "    \n",
    "    while tot_err > min_loss and epoch_num < max_epoch_num:\n",
    "        tot_err = 0\n",
    "        sys.stdout.write(\"\\nEpoch {} ...\\n\".format(epoch_num + 1))\n",
    "        for bn, start in enumerate(xrange(0, X.shape[0], batch_size)):\n",
    "            optimizer.zero_grad()\n",
    "            if bn % 10 == 0:\n",
    "                sys.stdout.write(\"\\rTrain Batch {}\".format(bn))\n",
    "           \n",
    "            X_CUR = Variable(torch.from_numpy(X[start:start + batch_size]).type(torch.FloatTensor))\n",
    "           \n",
    "            Y_CUR = Variable(torch.from_numpy(Y[start:start + batch_size]).type(torch.LongTensor), requires_grad=False)\n",
    "            output =  model.forward(X_CUR)\n",
    "            loss = loss_fn(output, Y_CUR)\n",
    "            loss_arr.append(loss.data.tolist()[0])\n",
    "            tot_err += loss\n",
    "            loss.backward()\n",
    "            optimizer.step()\n",
    "            del loss\n",
    "            del X_CUR\n",
    "            del Y_CUR\n",
    "            del output\n",
    "\n",
    "        \n",
    "        if not (type(X_test) is None):\n",
    "            for bn, start in enumerate(xrange(0, X_test.shape[0], batch_size)):\n",
    "                if bn % 10 == 0:\n",
    "                    sys.stdout.write(\"\\rTest Batch {}\".format(bn))\n",
    "                X_CUR = Variable(torch.from_numpy(X_test[start:start + batch_size]).type(torch.FloatTensor))\n",
    "                Y_CUR = Variable(torch.from_numpy(Y_test[start:start + batch_size]).type(torch.LongTensor), requires_grad=False)\n",
    "                y_pred = model.forward(X_CUR)\n",
    "                loss = loss_fn(y_pred, Y_CUR)\n",
    "                test_loss_arr.append(loss.data.tolist()[0])\n",
    "                del X_CUR\n",
    "                del Y_CUR\n",
    "                del y_pred\n",
    "                del loss\n",
    "            \n",
    "            \n",
    "        epoch_num += 1\n",
    "        gc.collect() # only this've helped to save process from beeing kill\n",
    "        clear_output(wait=True)\n",
    "    return np.array(loss_arr), np.array(test_loss_arr)\n",
    "\n",
    "\n",
    "def make_classification_report(model, X_TRAIN, Y_TRAIN, X_TEST, Y_TEST, batch_size = 100):\n",
    "    print (\"Train report\")\n",
    "    y_predicted = np.zeros(shape = (Y_TRAIN.shape[0], len(np.unique(Y_TRAIN))))\n",
    "    \n",
    "    for bn, start in enumerate(xrange(0, X_TRAIN.shape[0], batch_size)):\n",
    "        if bn % 100 == 0:\n",
    "            sys.stdout.write(\"\\rBatch {}\".format(bn))\n",
    "        X_CUR = Variable(torch.from_numpy(X_TRAIN[start:start + batch_size]).type(torch.FloatTensor))\n",
    "        y_predicted[start:start + batch_size] = np.array(model.forward(X_CUR).data.tolist())\n",
    "    indices = np.argmax(y_predicted, axis = 1)\n",
    "    print (classification_report(np.array(Y_TRAIN.tolist()), indices))\n",
    "    print (\"Accuracy\", np.mean(np.array(Y_TRAIN.tolist()) == indices))\n",
    "    \n",
    "    print (\"Test report\")\n",
    "    y_predicted = np.zeros(shape = (Y_TEST.shape[0], len(np.unique(Y_TRAIN))))\n",
    "    for bn, start in enumerate(xrange(0, X_TEST.shape[0], batch_size)):\n",
    "        if bn % 100 == 0:\n",
    "            sys.stdout.write(\"\\rBatch {}\\n\".format(bn))\n",
    "        X_CUR = Variable(torch.from_numpy(X_TEST[start:start + batch_size]).type(torch.FloatTensor))\n",
    "        y_predicted[start:start + batch_size] = np.array(model.forward(X_CUR).data.tolist())\n",
    "        del X_CUR\n",
    "        \n",
    "    \n",
    "    \n",
    "    indices = np.argmax(y_predicted, axis = 1)\n",
    "    print (classification_report(np.array(Y_TEST.tolist()), indices))\n",
    "    print (\"Accuracy\", np.mean(np.array(Y_TEST.tolist()) == indices))"
   ]
  },
  {
   "cell_type": "code",
   "execution_count": 212,
   "metadata": {
    "collapsed": false
   },
   "outputs": [],
   "source": [
    "X_cod = autoencoder.encoder(Variable(torch.from_numpy(X).type(torch.FloatTensor).view(X.shape[0], -1))).data.numpy()"
   ]
  },
  {
   "cell_type": "code",
   "execution_count": 213,
   "metadata": {
    "collapsed": false
   },
   "outputs": [],
   "source": [
    "X_train, X_test, Y_train, Y_test = train_test_split(X_cod, Y_aim, test_size=0.33)"
   ]
  },
  {
   "cell_type": "code",
   "execution_count": 216,
   "metadata": {
    "collapsed": false
   },
   "outputs": [],
   "source": [
    "cod_model = nn.Sequential(\\\n",
    "                         nn.Linear(20, 8),\n",
    "                         nn.LogSoftmax()\n",
    "                    )"
   ]
  },
  {
   "cell_type": "code",
   "execution_count": 217,
   "metadata": {
    "collapsed": false
   },
   "outputs": [
    {
     "name": "stdout",
     "output_type": "stream",
     "text": [
      "Execution take 10.4465551376\n"
     ]
    }
   ],
   "source": [
    "criterion = nn.NLLLoss(size_average=True)\n",
    "learning_rate = 1e-4\n",
    "\n",
    "optimizer = Adam(cod_model.parameters(), lr=learning_rate)\n",
    "\n",
    "\n",
    "loss_arr, test_loss_arr = learn_on_model(X_train, Y_train, cod_model, criterion, optimizer, X_test,\\\n",
    "                                                Y_test,\\\n",
    "                                                    learning_rate,\\\n",
    "                                                    max_epoch_num=50, batch_size =32)"
   ]
  },
  {
   "cell_type": "code",
   "execution_count": 218,
   "metadata": {
    "collapsed": false
   },
   "outputs": [
    {
     "data": {
      "image/png": "[encoded data removed]",
      "text/plain": [
       "<matplotlib.figure.Figure at 0x1319c3650>"
      ]
     },
     "metadata": {},
     "output_type": "display_data"
    }
   ],
   "source": [
    "plt.plot(loss_arr)\n",
    "plt.show()"
   ]
  },
  {
   "cell_type": "code",
   "execution_count": 108,
   "metadata": {
    "collapsed": true
   },
   "outputs": [],
   "source": [
    "?nn.GRU"
   ]
  },
  {
   "cell_type": "code",
   "execution_count": 112,
   "metadata": {
    "collapsed": false
   },
   "outputs": [],
   "source": [
    "_, hidden = nn.GRU(1, 40, 1, bidirectional=True)\\\n",
    ".forward(Variable(torch.FloatTensor(\\\n",
    "        [[ [1,0,0,0], [1,0,0,0] ]])).view(4, 2, 1))"
   ]
  },
  {
   "cell_type": "code",
   "execution_count": 155,
   "metadata": {
    "collapsed": false
   },
   "outputs": [],
   "source": [
    "a = Variable(torch.zeros(2, 80))\n",
    "\n"
   ]
  },
  {
   "cell_type": "code",
   "execution_count": 156,
   "metadata": {
    "collapsed": true
   },
   "outputs": [],
   "source": [
    "a[0] = hidden[:, 0, :]\n",
    "a[1] = hidden[:, 1, :]"
   ]
  },
  {
   "cell_type": "code",
   "execution_count": null,
   "metadata": {
    "collapsed": false
   },
   "outputs": [],
   "source": [
    "num_layers * num_directions , batch , hidden_size\n",
    "batch, values\n"
   ]
  },
  {
   "cell_type": "code",
   "execution_count": 246,
   "metadata": {
    "collapsed": true
   },
   "outputs": [],
   "source": [
    "class PromoterModel7(nn.Module):\n",
    "    def __init__(self, hidden_size, first_size = 32, second_size =16, num_layers = 1, bidirectional=True):\n",
    "        super(PromoterModel7, self).__init__()\n",
    "        self.hidden_size = hidden_size\n",
    "        self.encoder = nn.GRU(1, hidden_size, num_layers, bidirectional=bidirectional) # one-hot encoding is expected\n",
    "        self.linear = nn.Sequential(\n",
    "            nn.Linear(hidden_size * num_layers * 2, first_size),\n",
    "            nn.Tanh(),\n",
    "            nn.Linear(first_size, second_size),\n",
    "            nn.Tanh(),\n",
    "            nn.Linear(second_size, 8),\n",
    "            nn.LogSoftmax()\n",
    "            )\n",
    "    def forward(self, sequence):\n",
    "        hidden = Variable(torch.zeros(2, sequence.size(1), self.hidden_size))\n",
    "        output, hidden = self.encoder(sequence, hidden)\n",
    "        \n",
    "        features = Variable(torch.zeros(hidden.size(1), hidden.size(0) * hidden.size(2)))\n",
    "        for i in range(hidden.size(1)):\n",
    "            features[i] = hidden[:, i, :]\n",
    "        return self.linear.forward(features)"
   ]
  },
  {
   "cell_type": "code",
   "execution_count": 247,
   "metadata": {
    "collapsed": false
   },
   "outputs": [],
   "source": [
    "promotor_model = PromoterModel7(40)"
   ]
  },
  {
   "cell_type": "code",
   "execution_count": 248,
   "metadata": {
    "collapsed": false
   },
   "outputs": [],
   "source": [
    "X_rec = np.zeros((20, 11692, 1))"
   ]
  },
  {
   "cell_type": "code",
   "execution_count": 249,
   "metadata": {
    "collapsed": true
   },
   "outputs": [],
   "source": [
    "?nn.GRU"
   ]
  },
  {
   "cell_type": "code",
   "execution_count": 250,
   "metadata": {
    "collapsed": false
   },
   "outputs": [
    {
     "data": {
      "text/plain": [
       "Variable containing:\n",
       "-2.0606 -1.9619 -2.1568 -2.2657 -2.0230 -1.7773 -2.3144 -2.1857\n",
       "-2.0606 -1.9619 -2.1568 -2.2657 -2.0230 -1.7773 -2.3144 -2.1857\n",
       "[torch.FloatTensor of size 2x8]"
      ]
     },
     "execution_count": 250,
     "metadata": {},
     "output_type": "execute_result"
    }
   ],
   "source": [
    "promotor_model.forward(Variable\\\n",
    "        (torch.from_numpy(X_rec[:, 0:2, :])).type(torch.FloatTensor))"
   ]
  },
  {
   "cell_type": "code",
   "execution_count": 251,
   "metadata": {
    "collapsed": false
   },
   "outputs": [],
   "source": [
    "X_train, X_test, Y_train, Y_test = train_test_split(X_seq, Y_aim, test_size=0.33)"
   ]
  },
  {
   "cell_type": "code",
   "execution_count": 252,
   "metadata": {
    "collapsed": false
   },
   "outputs": [
    {
     "name": "stdout",
     "output_type": "stream",
     "text": [
      "(7833, 20)\n",
      "(3859, 20)\n"
     ]
    }
   ],
   "source": [
    "print X_train.shape\n",
    "print X_test.shape"
   ]
  },
  {
   "cell_type": "code",
   "execution_count": 253,
   "metadata": {
    "collapsed": false
   },
   "outputs": [],
   "source": [
    "X_train_new = np.zeros((X_train.shape[1], X_train.shape[0], 1))\n",
    "X_test_new = np.zeros((X_test.shape[1], X_test.shape[0], 1))"
   ]
  },
  {
   "cell_type": "code",
   "execution_count": 254,
   "metadata": {
    "collapsed": true
   },
   "outputs": [],
   "source": [
    "X_train = X_train_new\n",
    "X_test = X_test_new"
   ]
  },
  {
   "cell_type": "code",
   "execution_count": 260,
   "metadata": {
    "collapsed": false
   },
   "outputs": [],
   "source": [
    "promotor_model = PromoterModel7(40)\n",
    "loss_fn = nn.NLLLoss()\n",
    "optimizer = Adam(promotor_model.parameters(), lr=1e-4)"
   ]
  },
  {
   "cell_type": "code",
   "execution_count": 261,
   "metadata": {
    "collapsed": false
   },
   "outputs": [
    {
     "name": "stdout",
     "output_type": "stream",
     "text": [
      "Epoch num 14\n",
      "\n",
      "Train arr\n",
      "Example num 7808\n",
      "Test arr\n",
      "Example num 3840"
     ]
    }
   ],
   "source": [
    "train_loss_arr = []\n",
    "test_loss_arr = []\n",
    "epoch_num = 15\n",
    "batch_size = 32\n",
    "for epoch in range(epoch_num):\n",
    "    sys.stdout.write(\"Epoch num {}\\n\".format(epoch))\n",
    "    sys.stdout.write(\"\\nTrain arr\\n\")\n",
    "    for i in range(0, X_train.shape[1], batch_size):\n",
    "        optimizer.zero_grad()\n",
    "        X_cur = Variable(torch.from_numpy(X_train[:,i:i+batch_size,:]).type(torch.FloatTensor))\n",
    "        Y_cur = Variable(torch.from_numpy(Y_train[i:i+batch_size]).type(torch.LongTensor))\n",
    "        output = promotor_model.forward(X_cur)\n",
    "        loss = loss_fn(output, Y_cur)\n",
    "        train_loss_arr.append(loss.data.numpy()[0])\n",
    "        loss.backward()\n",
    "        optimizer.step()\n",
    "        sys.stdout.write(\"\\rExample num {}\".format(i))\n",
    "    sys.stdout.write(\"\\nTest arr\\n\")\n",
    "    for i in range(0, X_test.shape[1], batch_size):\n",
    "        X_cur = Variable(torch.from_numpy(X_test[:,i:i+batch_size,:]).type(torch.FloatTensor))\n",
    "        Y_cur = Variable(torch.from_numpy(Y_test[i:i+batch_size]).type(torch.LongTensor))\n",
    "        output = promotor_model.forward(X_cur)\n",
    "        loss = loss_fn(output, Y_cur)\n",
    "        test_loss_arr.append(loss.data.numpy()[0])\n",
    "        sys.stdout.write(\"\\rExample num {}\".format(i))\n",
    "    clear_output(wait=True)\n",
    "        "
   ]
  },
  {
   "cell_type": "code",
   "execution_count": 265,
   "metadata": {
    "collapsed": true
   },
   "outputs": [],
   "source": [
    "test_loss_arr = np.array(test_loss_arr)\n",
    "train_loss_arr = np.array(train_loss_arr)"
   ]
  },
  {
   "cell_type": "code",
   "execution_count": 266,
   "metadata": {
    "collapsed": false
   },
   "outputs": [
    {
     "data": {
      "image/png": "[encoded data removed]",
      "text/plain": [
       "<matplotlib.figure.Figure at 0x11a3e1a90>"
      ]
     },
     "metadata": {},
     "output_type": "display_data"
    },
    {
     "data": {
      "image/png": "[encoded data removed]",
      "text/plain": [
       "<matplotlib.figure.Figure at 0x11e7fad10>"
      ]
     },
     "metadata": {},
     "output_type": "display_data"
    }
   ],
   "source": [
    "plt.plot([train_loss_arr[x-500:x].mean()  for x in range(500, train_loss_arr.shape[0], 1)])\n",
    "plt.show()\n",
    "plt.plot([test_loss_arr[x-500:x].mean()  for x in range(500, test_loss_arr.shape[0], 1)])\n",
    "plt.show()"
   ]
  },
  {
   "cell_type": "markdown",
   "metadata": {},
   "source": [
    "Сеть не обучается"
   ]
  },
  {
   "cell_type": "markdown",
   "metadata": {},
   "source": [
    "Для лучшей модели попробуем подавать батчи так, чтобы они всегда содержали равное число представителей каждого класса (пусть по 4)\n",
    "Обнаружил, что при этом сходимость остается, качество чуть падает, но сходимость намного плавнее - возникла идея добавить еще один слой! То, что было до этого можно проверить самим - достаточно вместо PromoterModel8 поставить 4."
   ]
  },
  {
   "cell_type": "code",
   "execution_count": 276,
   "metadata": {
    "collapsed": true
   },
   "outputs": [],
   "source": [
    "X = np.concatenate([X_seq, X_energy], axis = 1)\n",
    "X_train, X_test, Y_train, Y_test = train_test_split(X, Y_aim, test_size=0.33)"
   ]
  },
  {
   "cell_type": "code",
   "execution_count": 320,
   "metadata": {
    "collapsed": false
   },
   "outputs": [],
   "source": [
    "class PromoterModel8(nn.Module):\n",
    "    def __init__(self, nucl_property_size, hidden_size1, hidden_size2, hidden_size3, in_size = 146,  seq_size=20, out_size=8):\n",
    "        super(PromoterModel8, self).__init__()\n",
    "        self.nucl_property_size = nucl_property_size\n",
    "        self.coder = nn.Embedding(4, nucl_property_size) # A U G C\n",
    "        self.full_connected = nn.Sequential(\\\n",
    "                                               nn.Linear( in_size - seq_size +seq_size * nucl_property_size,\\\n",
    "                                                         hidden_size1),\\\n",
    "                                               nn.Tanh(),\\\n",
    "                                               nn.Linear(hidden_size1, hidden_size2),\n",
    "                                               nn.Tanh(),\n",
    "                                               nn.Linear(hidden_size2, hidden_size3),\n",
    "                                               nn.Tanh(),\n",
    "                                               nn.Linear(hidden_size3, out_size),\n",
    "                                               nn.LogSoftmax()\n",
    "                                           )\n",
    "        self.seq_size = seq_size\n",
    "    def forward(self, in_data):\n",
    "        seq_info = in_data[:, :self.seq_size]\n",
    "        \n",
    "        output = self.coder(seq_info.type(torch.LongTensor)).view(seq_info.size(0), -1)\n",
    "        output = torch.cat((output.type(torch.FloatTensor), in_data[:,self.seq_size:] ), 1)\n",
    "        output = self.full_connected(output)\n",
    "        return output\n",
    "        "
   ]
  },
  {
   "cell_type": "code",
   "execution_count": 328,
   "metadata": {
    "collapsed": false
   },
   "outputs": [],
   "source": [
    "promotor_model4 = PromoterModel8(64, 128, 64, 32)\n",
    "criterion = nn.NLLLoss(size_average=True)\n",
    "learning_rate = 1e-4\n",
    "\n",
    "optimizer = Adam(promotor_model4.parameters(), lr=learning_rate, weight_decay=9e-3)"
   ]
  },
  {
   "cell_type": "code",
   "execution_count": 329,
   "metadata": {
    "collapsed": false
   },
   "outputs": [
    {
     "name": "stdout",
     "output_type": "stream",
     "text": [
      "Epoch num 19\n",
      "\n",
      "Train arr\n",
      "Batch num 499\n",
      "Test arr\n",
      "Example num 3840"
     ]
    }
   ],
   "source": [
    "train_loss_arr = []\n",
    "test_loss_arr = []\n",
    "epoch_num = 20\n",
    "batch_size = 32\n",
    "batch_per_epoch = 500\n",
    "\n",
    "X1 = X_train[Y_train == 0]\n",
    "X2 = X_train[Y_train == 1]\n",
    "X3 = X_train[Y_train == 2]\n",
    "X4 = X_train[Y_train == 3]\n",
    "X5 = X_train[Y_train == 4]\n",
    "X6 = X_train[Y_train == 5]\n",
    "X7 = X_train[Y_train == 6]\n",
    "X8 = X_train[Y_train == 7]\n",
    "\n",
    "\n",
    "for epoch in range(epoch_num):\n",
    "    sys.stdout.write(\"Epoch num {}\\n\".format(epoch))\n",
    "    sys.stdout.write(\"\\nTrain arr\\n\")\n",
    "    for i in range(batch_per_epoch):\n",
    "        optimizer.zero_grad()\n",
    "        X_cur = np.zeros( (batch_size, X_train.shape[1]))\n",
    "        X_cur[0:4] = X1[np.random.choice(np.arange(X1.shape[0]), 4)]\n",
    "        X_cur[4:8] = X2[np.random.choice(np.arange(X2.shape[0]), 4)]\n",
    "        X_cur[8:12] = X3[np.random.choice(np.arange(X3.shape[0]), 4)]\n",
    "        X_cur[12:16] = X4[np.random.choice(np.arange(X4.shape[0]), 4)]\n",
    "        X_cur[16:20] = X5[np.random.choice(np.arange(X5.shape[0]), 4)]\n",
    "        X_cur[20:24] = X6[np.random.choice(np.arange(X6.shape[0]), 4)]\n",
    "        X_cur[24:28] = X7[np.random.choice(np.arange(X7.shape[0]), 4)]\n",
    "        X_cur[28:32] = X8[np.random.choice(np.arange(X8.shape[0]), 4)]\n",
    "        \n",
    "        Y_cur = np.array([x for x in range(8) for y in range(4)])\n",
    "        X_cur = Variable(torch.from_numpy(X_cur).type(torch.FloatTensor))\n",
    "        Y_cur = Variable(torch.from_numpy(Y_cur).type(torch.LongTensor))\n",
    "        output = promotor_model4.forward(X_cur)\n",
    "        loss = loss_fn(output, Y_cur)\n",
    "        train_loss_arr.append(loss.data.numpy()[0])\n",
    "        loss.backward()\n",
    "        optimizer.step()\n",
    "        sys.stdout.write(\"\\rBatch num {}\".format(i))\n",
    "        \n",
    "\n",
    "    sys.stdout.write(\"\\nTest arr\\n\")\n",
    "    for i in range(0, X_test.shape[0], batch_size):\n",
    "        X_cur = Variable(torch.from_numpy(X_test[i:i+batch_size]).type(torch.FloatTensor))\n",
    "        Y_cur = Variable(torch.from_numpy(Y_test[i:i+batch_size]).type(torch.LongTensor))\n",
    "        output = promotor_model4.forward(X_cur)\n",
    "        loss = loss_fn(output, Y_cur)\n",
    "        test_loss_arr.append(loss.data.numpy()[0])\n",
    "        sys.stdout.write(\"\\rExample num {}\".format(i))\n",
    "    clear_output(wait=True)"
   ]
  },
  {
   "cell_type": "code",
   "execution_count": 330,
   "metadata": {
    "collapsed": false
   },
   "outputs": [
    {
     "data": {
      "image/png": "[encoded data removed]",
      "text/plain": [
       "<matplotlib.figure.Figure at 0x115cbbcd0>"
      ]
     },
     "metadata": {},
     "output_type": "display_data"
    },
    {
     "data": {
      "image/png": "[encoded data removed]",
      "text/plain": [
       "<matplotlib.figure.Figure at 0x11b7c1f90>"
      ]
     },
     "metadata": {},
     "output_type": "display_data"
    }
   ],
   "source": [
    "test_loss_arr = np.array(test_loss_arr)\n",
    "train_loss_arr = np.array(train_loss_arr)\n",
    "plt.plot([train_loss_arr[x-500:x].mean()  for x in range(500, train_loss_arr.shape[0], 1)])\n",
    "plt.show()\n",
    "plt.plot([test_loss_arr[x-500:x].mean()  for x in range(500, test_loss_arr.shape[0], 1)])\n",
    "plt.show()"
   ]
  },
  {
   "cell_type": "code",
   "execution_count": 331,
   "metadata": {
    "collapsed": false
   },
   "outputs": [
    {
     "name": "stdout",
     "output_type": "stream",
     "text": [
      "Train report\n",
      "Batch 0             precision    recall  f1-score   support\n",
      "\n",
      "          0       0.58      0.76      0.65      1137\n",
      "          1       0.46      0.45      0.45      1249\n",
      "          2       0.48      0.38      0.42      1428\n",
      "          3       0.50      0.49      0.50      1234\n",
      "          4       0.48      0.53      0.51       948\n",
      "          5       0.66      0.56      0.61      1020\n",
      "          6       0.74      0.83      0.78       714\n",
      "          7       0.95      1.00      0.98       103\n",
      "\n",
      "avg / total       0.55      0.55      0.55      7833\n",
      "\n",
      "('Accuracy', 0.55317247542448611)\n",
      "Test report\n",
      "Batch 0\n",
      "             precision    recall  f1-score   support\n",
      "\n",
      "          0       0.51      0.71      0.60       529\n",
      "          1       0.45      0.38      0.41       684\n",
      "          2       0.44      0.34      0.38       739\n",
      "          3       0.35      0.36      0.36       584\n",
      "          4       0.34      0.39      0.36       460\n",
      "          5       0.42      0.41      0.42       472\n",
      "          6       0.53      0.57      0.55       337\n",
      "          7       0.58      0.39      0.47        54\n",
      "\n",
      "avg / total       0.43      0.44      0.43      3859\n",
      "\n",
      "('Accuracy', 0.43586421352682042)\n"
     ]
    }
   ],
   "source": [
    "make_classification_report(promotor_model4, X_train, Y_train, X_test, Y_test)"
   ]
  },
  {
   "cell_type": "markdown",
   "metadata": {},
   "source": [
    " Получилось!!! 0.43 (округлять, так 0.44)"
   ]
  },
  {
   "cell_type": "code",
   "execution_count": 337,
   "metadata": {
    "collapsed": false
   },
   "outputs": [],
   "source": [
    "class PromoterModel9(nn.Module):\n",
    "    def __init__(self, nucl_property_size, hidden_size1, hidden_size2, hidden_size3,\\\n",
    "                 hidden_size4,\n",
    "                 in_size = 146,  seq_size=20, out_size=8):\n",
    "        super(PromoterModel9, self).__init__()\n",
    "        self.nucl_property_size = nucl_property_size\n",
    "        self.coder = nn.Embedding(4, nucl_property_size) # A U G C\n",
    "        self.full_connected = nn.Sequential(\\\n",
    "                                               nn.Linear( in_size - seq_size +seq_size * nucl_property_size,\\\n",
    "                                                         hidden_size1),\\\n",
    "                                               nn.Tanh(),\\\n",
    "                                               nn.Linear(hidden_size1, hidden_size2),\n",
    "                                               nn.Tanh(),\n",
    "                                               nn.Linear(hidden_size2, hidden_size3),\n",
    "                                               nn.Tanh(),\n",
    "                                               nn.Linear(hidden_size3, hidden_size4),\n",
    "                                               nn.Tanh(),\n",
    "                                               nn.Linear(hidden_size4, out_size),\n",
    "                                               nn.LogSoftmax()\n",
    "                                           )\n",
    "        self.seq_size = seq_size\n",
    "    def forward(self, in_data):\n",
    "        seq_info = in_data[:, :self.seq_size]\n",
    "        \n",
    "        output = self.coder(seq_info.type(torch.LongTensor)).view(seq_info.size(0), -1)\n",
    "        output = torch.cat((output.type(torch.FloatTensor), in_data[:,self.seq_size:] ), 1)\n",
    "        output = self.full_connected(output)\n",
    "        return output\n",
    "        "
   ]
  },
  {
   "cell_type": "code",
   "execution_count": 338,
   "metadata": {
    "collapsed": false
   },
   "outputs": [],
   "source": [
    "\n",
    "\n",
    "promotor_model4 = PromoterModel9(64, 256, 128, 64, 32)\n",
    "criterion = nn.NLLLoss(size_average=True)\n",
    "learning_rate = 1e-4\n",
    "\n",
    "optimizer = Adam(promotor_model4.parameters(), lr=learning_rate, weight_decay=9e-3)"
   ]
  },
  {
   "cell_type": "code",
   "execution_count": 339,
   "metadata": {
    "collapsed": false
   },
   "outputs": [
    {
     "name": "stdout",
     "output_type": "stream",
     "text": [
      "Epoch num 19\n",
      "\n",
      "Train arr\n",
      "Batch num 499\n",
      "Test arr\n",
      "Example num 3840"
     ]
    }
   ],
   "source": [
    "train_loss_arr = []\n",
    "test_loss_arr = []\n",
    "epoch_num = 20\n",
    "batch_size = 32\n",
    "batch_per_epoch = 500\n",
    "\n",
    "X1 = X_train[Y_train == 0]\n",
    "X2 = X_train[Y_train == 1]\n",
    "X3 = X_train[Y_train == 2]\n",
    "X4 = X_train[Y_train == 3]\n",
    "X5 = X_train[Y_train == 4]\n",
    "X6 = X_train[Y_train == 5]\n",
    "X7 = X_train[Y_train == 6]\n",
    "X8 = X_train[Y_train == 7]\n",
    "\n",
    "\n",
    "for epoch in range(epoch_num):\n",
    "    sys.stdout.write(\"Epoch num {}\\n\".format(epoch))\n",
    "    sys.stdout.write(\"\\nTrain arr\\n\")\n",
    "    for i in range(batch_per_epoch):\n",
    "        optimizer.zero_grad()\n",
    "        X_cur = np.zeros( (batch_size, X_train.shape[1]))\n",
    "        X_cur[0:4] = X1[np.random.choice(np.arange(X1.shape[0]), 4)]\n",
    "        X_cur[4:8] = X2[np.random.choice(np.arange(X2.shape[0]), 4)]\n",
    "        X_cur[8:12] = X3[np.random.choice(np.arange(X3.shape[0]), 4)]\n",
    "        X_cur[12:16] = X4[np.random.choice(np.arange(X4.shape[0]), 4)]\n",
    "        X_cur[16:20] = X5[np.random.choice(np.arange(X5.shape[0]), 4)]\n",
    "        X_cur[20:24] = X6[np.random.choice(np.arange(X6.shape[0]), 4)]\n",
    "        X_cur[24:28] = X7[np.random.choice(np.arange(X7.shape[0]), 4)]\n",
    "        X_cur[28:32] = X8[np.random.choice(np.arange(X8.shape[0]), 4)]\n",
    "        \n",
    "        Y_cur = np.array([x for x in range(8) for y in range(4)])\n",
    "        X_cur = Variable(torch.from_numpy(X_cur).type(torch.FloatTensor))\n",
    "        Y_cur = Variable(torch.from_numpy(Y_cur).type(torch.LongTensor))\n",
    "        output = promotor_model4.forward(X_cur)\n",
    "        loss = loss_fn(output, Y_cur)\n",
    "        train_loss_arr.append(loss.data.numpy()[0])\n",
    "        loss.backward()\n",
    "        optimizer.step()\n",
    "        sys.stdout.write(\"\\rBatch num {}\".format(i))\n",
    "        \n",
    "\n",
    "    sys.stdout.write(\"\\nTest arr\\n\")\n",
    "    for i in range(0, X_test.shape[0], batch_size):\n",
    "        X_cur = Variable(torch.from_numpy(X_test[i:i+batch_size]).type(torch.FloatTensor))\n",
    "        Y_cur = Variable(torch.from_numpy(Y_test[i:i+batch_size]).type(torch.LongTensor))\n",
    "        output = promotor_model4.forward(X_cur)\n",
    "        loss = loss_fn(output, Y_cur)\n",
    "        test_loss_arr.append(loss.data.numpy()[0])\n",
    "        sys.stdout.write(\"\\rExample num {}\".format(i))\n",
    "    clear_output(wait=True)"
   ]
  },
  {
   "cell_type": "code",
   "execution_count": 340,
   "metadata": {
    "collapsed": false
   },
   "outputs": [
    {
     "data": {
      "image/png": "[encoded data removed]",
      "text/plain": [
       "<matplotlib.figure.Figure at 0x11fd7e690>"
      ]
     },
     "metadata": {},
     "output_type": "display_data"
    },
    {
     "data": {
      "image/png": "[encoded data removed]",
      "text/plain": [
       "<matplotlib.figure.Figure at 0x116b305d0>"
      ]
     },
     "metadata": {},
     "output_type": "display_data"
    }
   ],
   "source": [
    "test_loss_arr = np.array(test_loss_arr)\n",
    "train_loss_arr = np.array(train_loss_arr)\n",
    "plt.plot([train_loss_arr[x-500:x].mean()  for x in range(500, train_loss_arr.shape[0], 1)])\n",
    "plt.show()\n",
    "plt.plot([test_loss_arr[x-500:x].mean()  for x in range(500, test_loss_arr.shape[0], 1)])\n",
    "plt.show()"
   ]
  },
  {
   "cell_type": "code",
   "execution_count": 341,
   "metadata": {
    "collapsed": false
   },
   "outputs": [
    {
     "name": "stdout",
     "output_type": "stream",
     "text": [
      "Train report\n",
      "Batch 0             precision    recall  f1-score   support\n",
      "\n",
      "          0       0.62      0.71      0.66      1137\n",
      "          1       0.48      0.50      0.49      1249\n",
      "          2       0.52      0.45      0.48      1428\n",
      "          3       0.55      0.57      0.56      1234\n",
      "          4       0.58      0.63      0.61       948\n",
      "          5       0.71      0.60      0.65      1020\n",
      "          6       0.77      0.80      0.78       714\n",
      "          7       0.97      0.98      0.98       103\n",
      "\n",
      "avg / total       0.59      0.59      0.59      7833\n",
      "\n",
      "('Accuracy', 0.5941529426784119)\n",
      "Test report\n",
      "Batch 0\n",
      "             precision    recall  f1-score   support\n",
      "\n",
      "          0       0.53      0.63      0.58       529\n",
      "          1       0.44      0.40      0.42       684\n",
      "          2       0.44      0.37      0.40       739\n",
      "          3       0.38      0.42      0.40       584\n",
      "          4       0.33      0.38      0.35       460\n",
      "          5       0.45      0.41      0.43       472\n",
      "          6       0.56      0.54      0.55       337\n",
      "          7       0.59      0.30      0.40        54\n",
      "\n",
      "avg / total       0.44      0.44      0.44      3859\n",
      "\n",
      "('Accuracy', 0.44001036537963201)\n"
     ]
    }
   ],
   "source": [
    "make_classification_report(promotor_model4, X_train, Y_train, X_test, Y_test)"
   ]
  },
  {
   "cell_type": "code",
   "execution_count": 430,
   "metadata": {
    "collapsed": true
   },
   "outputs": [],
   "source": [
    "class PromoterModel10(nn.Module):\n",
    "    def __init__(self, nucl_property_size, hidden_size1, hidden_size2, hidden_size3,\\\n",
    "                 hidden_size4,\n",
    "                 in_size = 146,  seq_size=20, out_size=8):\n",
    "        super(PromoterModel10, self).__init__()\n",
    "        self.nucl_property_size = nucl_property_size\n",
    "        self.coder = nn.Embedding(4, nucl_property_size) # A U G C\n",
    "        self.full_connected = nn.Sequential(\\\n",
    "                                               nn.Linear( in_size - seq_size +seq_size * nucl_property_size,\\\n",
    "                                                         hidden_size1),\\\n",
    "                                               nn.Tanh(),\\\n",
    "                                               nn.Dropout(p=0.3),\n",
    "                                               nn.Linear(hidden_size1, hidden_size2),\n",
    "                                               nn.Tanh(),\n",
    "                                               nn.Dropout(p=0.3),\n",
    "                                               nn.Linear(hidden_size2, hidden_size3),\n",
    "                                               nn.Tanh(),\n",
    "                                               nn.Dropout(p=0.3),\n",
    "                                               nn.Linear(hidden_size3, hidden_size4),\n",
    "                                               nn.Tanh(),\n",
    "                                               nn.Dropout(p=0.3),\n",
    "                                               nn.Linear(hidden_size4, out_size),\n",
    "                                               nn.LogSoftmax()\n",
    "                                           )\n",
    "\n",
    "        self.seq_size = seq_size\n",
    "    def forward(self, in_data):\n",
    "        seq_info = in_data[:, :self.seq_size]\n",
    "        \n",
    "        output = self.coder(seq_info.type(torch.LongTensor)).view(seq_info.size(0), -1)\n",
    "        output = torch.cat((output.type(torch.FloatTensor), in_data[:,self.seq_size:] ), 1)\n",
    "        output = self.full_connected(output)\n",
    "        return output\n",
    "        "
   ]
  },
  {
   "cell_type": "code",
   "execution_count": 449,
   "metadata": {
    "collapsed": false
   },
   "outputs": [],
   "source": [
    "\n",
    "\n",
    "promotor_model4 = PromoterModel10(64, 512, 256, 128, 64)\n",
    "criterion = nn.NLLLoss(size_average=True)\n",
    "learning_rate = 1e-4\n",
    "\n",
    "optimizer = Adam(promotor_model4.parameters(), lr=learning_rate, weight_decay=1e-3)"
   ]
  },
  {
   "cell_type": "code",
   "execution_count": 450,
   "metadata": {
    "collapsed": false
   },
   "outputs": [
    {
     "name": "stdout",
     "output_type": "stream",
     "text": [
      "Epoch num 19\n",
      "\n",
      "Train arr\n",
      "Batch num 499\n",
      "Test arr\n",
      "Example num 3840"
     ]
    }
   ],
   "source": [
    "train_loss_arr = []\n",
    "test_loss_arr = []\n",
    "epoch_num = 20\n",
    "batch_size = 32\n",
    "batch_per_epoch = 500\n",
    "\n",
    "X1 = X_train[Y_train == 0]\n",
    "X2 = X_train[Y_train == 1]\n",
    "X3 = X_train[Y_train == 2]\n",
    "X4 = X_train[Y_train == 3]\n",
    "X5 = X_train[Y_train == 4]\n",
    "X6 = X_train[Y_train == 5]\n",
    "X7 = X_train[Y_train == 6]\n",
    "X8 = X_train[Y_train == 7]\n",
    "\n",
    "\n",
    "for epoch in range(epoch_num):\n",
    "    sys.stdout.write(\"Epoch num {}\\n\".format(epoch))\n",
    "    sys.stdout.write(\"\\nTrain arr\\n\")\n",
    "    for i in range(batch_per_epoch):\n",
    "        optimizer.zero_grad()\n",
    "        X_cur = np.zeros( (batch_size, X_train.shape[1]))\n",
    "        X_cur[0:4] = X1[np.random.choice(np.arange(X1.shape[0]), 4)]\n",
    "        X_cur[4:8] = X2[np.random.choice(np.arange(X2.shape[0]), 4)]\n",
    "        X_cur[8:12] = X3[np.random.choice(np.arange(X3.shape[0]), 4)]\n",
    "        X_cur[12:16] = X4[np.random.choice(np.arange(X4.shape[0]), 4)]\n",
    "        X_cur[16:20] = X5[np.random.choice(np.arange(X5.shape[0]), 4)]\n",
    "        X_cur[20:24] = X6[np.random.choice(np.arange(X6.shape[0]), 4)]\n",
    "        X_cur[24:28] = X7[np.random.choice(np.arange(X7.shape[0]), 4)]\n",
    "        X_cur[28:32] = X8[np.random.choice(np.arange(X8.shape[0]), 4)]\n",
    "        \n",
    "        Y_cur = np.array([x for x in range(8) for y in range(4)])\n",
    "        X_cur = Variable(torch.from_numpy(X_cur).type(torch.FloatTensor))\n",
    "        Y_cur = Variable(torch.from_numpy(Y_cur).type(torch.LongTensor))\n",
    "        output = promotor_model4.forward(X_cur)\n",
    "        loss = loss_fn(output, Y_cur)\n",
    "        train_loss_arr.append(loss.data.numpy()[0])\n",
    "        loss.backward()\n",
    "        optimizer.step()\n",
    "        sys.stdout.write(\"\\rBatch num {}\".format(i))\n",
    "        \n",
    "\n",
    "    sys.stdout.write(\"\\nTest arr\\n\")\n",
    "    for i in range(0, X_test.shape[0], batch_size):\n",
    "        X_cur = Variable(torch.from_numpy(X_test[i:i+batch_size]).type(torch.FloatTensor))\n",
    "        Y_cur = Variable(torch.from_numpy(Y_test[i:i+batch_size]).type(torch.LongTensor))\n",
    "        output = promotor_model4.forward(X_cur)\n",
    "        loss = loss_fn(output, Y_cur)\n",
    "        test_loss_arr.append(loss.data.numpy()[0])\n",
    "        sys.stdout.write(\"\\rExample num {}\".format(i))\n",
    "    clear_output(wait=True)"
   ]
  },
  {
   "cell_type": "code",
   "execution_count": 451,
   "metadata": {
    "collapsed": false
   },
   "outputs": [
    {
     "data": {
      "image/png": "[encoded data removed]",
      "text/plain": [
       "<matplotlib.figure.Figure at 0x11951aed0>"
      ]
     },
     "metadata": {},
     "output_type": "display_data"
    },
    {
     "data": {
      "image/png": "[encoded data removed]",
      "text/plain": [
       "<matplotlib.figure.Figure at 0x127fb5650>"
      ]
     },
     "metadata": {},
     "output_type": "display_data"
    }
   ],
   "source": [
    "test_loss_arr = np.array(test_loss_arr)\n",
    "train_loss_arr = np.array(train_loss_arr)\n",
    "plt.plot([train_loss_arr[x-500:x].mean()  for x in range(500, train_loss_arr.shape[0], 1)])\n",
    "plt.show()\n",
    "plt.plot([test_loss_arr[x-500:x].mean()  for x in range(500, test_loss_arr.shape[0], 1)])\n",
    "plt.show()"
   ]
  },
  {
   "cell_type": "code",
   "execution_count": 452,
   "metadata": {
    "collapsed": false
   },
   "outputs": [
    {
     "data": {
      "text/plain": [
       "PromoterModel10 (\n",
       "  (coder): Embedding(4, 64)\n",
       "  (full_connected): Sequential (\n",
       "    (0): Linear (1406 -> 512)\n",
       "    (1): Tanh ()\n",
       "    (2): Dropout (p = 0.3)\n",
       "    (3): Linear (512 -> 256)\n",
       "    (4): Tanh ()\n",
       "    (5): Dropout (p = 0.3)\n",
       "    (6): Linear (256 -> 128)\n",
       "    (7): Tanh ()\n",
       "    (8): Dropout (p = 0.3)\n",
       "    (9): Linear (128 -> 64)\n",
       "    (10): Tanh ()\n",
       "    (11): Dropout (p = 0.3)\n",
       "    (12): Linear (64 -> 8)\n",
       "    (13): LogSoftmax ()\n",
       "  )\n",
       ")"
      ]
     },
     "execution_count": 452,
     "metadata": {},
     "output_type": "execute_result"
    }
   ],
   "source": [
    "promotor_model4.eval()"
   ]
  },
  {
   "cell_type": "code",
   "execution_count": 453,
   "metadata": {
    "collapsed": false
   },
   "outputs": [
    {
     "name": "stdout",
     "output_type": "stream",
     "text": [
      "Train report\n",
      "Batch 0             precision    recall  f1-score   support\n",
      "\n",
      "          0       0.73      0.87      0.79      1137\n",
      "          1       0.62      0.65      0.64      1249\n",
      "          2       0.65      0.54      0.59      1428\n",
      "          3       0.62      0.62      0.62      1234\n",
      "          4       0.62      0.67      0.64       948\n",
      "          5       0.80      0.66      0.73      1020\n",
      "          6       0.82      0.87      0.85       714\n",
      "          7       0.96      1.00      0.98       103\n",
      "\n",
      "avg / total       0.69      0.69      0.68      7833\n",
      "\n",
      "('Accuracy', 0.68658240776203239)\n",
      "Test report\n",
      "Batch 0\n",
      "             precision    recall  f1-score   support\n",
      "\n",
      "          0       0.52      0.64      0.58       529\n",
      "          1       0.46      0.43      0.44       684\n",
      "          2       0.44      0.37      0.40       739\n",
      "          3       0.36      0.40      0.38       584\n",
      "          4       0.35      0.40      0.37       460\n",
      "          5       0.46      0.38      0.42       472\n",
      "          6       0.56      0.58      0.57       337\n",
      "          7       0.53      0.31      0.40        54\n",
      "\n",
      "avg / total       0.44      0.44      0.44      3859\n",
      "\n",
      "('Accuracy', 0.44337911376004147)\n"
     ]
    }
   ],
   "source": [
    "make_classification_report(promotor_model4, X_train, Y_train, X_test, Y_test)"
   ]
  },
  {
   "cell_type": "code",
   "execution_count": 612,
   "metadata": {
    "collapsed": true
   },
   "outputs": [],
   "source": [
    "promotor_model4 = PromoterModel10(64, 512, 256, 128, 64)"
   ]
  },
  {
   "cell_type": "code",
   "execution_count": 487,
   "metadata": {
    "collapsed": true
   },
   "outputs": [],
   "source": [
    "promotor_model4 = PromoterModel10(64, 512, 256, 128, 64)\n",
    "criterion = nn.NLLLoss(size_average=True)\n",
    "learning_rate = 1e-4\n",
    "\n",
    "optimizer = Adam(promotor_model4.parameters(), lr=learning_rate, weight_decay=1e-3)"
   ]
  },
  {
   "cell_type": "code",
   "execution_count": 488,
   "metadata": {
    "collapsed": false
   },
   "outputs": [
    {
     "name": "stdout",
     "output_type": "stream",
     "text": [
      "Epoch num 9\n",
      "\n",
      "Train arr\n",
      "Batch num 249\n",
      "Test arr\n",
      "Example num 3840"
     ]
    }
   ],
   "source": [
    "train_loss_arr = []\n",
    "test_loss_arr = []\n",
    "epoch_num = 10\n",
    "batch_size = 64\n",
    "batch_per_epoch = 250\n",
    "\n",
    "X1 = X_train[Y_train == 0]\n",
    "X2 = X_train[Y_train == 1]\n",
    "X3 = X_train[Y_train == 2]\n",
    "X4 = X_train[Y_train == 3]\n",
    "X5 = X_train[Y_train == 4]\n",
    "X6 = X_train[Y_train == 5]\n",
    "X7 = X_train[Y_train == 6]\n",
    "X8 = X_train[Y_train == 7]\n",
    "\n",
    "\n",
    "for epoch in range(epoch_num):\n",
    "    sys.stdout.write(\"Epoch num {}\\n\".format(epoch))\n",
    "    sys.stdout.write(\"\\nTrain arr\\n\")\n",
    "    promotor_model4.train()\n",
    "    for i in range(batch_per_epoch):\n",
    "        \n",
    "        optimizer.zero_grad()\n",
    "        X_cur = np.zeros( (batch_size, X_train.shape[1]))\n",
    "        X_cur[0:8] = X1[np.random.choice(np.arange(X1.shape[0]), 8)]\n",
    "        X_cur[8:16] = X2[np.random.choice(np.arange(X2.shape[0]), 8)]\n",
    "        X_cur[16:24] = X3[np.random.choice(np.arange(X3.shape[0]), 8)]\n",
    "        X_cur[24:32] = X4[np.random.choice(np.arange(X4.shape[0]), 8)]\n",
    "        X_cur[32:40] = X5[np.random.choice(np.arange(X5.shape[0]), 8)]\n",
    "        X_cur[40:48] = X6[np.random.choice(np.arange(X6.shape[0]), 8)]\n",
    "        X_cur[48:56] = X7[np.random.choice(np.arange(X7.shape[0]), 8)]\n",
    "        X_cur[56:64] = X8[np.random.choice(np.arange(X8.shape[0]), 8)]\n",
    "        \n",
    "        Y_cur = np.array([x for x in range(8) for y in range(8)])\n",
    "        X_cur = Variable(torch.from_numpy(X_cur).type(torch.FloatTensor))\n",
    "        Y_cur = Variable(torch.from_numpy(Y_cur).type(torch.LongTensor))\n",
    "        output = promotor_model4.forward(X_cur)\n",
    "        loss = loss_fn(output, Y_cur)\n",
    "        train_loss_arr.append(loss.data.numpy()[0])\n",
    "        loss.backward()\n",
    "        optimizer.step()\n",
    "        sys.stdout.write(\"\\rBatch num {}\".format(i))\n",
    "        \n",
    "    promotor_model4.eval()\n",
    "    sys.stdout.write(\"\\nTest arr\\n\")\n",
    "    for i in range(0, X_test.shape[0], batch_size):\n",
    "        X_cur = Variable(torch.from_numpy(X_test[i:i+batch_size]).type(torch.FloatTensor))\n",
    "        Y_cur = Variable(torch.from_numpy(Y_test[i:i+batch_size]).type(torch.LongTensor))\n",
    "        output = promotor_model4.forward(X_cur)\n",
    "        loss = loss_fn(output, Y_cur)\n",
    "        test_loss_arr.append(loss.data.numpy()[0])\n",
    "        sys.stdout.write(\"\\rExample num {}\".format(i))\n",
    "    \n",
    "    clear_output(wait=True)\n",
    "    "
   ]
  },
  {
   "cell_type": "code",
   "execution_count": 489,
   "metadata": {
    "collapsed": false
   },
   "outputs": [
    {
     "data": {
      "image/png": "[encoded data removed]",
      "text/plain": [
       "<matplotlib.figure.Figure at 0x11b95b2d0>"
      ]
     },
     "metadata": {},
     "output_type": "display_data"
    },
    {
     "data": {
      "image/png": "[encoded data removed]",
      "text/plain": [
       "<matplotlib.figure.Figure at 0x1156c9b90>"
      ]
     },
     "metadata": {},
     "output_type": "display_data"
    }
   ],
   "source": [
    "test_loss_arr = np.array(test_loss_arr)\n",
    "train_loss_arr = np.array(train_loss_arr)\n",
    "plt.plot([np.median(train_loss_arr[x-500:x])  for x in range(500, train_loss_arr.shape[0], 1)])\n",
    "plt.show()\n",
    "plt.plot([np.median(test_loss_arr[x-500:x])  for x in range(500, test_loss_arr.shape[0], 1)])\n",
    "plt.show()"
   ]
  },
  {
   "cell_type": "code",
   "execution_count": 490,
   "metadata": {
    "collapsed": false
   },
   "outputs": [
    {
     "name": "stdout",
     "output_type": "stream",
     "text": [
      "Train report\n",
      "Batch 0             precision    recall  f1-score   support\n",
      "\n",
      "          0       0.73      0.75      0.74      1137\n",
      "          1       0.57      0.66      0.61      1249\n",
      "          2       0.61      0.50      0.55      1428\n",
      "          3       0.61      0.61      0.61      1234\n",
      "          4       0.63      0.68      0.65       948\n",
      "          5       0.79      0.74      0.76      1020\n",
      "          6       0.84      0.89      0.86       714\n",
      "          7       0.98      1.00      0.99       103\n",
      "\n",
      "avg / total       0.67      0.67      0.67      7833\n",
      "\n",
      "('Accuracy', 0.6720285969615728)\n",
      "Test report\n",
      "Batch 0\n",
      "             precision    recall  f1-score   support\n",
      "\n",
      "          0       0.56      0.54      0.55       529\n",
      "          1       0.45      0.49      0.47       684\n",
      "          2       0.45      0.36      0.40       739\n",
      "          3       0.37      0.40      0.38       584\n",
      "          4       0.34      0.39      0.36       460\n",
      "          5       0.44      0.42      0.43       472\n",
      "          6       0.52      0.57      0.54       337\n",
      "          7       0.47      0.31      0.38        54\n",
      "\n",
      "avg / total       0.45      0.44      0.44      3859\n",
      "\n",
      "('Accuracy', 0.44286084477844001)\n"
     ]
    }
   ],
   "source": [
    "promotor_model4.eval()\n",
    "make_classification_report(promotor_model4, X_train, Y_train, X_test, Y_test)"
   ]
  },
  {
   "cell_type": "code",
   "execution_count": 563,
   "metadata": {
    "collapsed": true
   },
   "outputs": [],
   "source": [
    "promotor_model4 = PromoterModel10(64, 512, 256, 128, 64)\n",
    "criterion = nn.NLLLoss(size_average=True)\n",
    "learning_rate = 1e-4\n",
    "\n",
    "optimizer = Adam(promotor_model4.parameters(), lr=learning_rate, weight_decay=1e-3)"
   ]
  },
  {
   "cell_type": "code",
   "execution_count": 564,
   "metadata": {
    "collapsed": false
   },
   "outputs": [
    {
     "name": "stdout",
     "output_type": "stream",
     "text": [
      "Epoch num 14\n",
      "\n",
      "Train arr\n",
      "Batch num 124\n",
      "Test arr\n",
      "Example num 3840"
     ]
    }
   ],
   "source": [
    "train_loss_arr = []\n",
    "test_loss_arr = []\n",
    "epoch_num = 15\n",
    "batch_size = 128\n",
    "batch_per_epoch = 125\n",
    "\n",
    "X1 = X_train[Y_train == 0]\n",
    "X2 = X_train[Y_train == 1]\n",
    "X3 = X_train[Y_train == 2]\n",
    "X4 = X_train[Y_train == 3]\n",
    "X5 = X_train[Y_train == 4]\n",
    "X6 = X_train[Y_train == 5]\n",
    "X7 = X_train[Y_train == 6]\n",
    "X8 = X_train[Y_train == 7]\n",
    "\n",
    "\n",
    "for epoch in range(epoch_num):\n",
    "    sys.stdout.write(\"Epoch num {}\\n\".format(epoch))\n",
    "    sys.stdout.write(\"\\nTrain arr\\n\")\n",
    "    promotor_model4.train()\n",
    "    for i in range(batch_per_epoch):\n",
    "        \n",
    "        optimizer.zero_grad()\n",
    "        X_cur = np.zeros( (batch_size, X_train.shape[1]))\n",
    "        X_cur[0:16] = X1[np.random.choice(np.arange(X1.shape[0]), 16)]\n",
    "        X_cur[16:32] = X2[np.random.choice(np.arange(X2.shape[0]), 16)]\n",
    "        X_cur[32:48] = X3[np.random.choice(np.arange(X3.shape[0]), 16)]\n",
    "        X_cur[48:64] = X4[np.random.choice(np.arange(X4.shape[0]), 16)]\n",
    "        X_cur[64:80] = X5[np.random.choice(np.arange(X5.shape[0]), 16)]\n",
    "        X_cur[80:96] = X6[np.random.choice(np.arange(X6.shape[0]), 16)]\n",
    "        X_cur[96:112] = X7[np.random.choice(np.arange(X7.shape[0]), 16)]\n",
    "        X_cur[112:128] = X8[np.random.choice(np.arange(X8.shape[0]), 16)]\n",
    "        \n",
    "        Y_cur = np.array([x for x in range(8) for y in range(16)])\n",
    "        X_cur = Variable(torch.from_numpy(X_cur).type(torch.FloatTensor))\n",
    "        Y_cur = Variable(torch.from_numpy(Y_cur).type(torch.LongTensor))\n",
    "        output = promotor_model4.forward(X_cur)\n",
    "        loss = loss_fn(output, Y_cur)\n",
    "        train_loss_arr.append(loss.data.numpy()[0])\n",
    "        loss.backward()\n",
    "        optimizer.step()\n",
    "        sys.stdout.write(\"\\rBatch num {}\".format(i))\n",
    "        \n",
    "    promotor_model4.eval()\n",
    "    sys.stdout.write(\"\\nTest arr\\n\")\n",
    "    for i in range(0, X_test.shape[0], batch_size):\n",
    "        X_cur = Variable(torch.from_numpy(X_test[i:i+batch_size]).type(torch.FloatTensor))\n",
    "        Y_cur = Variable(torch.from_numpy(Y_test[i:i+batch_size]).type(torch.LongTensor))\n",
    "        output = promotor_model4.forward(X_cur)\n",
    "        loss = loss_fn(output, Y_cur)\n",
    "        test_loss_arr.append(loss.data.numpy()[0])\n",
    "        sys.stdout.write(\"\\rExample num {}\".format(i))\n",
    "    \n",
    "    clear_output(wait=True)\n",
    "    "
   ]
  },
  {
   "cell_type": "code",
   "execution_count": 565,
   "metadata": {
    "collapsed": false
   },
   "outputs": [
    {
     "data": {
      "image/png": "[encoded data removed]",
      "text/plain": [
       "<matplotlib.figure.Figure at 0x122f24a10>"
      ]
     },
     "metadata": {},
     "output_type": "display_data"
    },
    {
     "data": {
      "image/png": "[encoded data removed]",
      "text/plain": [
       "<matplotlib.figure.Figure at 0x1181a0c10>"
      ]
     },
     "metadata": {},
     "output_type": "display_data"
    }
   ],
   "source": [
    "test_loss_arr = np.array(test_loss_arr)\n",
    "train_loss_arr = np.array(train_loss_arr)\n",
    "plt.plot([np.median(train_loss_arr[x-500:x])  for x in range(500, train_loss_arr.shape[0], 1)])\n",
    "plt.show()\n",
    "plt.plot([np.median(test_loss_arr[x-10:x])  for x in range(10, test_loss_arr.shape[0], 1)])\n",
    "plt.show()"
   ]
  },
  {
   "cell_type": "code",
   "execution_count": 566,
   "metadata": {
    "collapsed": false
   },
   "outputs": [
    {
     "name": "stdout",
     "output_type": "stream",
     "text": [
      "Train report\n",
      "Batch 0             precision    recall  f1-score   support\n",
      "\n",
      "          0       0.57      0.76      0.66      1137\n",
      "          1       0.45      0.46      0.46      1249\n",
      "          2       0.50      0.39      0.44      1428\n",
      "          3       0.52      0.48      0.50      1234\n",
      "          4       0.48      0.49      0.48       948\n",
      "          5       0.61      0.55      0.58      1020\n",
      "          6       0.70      0.76      0.73       714\n",
      "          7       0.97      1.00      0.99       103\n",
      "\n",
      "avg / total       0.54      0.55      0.54      7833\n",
      "\n",
      "('Accuracy', 0.54602323503127792)\n",
      "Test report\n",
      "Batch 0\n",
      "             precision    recall  f1-score   support\n",
      "\n",
      "          0       0.50      0.69      0.58       529\n",
      "          1       0.43      0.40      0.42       684\n",
      "          2       0.44      0.34      0.38       739\n",
      "          3       0.35      0.35      0.35       584\n",
      "          4       0.32      0.35      0.34       460\n",
      "          5       0.43      0.43      0.43       472\n",
      "          6       0.53      0.55      0.54       337\n",
      "          7       0.61      0.26      0.36        54\n",
      "\n",
      "avg / total       0.43      0.43      0.43      3859\n",
      "\n",
      "('Accuracy', 0.43016325472920447)\n"
     ]
    }
   ],
   "source": [
    "promotor_model4.eval()\n",
    "make_classification_report(promotor_model4, X_train, Y_train, X_test, Y_test)"
   ]
  },
  {
   "cell_type": "code",
   "execution_count": 603,
   "metadata": {
    "collapsed": false
   },
   "outputs": [],
   "source": [
    "class PromoterModel11(nn.Module):\n",
    "    def __init__(self, nucl_property_size, hidden_size1, hidden_size2, hidden_size3,\\\n",
    "                 hidden_size4, hidden_size5,\n",
    "                 in_size = 146,  seq_size=20, out_size=8):\n",
    "        super(PromoterModel11, self).__init__()\n",
    "        self.nucl_property_size = nucl_property_size\n",
    "        self.coder = nn.Embedding(4, nucl_property_size) # A U G C\n",
    "        self.full_connected = nn.Sequential(\\\n",
    "                                               nn.Linear( in_size - seq_size +seq_size * nucl_property_size,\\\n",
    "                                                         hidden_size1),\\\n",
    "                                               nn.Tanh(),\\\n",
    "                                               nn.Dropout(p=0.2),\n",
    "                                               nn.Linear(hidden_size1, hidden_size2),\n",
    "                                               nn.Tanh(),\n",
    "                                               nn.Dropout(p=0.2),\n",
    "                                               nn.Linear(hidden_size2, hidden_size3),\n",
    "                                               nn.Tanh(),\n",
    "                                               nn.Dropout(p=0.2),\n",
    "                                               nn.Linear(hidden_size3, hidden_size4),\n",
    "                                               nn.Tanh(),\n",
    "                                               nn.Dropout(p=0.2),\n",
    "                                               nn.Linear(hidden_size4, hidden_size5),\n",
    "                                               nn.Tanh(),\n",
    "                                               nn.Dropout(p=0.2),\n",
    "                                               nn.Linear(hidden_size5, out_size),\n",
    "                                               nn.LogSoftmax()\n",
    "                                           )\n",
    "\n",
    "        self.seq_size = seq_size\n",
    "    def forward(self, in_data):\n",
    "        seq_info = in_data[:, :self.seq_size]\n",
    "        \n",
    "        output = self.coder(seq_info.type(torch.LongTensor)).view(seq_info.size(0), -1)\n",
    "        output = torch.cat((output.type(torch.FloatTensor), in_data[:,self.seq_size:] ), 1)\n",
    "        output = self.full_connected(output)\n",
    "        return output\n",
    "        "
   ]
  },
  {
   "cell_type": "code",
   "execution_count": 604,
   "metadata": {
    "collapsed": true
   },
   "outputs": [],
   "source": [
    "promotor_model5 = PromoterModel11(64, 512, 256, 128, 64, 32)\n",
    "criterion = nn.NLLLoss(size_average=True)\n",
    "learning_rate = 1e-4\n",
    "\n",
    "optimizer = Adam(promotor_model5.parameters(), lr=learning_rate, weight_decay=1e-3)"
   ]
  },
  {
   "cell_type": "code",
   "execution_count": 605,
   "metadata": {
    "collapsed": false
   },
   "outputs": [
    {
     "name": "stdout",
     "output_type": "stream",
     "text": [
      "Epoch num 9\n",
      "\n",
      "Train arr\n",
      "Batch num 249\n",
      "Test arr\n",
      "Example num 3840"
     ]
    }
   ],
   "source": [
    "train_loss_arr = []\n",
    "test_loss_arr = []\n",
    "epoch_num = 10\n",
    "batch_size = 64\n",
    "batch_per_epoch = 250\n",
    "\n",
    "X1 = X_train[Y_train == 0]\n",
    "X2 = X_train[Y_train == 1]\n",
    "X3 = X_train[Y_train == 2]\n",
    "X4 = X_train[Y_train == 3]\n",
    "X5 = X_train[Y_train == 4]\n",
    "X6 = X_train[Y_train == 5]\n",
    "X7 = X_train[Y_train == 6]\n",
    "X8 = X_train[Y_train == 7]\n",
    "\n",
    "\n",
    "for epoch in range(epoch_num):\n",
    "    sys.stdout.write(\"Epoch num {}\\n\".format(epoch))\n",
    "    sys.stdout.write(\"\\nTrain arr\\n\")\n",
    "    promotor_model5.train()\n",
    "    for i in range(batch_per_epoch):\n",
    "        \n",
    "        optimizer.zero_grad()\n",
    "        X_cur = np.zeros( (batch_size, X_train.shape[1]))\n",
    "        X_cur[0:8] = X1[np.random.choice(np.arange(X1.shape[0]), 8)]\n",
    "        X_cur[8:16] = X2[np.random.choice(np.arange(X2.shape[0]), 8)]\n",
    "        X_cur[16:24] = X3[np.random.choice(np.arange(X3.shape[0]), 8)]\n",
    "        X_cur[24:32] = X4[np.random.choice(np.arange(X4.shape[0]), 8)]\n",
    "        X_cur[32:40] = X5[np.random.choice(np.arange(X5.shape[0]), 8)]\n",
    "        X_cur[40:48] = X6[np.random.choice(np.arange(X6.shape[0]), 8)]\n",
    "        X_cur[48:56] = X7[np.random.choice(np.arange(X7.shape[0]), 8)]\n",
    "        X_cur[56:64] = X8[np.random.choice(np.arange(X8.shape[0]), 8)]\n",
    "        \n",
    "        Y_cur = np.array([x for x in range(8) for y in range(8)])\n",
    "        X_cur = Variable(torch.from_numpy(X_cur).type(torch.FloatTensor))\n",
    "        Y_cur = Variable(torch.from_numpy(Y_cur).type(torch.LongTensor))\n",
    "        output = promotor_model5.forward(X_cur)\n",
    "        loss = loss_fn(output, Y_cur)\n",
    "        train_loss_arr.append(loss.data.numpy()[0])\n",
    "        loss.backward()\n",
    "        optimizer.step()\n",
    "        sys.stdout.write(\"\\rBatch num {}\".format(i))\n",
    "        \n",
    "    promotor_model5.eval()\n",
    "    sys.stdout.write(\"\\nTest arr\\n\")\n",
    "    for i in range(0, X_test.shape[0], batch_size):\n",
    "        X_cur = Variable(torch.from_numpy(X_test[i:i+batch_size]).type(torch.FloatTensor))\n",
    "        Y_cur = Variable(torch.from_numpy(Y_test[i:i+batch_size]).type(torch.LongTensor))\n",
    "        output = promotor_model5.forward(X_cur)\n",
    "        loss = loss_fn(output, Y_cur)\n",
    "        test_loss_arr.append(loss.data.numpy()[0])\n",
    "        sys.stdout.write(\"\\rExample num {}\".format(i))\n",
    "    \n",
    "    clear_output(wait=True)"
   ]
  },
  {
   "cell_type": "code",
   "execution_count": 606,
   "metadata": {
    "collapsed": false
   },
   "outputs": [
    {
     "data": {
      "image/png": "[encoded data removed]",
      "text/plain": [
       "<matplotlib.figure.Figure at 0x119a2d950>"
      ]
     },
     "metadata": {},
     "output_type": "display_data"
    },
    {
     "data": {
      "image/png": "[encoded data removed]",
      "text/plain": [
       "<matplotlib.figure.Figure at 0x11712b050>"
      ]
     },
     "metadata": {},
     "output_type": "display_data"
    }
   ],
   "source": [
    "test_loss_arr = np.array(test_loss_arr)\n",
    "train_loss_arr = np.array(train_loss_arr)\n",
    "plt.plot([np.median(train_loss_arr[x-500:x])  for x in range(500, train_loss_arr.shape[0], 1)])\n",
    "plt.show()\n",
    "plt.plot([np.median(test_loss_arr[x-10:x])  for x in range(10, test_loss_arr.shape[0], 1)])\n",
    "plt.show()"
   ]
  },
  {
   "cell_type": "code",
   "execution_count": 607,
   "metadata": {
    "collapsed": false
   },
   "outputs": [
    {
     "name": "stdout",
     "output_type": "stream",
     "text": [
      "Train report\n",
      "Batch 0             precision    recall  f1-score   support\n",
      "\n",
      "          0       0.67      0.68      0.68      1137\n",
      "          1       0.49      0.49      0.49      1249\n",
      "          2       0.50      0.44      0.47      1428\n",
      "          3       0.49      0.49      0.49      1234\n",
      "          4       0.46      0.55      0.50       948\n",
      "          5       0.56      0.40      0.47      1020\n",
      "          6       0.58      0.81      0.68       714\n",
      "          7       0.99      0.97      0.98       103\n",
      "\n",
      "avg / total       0.54      0.54      0.53      7833\n",
      "\n",
      "('Accuracy', 0.53912932465211283)\n",
      "Test report\n",
      "Batch 0\n",
      "             precision    recall  f1-score   support\n",
      "\n",
      "          0       0.54      0.55      0.54       529\n",
      "          1       0.44      0.40      0.42       684\n",
      "          2       0.43      0.36      0.39       739\n",
      "          3       0.35      0.38      0.36       584\n",
      "          4       0.32      0.41      0.36       460\n",
      "          5       0.36      0.27      0.31       472\n",
      "          6       0.46      0.65      0.54       337\n",
      "          7       0.54      0.26      0.35        54\n",
      "\n",
      "avg / total       0.42      0.41      0.41      3859\n",
      "\n",
      "('Accuracy', 0.41357864731795801)\n"
     ]
    }
   ],
   "source": [
    "promotor_model5.eval()\n",
    "make_classification_report(promotor_model5, X_train, Y_train, X_test, Y_test)"
   ]
  },
  {
   "cell_type": "code",
   "execution_count": 610,
   "metadata": {
    "collapsed": true
   },
   "outputs": [],
   "source": [
    "promotor_model4 = PromoterModel4(64, 128, 32)"
   ]
  },
  {
   "cell_type": "code",
   "execution_count": 611,
   "metadata": {
    "collapsed": false
   },
   "outputs": [
    {
     "data": {
      "text/plain": [
       "PromoterModel4 (\n",
       "  (coder): Embedding(4, 64)\n",
       "  (full_connected): Sequential (\n",
       "    (0): Linear (1406 -> 128)\n",
       "    (1): Tanh ()\n",
       "    (2): Linear (128 -> 32)\n",
       "    (3): Tanh ()\n",
       "    (4): Linear (32 -> 8)\n",
       "    (5): LogSoftmax ()\n",
       "  )\n",
       ")"
      ]
     },
     "execution_count": 611,
     "metadata": {},
     "output_type": "execute_result"
    }
   ],
   "source": [
    "promotor_model4.eval()"
   ]
  },
  {
   "cell_type": "code",
   "execution_count": null,
   "metadata": {
    "collapsed": true
   },
   "outputs": [],
   "source": []
  }
 ],
 "metadata": {
  "anaconda-cloud": {},
  "kernelspec": {
   "display_name": "Python [default]",
   "language": "python",
   "name": "python2"
  },
  "language_info": {
   "codemirror_mode": {
    "name": "ipython",
    "version": 2
   },
   "file_extension": ".py",
   "mimetype": "text/x-python",
   "name": "python",
   "nbconvert_exporter": "python",
   "pygments_lexer": "ipython2",
   "version": "2.7.12"
  }
 },
 "nbformat": 4,
 "nbformat_minor": 1
}
