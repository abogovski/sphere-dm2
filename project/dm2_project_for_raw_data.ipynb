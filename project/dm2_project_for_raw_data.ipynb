{
 "cells": [
  {
   "cell_type": "code",
   "execution_count": 1,
   "metadata": {
    "collapsed": false,
    "deletable": true,
    "editable": true
   },
   "outputs": [],
   "source": [
    "import numpy as np\n",
    "import pandas as pd\n",
    "from sklearn.linear_model import LinearRegression, LogisticRegression\n",
    "from sklearn.metrics import mean_squared_error, accuracy_score\n",
    "from sklearn.model_selection import train_test_split\n",
    "from __future__ import print_function\n",
    "from builtins import range\n",
    "import matplotlib.pyplot as plt\n",
    "import torch\n",
    "from torch import nn\n",
    "from torch.autograd import Variable\n",
    "%matplotlib inline"
   ]
  },
  {
   "cell_type": "markdown",
   "metadata": {
    "deletable": true,
    "editable": true
   },
   "source": [
    "# Dataset"
   ]
  },
  {
   "cell_type": "code",
   "execution_count": 2,
   "metadata": {
    "collapsed": false,
    "deletable": true,
    "editable": true
   },
   "outputs": [],
   "source": [
    "def load_sqfm_csv(fname):\n",
    "    df = pd.read_csv(fname)\n",
    "    Fmatrix = df[['F' + str(i) for i in range(1, 9)]].as_matrix().astype(float)\n",
    "    ssq = df['SQ'].as_matrix()\n",
    "    \n",
    "    # SQ: str => one-hot\n",
    "    sqwidth = len(ssq[0])\n",
    "    sq = np.zeros(shape=(len(ssq), 4 * sqwidth), dtype=float)\n",
    "    sqchars = np.stack([np.fromstring(s, dtype=np.uint8) for s in ssq])\n",
    "    for i, c in enumerate(('A', 'U', 'G', 'C')):\n",
    "        sq[:,i::4] = (sqchars == ord(c))\n",
    "    return sq, Fmatrix\n",
    "\n",
    "def drop_bad_entries(sq, Fmatrix):\n",
    "    Fcnt = (Fmatrix > 0).sum(axis=1)\n",
    "    selection = np.logical_and(Fcnt <= threshold, Fcnt > 0)\n",
    "    print('total: {}\\tcnt > {}: {}\\tempty:{}'.format(len(Fcnt), threshold, (Fcnt > threshold).sum(), (Fcnt == 0).sum())) \n",
    "    sq, Fmatrix = sq[selection], Fmatrix[selection]\n",
    "    return sq, Fmatrix\n",
    "\n",
    "#def Fmx2cls_NormedMean(Fmatrix):\n",
    "#    Fnormalized = Fmatrix / np.atleast_2d(Fmatrix.sum(axis=1)).T\n",
    "#    return (np.dot(Fnormalized, np.arange(1, 9).reshape(8, 1))[:,0] - 1.0) / 7.0\n",
    "\n",
    "def Fmx2cls_Highest(Fmatrix, min_maxcls_ratio=0.2, min_maxcls_value=1):\n",
    "    Ftotal = np.atleast_2d(Fmatrix.sum(axis=1)).T\n",
    "    good_F = np.logical_and(Fmatrix[:,::-1] >= min_maxcls_value, Fmatrix[:,::-1] / Ftotal >= min_maxcls_ratio)\n",
    "    assert (np.logical_not(good_F).sum(axis=1) == 0).sum() == 0\n",
    "    return np.argmax(good_F, axis=1)\n",
    "\n",
    "sq20, fm20 = load_sqfm_csv('./raw_data/sq20.csv')\n",
    "sq30, fm30 = load_sqfm_csv('./raw_data/sq30.csv')\n",
    "sqmore, fmmore = load_sqfm_csv('./raw_data/sq_any.csv')\n",
    "\n",
    "#fnm20 = Fmx2cls_NormedMean(fm20)\n",
    "#fnm30 = Fmx2cls_NormedMean(fm30)\n",
    "#fnmmore = Fmx2cls_NormedMean(fmmore)\n",
    "\n",
    "fh20 = Fmx2cls_Highest(fm20)\n",
    "fh30 = Fmx2cls_Highest(fm30)\n",
    "fhmore = Fmx2cls_Highest(fmmore)\n",
    "\n",
    "def preproc20(sq20, f20, F1_reptimes = 10):\n",
    "    repeat = lambda a, sel, times: np.concatenate((a, np.repeat(a[sel], times - 1, 0))) \n",
    "    return repeat(sq20, f20 < 0.5, F1_reptimes), repeat(f20, f20 < 0.5, F1_reptimes)"
   ]
  },
  {
   "cell_type": "code",
   "execution_count": 3,
   "metadata": {
    "collapsed": false,
    "deletable": true,
    "editable": true
   },
   "outputs": [
    {
     "name": "stdout",
     "output_type": "stream",
     "text": [
      "sq20.shape: (11692, 92)\t fh20.shape: (11692,)\t fh20.range: [0, 7]\n"
     ]
    },
    {
     "data": {
      "image/png": "[encoded data removed]",
      "text/plain": [
       "<matplotlib.figure.Figure at 0x7f2b5c7756d8>"
      ]
     },
     "metadata": {},
     "output_type": "display_data"
    }
   ],
   "source": [
    "print('sq20.shape: {}\\t fh20.shape: {}\\t fh20.range: [{}, {}]'.format(sq20.shape, fh20.shape, fh20.min(), fh20.max()))\n",
    "plt.hist([fh20, fh30, fhmore], 14, label=['20', '30', 'more'], normed=True)\n",
    "plt.legend();"
   ]
  },
  {
   "cell_type": "code",
   "execution_count": 24,
   "metadata": {
    "collapsed": false,
    "deletable": true,
    "editable": true
   },
   "outputs": [],
   "source": [
    "# TODO: change quadclust classification for f30\n",
    "\n",
    "def fcls_accuracy(model, sq, f, fclassify, kF1 = 1, normalize_classes=True, bootstrap=1024, test_size=None, report=True):\n",
    "    fcls, fcls_labels = fclassify(f)\n",
    "    classes = np.unique(fcls)\n",
    "    fcls_sizes = np.array([(fcls == c).sum() for c in classes])\n",
    "    size = min(kF1 * fcls_sizes[0], fcls_sizes[1:].min())\n",
    "    \n",
    "    accuracy = np.zeros(bootstrap, dtype=float)\n",
    "    for bi in range(bootstrap):\n",
    "        if report and (bi & 0xF) == 0xF:\n",
    "            print('\\rbootstrap: {}/{}'.format(bi + 1, bootstrap), end='')\n",
    "        \n",
    "        # train_test_split\n",
    "        if normalize_classes:\n",
    "            X_train, X_test, y_train, y_test = list(), list(), list(), list()  \n",
    "            for i, c in enumerate(classes):\n",
    "                choice = np.random.choice(np.arange(fcls_sizes[i]), min(size, fcls_sizes[i]), replace=False)\n",
    "                cls_split = train_test_split(sq[fcls == c][choice], fcls[fcls == c][choice], test_size=test_size)\n",
    "                X_train.append(cls_split[0])\n",
    "                X_test.append(cls_split[1])\n",
    "                y_train.append(cls_split[2])\n",
    "                y_test.append(cls_split[3])\n",
    "            \n",
    "            X_train[0] = np.repeat(X_train[0], kF1, axis=0)\n",
    "            y_train[0] = np.repeat(y_train[0], kF1, axis=0)\n",
    "            X_test[0] = np.repeat(X_test[0], kF1, axis=0)\n",
    "            y_test[0] = np.repeat(y_test[0], kF1, axis=0)\n",
    "            \n",
    "            X_train = np.concatenate(X_train)\n",
    "            X_test = np.concatenate(X_test)\n",
    "            y_train = np.concatenate(y_train)\n",
    "            y_test = np.concatenate(y_test)\n",
    "        else:\n",
    "            assert kF1 == 1\n",
    "            X_train, X_test, y_train, y_test = train_test_split(sq, f, test_size=test_size)\n",
    "        \n",
    "        # fit & test prediction\n",
    "        L = model.fit(X_train, y_train, X_test, y_test)\n",
    "        y_test_pred = L.predict(X_test)\n",
    "        accuracy[bi] = accuracy_score(y_test, y_test_pred)\n",
    "    if report:\n",
    "        print('\\rbootstrap: {}'.format(bootstrap) + ' ' * 10)\n",
    "        print('cls {} sizes: {}, chosen {}'.format(fcls_labels, fcls_sizes, size))\n",
    "    return accuracy.mean(), np.median(accuracy), np.percentile(accuracy, 5), np.percentile(accuracy, 95)\n",
    "\n",
    "def fval2cls(f):\n",
    "    fcls = np.zeros_like(f)\n",
    "    for cls in range(8):\n",
    "        fcls[np.logical_and(f >= (cls - 0.5), f < (cls + 0.5))] = cls\n",
    "    fcls[f >= (7 + 0.5)] = 7\n",
    "    return fcls, ['F' + str(i) for i in range(1, 9)]\n",
    "\n",
    "def fcls_accuracy_F1F8(model, sq, f, bootstrap, kF1 = 1, normalize=True):\n",
    "    acc_desc = fcls_accuracy(model, sq, f, fval2cls, kF1, normalize, bootstrap)\n",
    "    print('accuracy (mean, median, min, max): {:.3f} {:.3f} {:.3f} {:.3f}'.format(*acc_desc), end='\\n\\n')\n",
    "\n",
    "def fcls_accuracy_F1F2merged(model, sq, f, bootstrap):\n",
    "    acc_desc = fcls_accuracy(model, sq, f, fval2_F1F2merged,bootstrap=bootstrap)\n",
    "    print('accuracy (mean, median, min, max): {:.3f} {:.3f} {:.3f} {:.3f}'.format(*acc_desc), end='\\n\\n')\n",
    "    \n",
    "def fcls_accuracy_all(model, sq, f, bootstrap=1024, normalize=True):\n",
    "    def fval2biclust(f):\n",
    "        return f >= (4.2 - 1), ['F1~F3', 'F4~F8'] \n",
    "    \n",
    "    def fval2triclust(f):\n",
    "        fcls = np.zeros(f.shape, dtype=np.int)\n",
    "        fcls += (f >= (4.2 - 1))\n",
    "        fcls += (f >= (5.5 - 1))\n",
    "        return fcls, ['F1~F3', 'F4~F5', 'F6~F8']\n",
    "\n",
    "\n",
    "    def fval2quadclust(f):\n",
    "        fcls = np.zeros(f.shape, dtype=np.int)\n",
    "        fcls += (f >= (4.2 - 1))\n",
    "        fcls += (f >= (5.5 - 1))\n",
    "        fcls += (f >= (5.99 - 1))\n",
    "        return fcls, ['F1~F3', 'F4~F5', 'F6~F7', 'F7~F8']\n",
    "    for fclassify in (fval2cls, fval2biclust, fval2triclust, fval2quadclust):\n",
    "        acc_desc = fcls_accuracy(model, sq, f, fclassify,bootstrap=bootstrap, normalize_classes=normalize)\n",
    "        print('accuracy (mean, median, min, max): {:.3f} {:.3f} {:.3f} {:.3f}'.format(*acc_desc), end='\\n\\n')"
   ]
  },
  {
   "cell_type": "code",
   "execution_count": 25,
   "metadata": {
    "collapsed": false,
    "deletable": true,
    "editable": true,
    "scrolled": true
   },
   "outputs": [],
   "source": [
    "def fcls_binsplit(threshold):\n",
    "    def func(f):\n",
    "        fcls = (f >= (threshold - 1.5)).astype(f.dtype)\n",
    "        labels = [':F{}'.format(threshold-1), 'F{}:'.format(threshold)]\n",
    "        return fcls, labels\n",
    "    return func\n",
    "   \n",
    "def fbin_accuracy(model, sq, f, bootstrap = 256):\n",
    "    means, medians, mins, maxs = list(), list(), list(), list()\n",
    "    ts = np.arange(2, 9)\n",
    "    for i in ts:\n",
    "        acc_desc = fcls_accuracy(model, sq, f, fcls_binsplit(i), bootstrap=bootstrap)\n",
    "        means.append(acc_desc[0])\n",
    "        medians.append(acc_desc[1])\n",
    "        mins.append(acc_desc[2])\n",
    "        maxs.append(acc_desc[3])\n",
    "        print('accuracy (mean, median, min, max): {:.3f} {:.3f} {:.3f} {:.3f}'.format(*acc_desc), end='\\n\\n')\n",
    "    plt.title('A(k) = accuracy [:Fk-1, Fk:]')\n",
    "    plt.plot(ts, means, label='mean')\n",
    "    plt.plot(ts, medians, label='median')\n",
    "    plt.plot(ts, mins, label='min')\n",
    "    plt.plot(ts, maxs, label='max')\n",
    "    plt.legend()\n",
    "    plt.show()\n",
    "    "
   ]
  },
  {
   "cell_type": "markdown",
   "metadata": {
    "deletable": true,
    "editable": true
   },
   "source": [
    "## LogisticRegression"
   ]
  },
  {
   "cell_type": "code",
   "execution_count": 6,
   "metadata": {
    "collapsed": true,
    "deletable": true,
    "editable": true
   },
   "outputs": [],
   "source": [
    "class lrModel(object):\n",
    "    def __init__(self):\n",
    "        self.inst = LogisticRegression()\n",
    "    \n",
    "    def fit(self, X_train, y_train, X_test, y_test):\n",
    "        return self.inst.fit(X_train, y_train)\n",
    "        \n",
    "    def predict(self, X):\n",
    "        return self.inst.predict_proba(X)"
   ]
  },
  {
   "cell_type": "code",
   "execution_count": 7,
   "metadata": {
    "collapsed": false,
    "deletable": true,
    "editable": true
   },
   "outputs": [
    {
     "name": "stdout",
     "output_type": "stream",
     "text": [
      "bootstrap: 256          \n",
      "cls ['F1', 'F2', 'F3', 'F4', 'F5', 'F6', 'F7', 'F8'] sizes: [ 154 1033 1497 1401 1827 2170 1939 1671], chosen 154\n",
      "accuracy (mean, median, min, max): 0.278 0.279 0.243 0.314\n",
      "\n",
      "bootstrap: 256          \n",
      "cls ['F1', 'F2', 'F3', 'F4', 'F5', 'F6', 'F7', 'F8'] sizes: [ 154 1033 1497 1401 1827 2170 1939 1671], chosen 154\n",
      "accuracy (mean, median, min, max): 0.333 0.333 0.320 0.348\n",
      "\n",
      "bootstrap: 256          \n",
      "cls ['F1', 'F2', 'F3', 'F4', 'F5', 'F6', 'F7', 'F8'] sizes: [ 154 1033 1497 1401 1827 2170 1939 1671], chosen 1033\n",
      "accuracy (mean, median, min, max): 0.327 0.327 0.306 0.348\n",
      "\n"
     ]
    }
   ],
   "source": [
    "fcls_accuracy_F1F8(lrModel(), sq20, fh20, 256)\n",
    "fcls_accuracy_F1F8(lrModel(), sq20, fh20, 256, normalize=False)\n",
    "fcls_accuracy_F1F8(lrModel(), sq20, fh20, 256, 8)"
   ]
  },
  {
   "cell_type": "code",
   "execution_count": 8,
   "metadata": {
    "collapsed": false
   },
   "outputs": [
    {
     "name": "stdout",
     "output_type": "stream",
     "text": [
      "bootstrap: 256          \n",
      "cls ['F1', 'F2', 'F3', 'F4', 'F5', 'F6', 'F7', 'F8'] sizes: [1483 1492 1743 1598 1689 1700 1050 1134], chosen 1050\n",
      "accuracy (mean, median, min, max): 0.280 0.280 0.267 0.294\n",
      "\n",
      "bootstrap: 256          \n",
      "cls ['F1', 'F2', 'F3', 'F4', 'F5', 'F6', 'F7', 'F8'] sizes: [1483 1492 1743 1598 1689 1700 1050 1134], chosen 1050\n",
      "accuracy (mean, median, min, max): 0.279 0.279 0.267 0.292\n",
      "\n"
     ]
    }
   ],
   "source": [
    "fcls_accuracy_F1F8(lrModel(), sq30, fh30, 256)\n",
    "fcls_accuracy_F1F8(lrModel(), sq30, fh30, 256, normalize=False)"
   ]
  },
  {
   "cell_type": "code",
   "execution_count": 9,
   "metadata": {
    "collapsed": false,
    "deletable": true,
    "editable": true
   },
   "outputs": [
    {
     "name": "stdout",
     "output_type": "stream",
     "text": [
      "bootstrap: 256          \n",
      "cls [':F1', 'F2:'] sizes: [  154 11538], chosen 154\n",
      "accuracy (mean, median, min, max): 0.773 0.782 0.679 0.846\n",
      "\n",
      "bootstrap: 256          \n",
      "cls [':F2', 'F3:'] sizes: [ 1187 10505], chosen 1187\n",
      "accuracy (mean, median, min, max): 0.787 0.787 0.761 0.815\n",
      "\n",
      "bootstrap: 256          \n",
      "cls [':F3', 'F4:'] sizes: [2684 9008], chosen 2684\n",
      "accuracy (mean, median, min, max): 0.800 0.799 0.784 0.816\n",
      "\n",
      "bootstrap: 256          \n",
      "cls [':F4', 'F5:'] sizes: [4085 7607], chosen 4085\n",
      "accuracy (mean, median, min, max): 0.806 0.807 0.792 0.820\n",
      "\n",
      "bootstrap: 256          \n",
      "cls [':F5', 'F6:'] sizes: [5912 5780], chosen 5780\n",
      "accuracy (mean, median, min, max): 0.809 0.809 0.799 0.820\n",
      "\n",
      "bootstrap: 256          \n",
      "cls [':F6', 'F7:'] sizes: [8082 3610], chosen 3610\n",
      "accuracy (mean, median, min, max): 0.802 0.802 0.788 0.817\n",
      "\n",
      "bootstrap: 256          \n",
      "cls [':F7', 'F8:'] sizes: [10021  1671], chosen 1671\n",
      "accuracy (mean, median, min, max): 0.799 0.798 0.778 0.821\n",
      "\n"
     ]
    },
    {
     "data": {
      "image/png": "[encoded data removed]",
      "text/plain": [
       "<matplotlib.figure.Figure at 0x7f2b5c604080>"
      ]
     },
     "metadata": {},
     "output_type": "display_data"
    }
   ],
   "source": [
    "fbin_accuracy(lrModel(), sq20, fh20, 256)"
   ]
  },
  {
   "cell_type": "code",
   "execution_count": 10,
   "metadata": {
    "collapsed": false,
    "deletable": true,
    "editable": true
   },
   "outputs": [
    {
     "name": "stdout",
     "output_type": "stream",
     "text": [
      "bootstrap: 256          \n",
      "cls [':F1', 'F2:'] sizes: [ 1483 10406], chosen 1483\n",
      "accuracy (mean, median, min, max): 0.760 0.759 0.740 0.783\n",
      "\n",
      "bootstrap: 256          \n",
      "cls [':F2', 'F3:'] sizes: [2975 8914], chosen 2975\n",
      "accuracy (mean, median, min, max): 0.783 0.783 0.767 0.799\n",
      "\n",
      "bootstrap: 256          \n",
      "cls [':F3', 'F4:'] sizes: [4718 7171], chosen 4718\n",
      "accuracy (mean, median, min, max): 0.799 0.799 0.787 0.810\n",
      "\n",
      "bootstrap: 256          \n",
      "cls [':F4', 'F5:'] sizes: [6316 5573], chosen 5573\n",
      "accuracy (mean, median, min, max): 0.797 0.798 0.786 0.808\n",
      "\n",
      "bootstrap: 256          \n",
      "cls [':F5', 'F6:'] sizes: [8005 3884], chosen 3884\n",
      "accuracy (mean, median, min, max): 0.789 0.789 0.775 0.801\n",
      "\n",
      "bootstrap: 256          \n",
      "cls [':F6', 'F7:'] sizes: [9705 2184], chosen 2184\n",
      "accuracy (mean, median, min, max): 0.795 0.796 0.777 0.815\n",
      "\n",
      "bootstrap: 256          \n",
      "cls [':F7', 'F8:'] sizes: [10755  1134], chosen 1134\n",
      "accuracy (mean, median, min, max): 0.797 0.798 0.769 0.824\n",
      "\n"
     ]
    },
    {
     "data": {
      "image/png": "[encoded data removed]",
      "text/plain": [
       "<matplotlib.figure.Figure at 0x7f2b5c73af60>"
      ]
     },
     "metadata": {},
     "output_type": "display_data"
    }
   ],
   "source": [
    "fbin_accuracy(lrModel(), sq30, fh30, 256)"
   ]
  },
  {
   "cell_type": "markdown",
   "metadata": {
    "collapsed": true,
    "deletable": true,
    "editable": true
   },
   "source": [
    "## NN"
   ]
  },
  {
   "cell_type": "code",
   "execution_count": 163,
   "metadata": {
    "collapsed": false,
    "deletable": true,
    "editable": true
   },
   "outputs": [],
   "source": [
    "def nnopt_epoch(network, epoch, batch_size, optimizer, loss_fn, X_train, y_train, report):\n",
    "    network.train()\n",
    "    \n",
    "    np_X_train, np_y_train = X_train.numpy(), y_train.numpy()\n",
    "    np_X_train_src, np_y_train_src = np_X_train.copy(), np_y_train.copy()\n",
    "    # shuffle array\n",
    "    shuffle = np.random.permutation(X_train.size(0))\n",
    "    np.copyto(np_X_train, np_X_train_src[shuffle])\n",
    "    np.copyto(np_y_train, np_y_train_src[shuffle]) \n",
    "        \n",
    "    for off in range(0, X_train.size(0), batch_size):\n",
    "        if report and off % (128 * batch_size) == 0:\n",
    "            msg = '\\r[epoch: {}] fed to network {}/{}'.format(epoch, off, y_train.size(0)) \n",
    "            print(msg, end=' ' * 20)\n",
    "        optimizer.zero_grad()            \n",
    "        \n",
    "        X = Variable(X_train[off:off + batch_size])\n",
    "        y = Variable(y_train[off:off + batch_size], requires_grad=False)\n",
    "        \n",
    "        # forward pass\n",
    "        output = network.forward(X)\n",
    "\n",
    "        # back-prop\n",
    "        loss = loss_fn(output, y)\n",
    "        loss.backward()\n",
    "        optimizer.step()\n",
    "        \n",
    "        del X, y, output, loss\n",
    "        \n",
    "def nnopt_test(network, X, y, loss_fn):\n",
    "    network.eval()\n",
    "    output = network.forward(X)\n",
    "    err = loss_fn(output, y).data[0]\n",
    "    out = output.data.numpy().copy()\n",
    "    return err, out\n",
    "\n",
    "\n",
    "def nnoptimize(network, X_train, y_train, X_test, y_test, batch_size=10, max_epoch=256,\\\n",
    "               loss_fn = torch.nn.CrossEntropyLoss(),lr=0.01, wd=0.1,\\\n",
    "               unravel=False, report=True, plot=True):\n",
    "    pt = lambda t,pyt=None: torch.from_numpy(t).type(pyt) if pyt is not None else torch.from_numpy(t)\n",
    "    preproc_X = lambda t: t.view(t.size(0), -1) if unravel else t\n",
    "    \n",
    "    optimizer = torch.optim.Adam(network.parameters(), lr=lr, weight_decay=wd)\n",
    "    \n",
    "    best_err, best_epoch, best_state = float('inf'), None, None\n",
    "    errors = []\n",
    "\n",
    "    X_test = Variable(preproc_X(pt(X_test, torch.FloatTensor)), requires_grad=False) \n",
    "    y_test = Variable(pt(y_test), requires_grad=False)\n",
    "    tX_train = preproc_X(pt(X_train, torch.FloatTensor))\n",
    "    ty_train = pt(y_train)\n",
    "    \n",
    "    for epoch in range(max_epoch):       \n",
    "        # optimize epoch\n",
    "        nnopt_epoch(network, epoch, batch_size, optimizer, loss_fn, tX_train, ty_train, report)\n",
    "        \n",
    "        # test loss\n",
    "        err, out = nnopt_test(network, X_test, y_test, loss_fn)\n",
    "        errors.append(err)\n",
    "        if best_err > err:\n",
    "            best_err = err\n",
    "            best_epoch = epoch\n",
    "            best_state = network.state_dict()\n",
    "        elif epoch > 0:\n",
    "            network.load_state_dict(best_state)\n",
    "            lr = lr * 0.1\n",
    "            errors.pop()\n",
    "            if lr * (tX_train.size(0) + X_test.size(0)) < 0.0001:\n",
    "                break\n",
    "            \n",
    "        del err, out\n",
    "    network.load_state_dict(best_state)\n",
    "    if plot:\n",
    "        plt.title('nnoptimize: {} for {} epochs'.format(loss_fn.__class__.__name__, max_epoch))\n",
    "        plt.plot(errors)\n",
    "        plt.show()\n",
    "    return network, errors, best_epoch\n",
    "\n",
    "\n",
    "class nnModel(object):\n",
    "    def __init__(self, nn_inst, loss_fn = None, batch_size=10):\n",
    "        self.inst = nn_inst\n",
    "        self.loss_fn = loss_fn if loss_fn is not None else nn.CrossEntropyLoss()\n",
    "        self.batch_size = batch_size\n",
    "        \n",
    "    def fit(self, X_train, y_train, X_test, y_test):\n",
    "        network, errors, best_epoch = nnoptimize(self.inst, X_train, y_train, X_test, y_test,\\\n",
    "                                                 loss_fn=self.loss_fn, batch_size=self.batch_size, plot=False)\n",
    "        # TODO: may be add some info\n",
    "        return self\n",
    "    \n",
    "    def predict(self, X):\n",
    "        X = torch.from_numpy(X)\n",
    "        y = self.inst(Variable(X.type(torch.FloatTensor), requires_grad=False))\n",
    "        y = y.data.numpy()\n",
    "        return y.argmax(axis=1)"
   ]
  },
  {
   "cell_type": "code",
   "execution_count": 12,
   "metadata": {
    "collapsed": false,
    "deletable": true,
    "editable": true,
    "scrolled": true
   },
   "outputs": [
    {
     "name": "stdout",
     "output_type": "stream",
     "text": [
      "bootstrap: 20          rk 5120/6126                                        \n",
      "cls [':F4', 'F5:'] sizes: [4085 7607], chosen 4085\n",
      "(0.74863013698630154, 0.75318003913894327, 0.71504403131115468, 0.78444227005870837)\n"
     ]
    }
   ],
   "source": [
    "d20 = (sq20.shape[1], int(sq20.shape[1] / 2), int(sq20.shape[1] / 4))\n",
    "d30 = (sq30.shape[1], int(sq30.shape[1] / 2), int(sq30.shape[1] / 4))\n",
    "print(fcls_accuracy(nnModel(nn.Linear(d20[0], 8)), sq20, fh20, fcls_binsplit(5), bootstrap=20))"
   ]
  },
  {
   "cell_type": "markdown",
   "metadata": {
    "deletable": true,
    "editable": true
   },
   "source": [
    "#### Binary classification"
   ]
  },
  {
   "cell_type": "code",
   "execution_count": null,
   "metadata": {
    "collapsed": false,
    "deletable": true,
    "editable": true,
    "scrolled": true
   },
   "outputs": [],
   "source": [
    "fbin_accuracy(nnModel(nn.Linear(d20[0], 2)), sq20, fh20, 32)"
   ]
  },
  {
   "cell_type": "code",
   "execution_count": null,
   "metadata": {
    "collapsed": false,
    "deletable": true,
    "editable": true
   },
   "outputs": [],
   "source": [
    "fbin_accuracy(nnModel(nn.Linear(sq30.shape[1], 2)), sq30, fh30, 32)"
   ]
  },
  {
   "cell_type": "code",
   "execution_count": null,
   "metadata": {
    "collapsed": false,
    "deletable": true,
    "editable": true
   },
   "outputs": [],
   "source": [
    "model = nn.Sequential(nn.Linear(d20[0], d20[1]), nn.Sigmoid(), nn.Linear(d20[1], 2)) \n",
    "fbin_accuracy(nnModel(model), sq20, fh20, 8)"
   ]
  },
  {
   "cell_type": "code",
   "execution_count": null,
   "metadata": {
    "collapsed": false,
    "deletable": true,
    "editable": true
   },
   "outputs": [],
   "source": [
    "model = nn.Sequential(nn.Linear(d30[0], d30[1]), nn.Sigmoid(), nn.Linear(d30[1], 2)) \n",
    "fbin_accuracy(nnModel(model), sq30, fh30, 8)"
   ]
  },
  {
   "cell_type": "code",
   "execution_count": null,
   "metadata": {
    "collapsed": false,
    "deletable": true,
    "editable": true
   },
   "outputs": [],
   "source": [
    "model = nn.Sequential(nn.Linear(d20[0], d20[1]), nn.ReLU(), nn.Linear(d20[1], 2)) \n",
    "fbin_accuracy(nnModel(model), sq20, fh20, 32)"
   ]
  },
  {
   "cell_type": "code",
   "execution_count": null,
   "metadata": {
    "collapsed": false,
    "deletable": true,
    "editable": true
   },
   "outputs": [],
   "source": [
    "model = nn.Sequential(nn.Linear(d30[0], d30[1]), nn.ReLU(), nn.Linear(d30[1], 2)) \n",
    "fbin_accuracy(nnModel(model), sq30, fh30, 32)"
   ]
  },
  {
   "cell_type": "markdown",
   "metadata": {
    "deletable": true,
    "editable": true
   },
   "source": [
    "#### F-Clasification"
   ]
  },
  {
   "cell_type": "code",
   "execution_count": 15,
   "metadata": {
    "collapsed": false,
    "deletable": true,
    "editable": true,
    "scrolled": false
   },
   "outputs": [
    {
     "name": "stdout",
     "output_type": "stream",
     "text": [
      "bootstrap: 32          rk 0/920                                                            \n",
      "cls ['F1', 'F2', 'F3', 'F4', 'F5', 'F6', 'F7', 'F8'] sizes: [ 154 1033 1497 1401 1827 2170 1939 1671], chosen 154\n",
      "accuracy (mean, median, min, max): 0.237 0.245 0.183 0.286\n",
      "\n",
      "bootstrap: 32          rk 5120/6338                                                                                \n",
      "cls ['F1', 'F2', 'F3', 'F4', 'F5', 'F6', 'F7', 'F8'] sizes: [ 154 1033 1497 1401 1827 2170 1939 1671], chosen 1033\n",
      "accuracy (mean, median, min, max): 0.248 0.250 0.213 0.282\n",
      "\n",
      "bootstrap: 32          ork 7680/8769                                                                                                                                                               \n",
      "cls ['F1', 'F2', 'F3', 'F4', 'F5', 'F6', 'F7', 'F8'] sizes: [ 154 1033 1497 1401 1827 2170 1939 1671], chosen 154\n",
      "accuracy (mean, median, min, max): 0.242 0.242 0.199 0.277\n",
      "\n"
     ]
    }
   ],
   "source": [
    "fcls_accuracy_F1F8(nnModel(nn.Linear(sq20.shape[1], 8)), sq20, fh20, 32)\n",
    "fcls_accuracy_F1F8(nnModel(nn.Linear(sq20.shape[1], 8)), sq20, fh20, 32, 8)\n",
    "fcls_accuracy_F1F8(nnModel(nn.Linear(sq20.shape[1], 8)), sq20, fh20, 32, normalize=False)"
   ]
  },
  {
   "cell_type": "code",
   "execution_count": 171,
   "metadata": {
    "collapsed": false,
    "deletable": true,
    "editable": true,
    "scrolled": false
   },
   "outputs": [
    {
     "name": "stdout",
     "output_type": "stream",
     "text": [
      "bootstrap: 256          k 0/6338                                                                                                                                                                                                                                                                    \n",
      "cls ['F1', 'F2', 'F3', 'F4', 'F5', 'F6', 'F7', 'F8'] sizes: [ 154 1033 1497 1401 1827 2170 1939 1671], chosen 1033\n",
      "accuracy (mean, median, min, max): 0.272 0.274 0.241 0.301\n",
      "\n",
      "bootstrap: 256          k 0/6338                                                                                 \n",
      "cls ['F1', 'F2', 'F3', 'F4', 'F5', 'F6', 'F7', 'F8'] sizes: [ 154 1033 1497 1401 1827 2170 1939 1671], chosen 1033\n",
      "accuracy (mean, median, min, max): 0.280 0.282 0.256 0.304\n",
      "\n",
      "bootstrap: 256          k 0/6338                                                                                                                                                                                                                            \n",
      "cls ['F1', 'F2', 'F3', 'F4', 'F5', 'F6', 'F7', 'F8'] sizes: [ 154 1033 1497 1401 1827 2170 1939 1671], chosen 1033\n",
      "accuracy (mean, median, min, max): 0.285 0.285 0.262 0.307\n",
      "\n",
      "bootstrap: 256          k 0/6338                                                                                                                                                                                                         \n",
      "cls ['F1', 'F2', 'F3', 'F4', 'F5', 'F6', 'F7', 'F8'] sizes: [ 154 1033 1497 1401 1827 2170 1939 1671], chosen 1033\n",
      "accuracy (mean, median, min, max): 0.289 0.288 0.269 0.312\n",
      "\n",
      "bootstrap: 256          rk 0/6338                                                                                                                                            \n",
      "cls ['F1', 'F2', 'F3', 'F4', 'F5', 'F6', 'F7', 'F8'] sizes: [ 154 1033 1497 1401 1827 2170 1939 1671], chosen 1033\n",
      "accuracy (mean, median, min, max): 0.291 0.291 0.274 0.307\n",
      "\n",
      "bootstrap: 256          k 0/6338                                                                                                                                                                                                                                                                     \n",
      "cls ['F1', 'F2', 'F3', 'F4', 'F5', 'F6', 'F7', 'F8'] sizes: [ 154 1033 1497 1401 1827 2170 1939 1671], chosen 1033\n",
      "accuracy (mean, median, min, max): 0.290 0.290 0.271 0.308\n",
      "\n",
      "bootstrap: 256          k 0/6338                                         \n",
      "cls ['F1', 'F2', 'F3', 'F4', 'F5', 'F6', 'F7', 'F8'] sizes: [ 154 1033 1497 1401 1827 2170 1939 1671], chosen 1033\n",
      "accuracy (mean, median, min, max): 0.290 0.290 0.276 0.310\n",
      "\n",
      "bootstrap: 256          k 0/6338                                                                                                                         \n",
      "cls ['F1', 'F2', 'F3', 'F4', 'F5', 'F6', 'F7', 'F8'] sizes: [ 154 1033 1497 1401 1827 2170 1939 1671], chosen 1033\n",
      "accuracy (mean, median, min, max): 0.288 0.288 0.269 0.305\n",
      "\n"
     ]
    }
   ],
   "source": [
    "fcls_accuracy_F1F8(nnModel(nn.Linear(sq20.shape[1], 8), batch_size = 50), sq20, fh20, 256, 8)\n",
    "fcls_accuracy_F1F8(nnModel(nn.Linear(sq20.shape[1], 8), batch_size = 100), sq20, fh20, 256, 8)\n",
    "fcls_accuracy_F1F8(nnModel(nn.Linear(sq20.shape[1], 8), batch_size = 250), sq20, fh20, 256, 8)\n",
    "fcls_accuracy_F1F8(nnModel(nn.Linear(sq20.shape[1], 8), batch_size = 500), sq20, fh20, 256, 8)\n",
    "fcls_accuracy_F1F8(nnModel(nn.Linear(sq20.shape[1], 8), batch_size = 1000), sq20, fh20, 256, 8)\n",
    "fcls_accuracy_F1F8(nnModel(nn.Linear(sq20.shape[1], 8), batch_size = 2000), sq20, fh20, 256, 8)\n",
    "fcls_accuracy_F1F8(nnModel(nn.Linear(sq20.shape[1], 8), batch_size = 4000), sq20, fh20, 256, 8)\n",
    "fcls_accuracy_F1F8(nnModel(nn.Linear(sq20.shape[1], 8), batch_size = 100000), sq20, fh20, 256, 8)"
   ]
  },
  {
   "cell_type": "code",
   "execution_count": 172,
   "metadata": {
    "collapsed": false
   },
   "outputs": [
    {
     "name": "stdout",
     "output_type": "stream",
     "text": [
      "bootstrap: 256          rk 0/6338                                                                                                                                                                                    \n",
      "cls ['F1', 'F2', 'F3', 'F4', 'F5', 'F6', 'F7', 'F8'] sizes: [ 154 1033 1497 1401 1827 2170 1939 1671], chosen 1033\n",
      "accuracy (mean, median, min, max): 0.289 0.290 0.269 0.310\n",
      "\n",
      "bootstrap: 256          k 0/6338                                                                                                                                                                                     \n",
      "cls ['F1', 'F2', 'F3', 'F4', 'F5', 'F6', 'F7', 'F8'] sizes: [ 154 1033 1497 1401 1827 2170 1939 1671], chosen 1033\n",
      "accuracy (mean, median, min, max): 0.291 0.291 0.273 0.309\n",
      "\n",
      "bootstrap: 256          k 0/6338                                                                                                                                             \n",
      "cls ['F1', 'F2', 'F3', 'F4', 'F5', 'F6', 'F7', 'F8'] sizes: [ 154 1033 1497 1401 1827 2170 1939 1671], chosen 1033\n",
      "accuracy (mean, median, min, max): 0.292 0.291 0.274 0.309\n",
      "\n",
      "bootstrap: 256          k 0/6338                                                                                                                                                                                                                                                 \n",
      "cls ['F1', 'F2', 'F3', 'F4', 'F5', 'F6', 'F7', 'F8'] sizes: [ 154 1033 1497 1401 1827 2170 1939 1671], chosen 1033\n",
      "accuracy (mean, median, min, max): 0.288 0.288 0.267 0.309\n",
      "\n",
      "bootstrap: 256          k 0/6338                                                                                                     \n",
      "cls ['F1', 'F2', 'F3', 'F4', 'F5', 'F6', 'F7', 'F8'] sizes: [ 154 1033 1497 1401 1827 2170 1939 1671], chosen 1033\n",
      "accuracy (mean, median, min, max): 0.293 0.292 0.274 0.310\n",
      "\n",
      "bootstrap: 256          k 0/6338                                                                                                                                                                 \n",
      "cls ['F1', 'F2', 'F3', 'F4', 'F5', 'F6', 'F7', 'F8'] sizes: [ 154 1033 1497 1401 1827 2170 1939 1671], chosen 1033\n",
      "accuracy (mean, median, min, max): 0.293 0.292 0.275 0.310\n",
      "\n",
      "bootstrap: 256          k 0/6338                                                                                                                                                                                     \n",
      "cls ['F1', 'F2', 'F3', 'F4', 'F5', 'F6', 'F7', 'F8'] sizes: [ 154 1033 1497 1401 1827 2170 1939 1671], chosen 1033\n",
      "accuracy (mean, median, min, max): 0.292 0.292 0.274 0.309\n",
      "\n",
      "bootstrap: 256          k 0/6338                                                                                                                                                                 \n",
      "cls ['F1', 'F2', 'F3', 'F4', 'F5', 'F6', 'F7', 'F8'] sizes: [ 154 1033 1497 1401 1827 2170 1939 1671], chosen 1033\n",
      "accuracy (mean, median, min, max): 0.293 0.293 0.276 0.310\n",
      "\n",
      "bootstrap: 256          k 0/6338                                                                                 \n",
      "cls ['F1', 'F2', 'F3', 'F4', 'F5', 'F6', 'F7', 'F8'] sizes: [ 154 1033 1497 1401 1827 2170 1939 1671], chosen 1033\n",
      "accuracy (mean, median, min, max): 0.291 0.292 0.274 0.308\n",
      "\n"
     ]
    }
   ],
   "source": [
    "fcls_accuracy_F1F8(nnModel(nn.Linear(sq20.shape[1], 8), batch_size = 500), sq20, fh20, 256, 8)\n",
    "fcls_accuracy_F1F8(nnModel(nn.Linear(sq20.shape[1], 8), batch_size = 750), sq20, fh20, 256, 8)\n",
    "fcls_accuracy_F1F8(nnModel(nn.Linear(sq20.shape[1], 8), batch_size = 1000), sq20, fh20, 256, 8)\n",
    "fcls_accuracy_F1F8(nnModel(nn.Linear(sq20.shape[1], 8), batch_size = 1250), sq20, fh20, 256, 8)\n",
    "fcls_accuracy_F1F8(nnModel(nn.Linear(sq20.shape[1], 8), batch_size = 1500), sq20, fh20, 256, 8)\n",
    "fcls_accuracy_F1F8(nnModel(nn.Linear(sq20.shape[1], 8), batch_size = 1750), sq20, fh20, 256, 8)\n",
    "fcls_accuracy_F1F8(nnModel(nn.Linear(sq20.shape[1], 8), batch_size = 2000), sq20, fh20, 256, 8)\n",
    "fcls_accuracy_F1F8(nnModel(nn.Linear(sq20.shape[1], 8), batch_size = 2250), sq20, fh20, 256, 8)\n",
    "fcls_accuracy_F1F8(nnModel(nn.Linear(sq20.shape[1], 8), batch_size = 2500), sq20, fh20, 256, 8)"
   ]
  },
  {
   "cell_type": "code",
   "execution_count": null,
   "metadata": {
    "collapsed": false,
    "deletable": true,
    "editable": true
   },
   "outputs": [],
   "source": [
    "model = nn.Sequential(nn.Linear(d20[0], d20[0] // 4), nn.Sigmoid(), nn.Linear(d20[0] // 4, 8))\n",
    "fcls_accuracy_F1F8(nnModel(model), sq20, fh20, 8)"
   ]
  },
  {
   "cell_type": "code",
   "execution_count": 26,
   "metadata": {
    "collapsed": false,
    "deletable": true,
    "editable": true
   },
   "outputs": [
    {
     "name": "stdout",
     "output_type": "stream",
     "text": [
      "bootstrap: 32          rk 0/920                                        \n",
      "cls ['F1', 'F2', 'F3', 'F4', 'F5', 'F6', 'F7', 'F8'] sizes: [ 154 1033 1497 1401 1827 2170 1939 1671], chosen 154\n",
      "accuracy (mean, median, min, max): 0.245 0.237 0.208 0.280\n",
      "\n",
      "bootstrap: 32          rk 5120/6338                     \n",
      "cls ['F1', 'F2', 'F3', 'F4', 'F5', 'F6', 'F7', 'F8'] sizes: [ 154 1033 1497 1401 1827 2170 1939 1671], chosen 1033\n",
      "accuracy (mean, median, min, max): 0.258 0.261 0.230 0.282\n",
      "\n",
      "bootstrap: 32          ork 7680/8769                                                            \n",
      "cls ['F1', 'F2', 'F3', 'F4', 'F5', 'F6', 'F7', 'F8'] sizes: [ 154 1033 1497 1401 1827 2170 1939 1671], chosen 154\n",
      "accuracy (mean, median, min, max): 0.238 0.243 0.178 0.276\n",
      "\n"
     ]
    }
   ],
   "source": [
    "model = nn.Sequential(nn.Linear(d20[0], d20[0] // 4), nn.ReLU(), nn.Linear(d20[0] // 4, 8))\n",
    "fcls_accuracy_F1F8(nnModel(model), sq20, fh20, 32)\n",
    "\n",
    "model = nn.Sequential(nn.Linear(d20[0], d20[0] // 4), nn.ReLU(), nn.Linear(d20[0] // 4, 8))\n",
    "fcls_accuracy_F1F8(nnModel(model), sq20, fh20, 32, 8)\n",
    "\n",
    "model = nn.Sequential(nn.Linear(d20[0], d20[0] // 4), nn.ReLU(), nn.Linear(d20[0] // 4, 8))\n",
    "fcls_accuracy_F1F8(nnModel(model), sq20, fh20, 32, normalize=False)"
   ]
  },
  {
   "cell_type": "code",
   "execution_count": 175,
   "metadata": {
    "collapsed": false,
    "deletable": true,
    "editable": true
   },
   "outputs": [
    {
     "name": "stdout",
     "output_type": "stream",
     "text": [
      "bootstrap: 256          k 0/6338                                                                                                                                                                                     \n",
      "cls ['F1', 'F2', 'F3', 'F4', 'F5', 'F6', 'F7', 'F8'] sizes: [ 154 1033 1497 1401 1827 2170 1939 1671], chosen 1033\n",
      "accuracy (mean, median, min, max): 0.262 0.261 0.252 0.274\n",
      "\n",
      "bootstrap: 256          rk 0/6338                                                                                                                                                                                                                            \n",
      "cls ['F1', 'F2', 'F3', 'F4', 'F5', 'F6', 'F7', 'F8'] sizes: [ 154 1033 1497 1401 1827 2170 1939 1671], chosen 1033\n",
      "accuracy (mean, median, min, max): 0.264 0.264 0.254 0.275\n",
      "\n",
      "bootstrap: 256          k 0/6338                                                                                                                                                                                     \n",
      "cls ['F1', 'F2', 'F3', 'F4', 'F5', 'F6', 'F7', 'F8'] sizes: [ 154 1033 1497 1401 1827 2170 1939 1671], chosen 1033\n",
      "accuracy (mean, median, min, max): 0.263 0.263 0.253 0.272\n",
      "\n",
      "bootstrap: 256          k 0/6338                                                                                                                         \n",
      "cls ['F1', 'F2', 'F3', 'F4', 'F5', 'F6', 'F7', 'F8'] sizes: [ 154 1033 1497 1401 1827 2170 1939 1671], chosen 1033\n",
      "accuracy (mean, median, min, max): 0.266 0.265 0.252 0.280\n",
      "\n",
      "bootstrap: 256          k 0/6338                                                                                                                         \n",
      "cls ['F1', 'F2', 'F3', 'F4', 'F5', 'F6', 'F7', 'F8'] sizes: [ 154 1033 1497 1401 1827 2170 1939 1671], chosen 1033\n",
      "accuracy (mean, median, min, max): 0.260 0.260 0.249 0.271\n",
      "\n"
     ]
    }
   ],
   "source": [
    "model = nn.Sequential(nn.Linear(d20[0], d20[0] // 4), nn.ReLU(), nn.Linear(d20[0] // 4, 8))\n",
    "fcls_accuracy_F1F8(nnModel(model, batch_size=1000), sq20, fh20, 256, 8)\n",
    "\n",
    "model = nn.Sequential(nn.Linear(d20[0], d20[0] // 4), nn.ReLU(), nn.Linear(d20[0] // 4, 8))\n",
    "fcls_accuracy_F1F8(nnModel(model, batch_size=2000), sq20, fh20, 256, 8)\n",
    "\n",
    "model = nn.Sequential(nn.Linear(d20[0], d20[0] // 4), nn.ReLU(), nn.Linear(d20[0] // 4, 8))\n",
    "fcls_accuracy_F1F8(nnModel(model, batch_size=4000), sq20, fh20, 256, 8)\n",
    "\n",
    "model = nn.Sequential(nn.Linear(d20[0], d20[0] // 4), nn.ReLU(), nn.Linear(d20[0] // 4, 8))\n",
    "fcls_accuracy_F1F8(nnModel(model, batch_size=6000), sq20, fh20, 256, 8)\n",
    "\n",
    "model = nn.Sequential(nn.Linear(d20[0], d20[0] // 4), nn.ReLU(), nn.Linear(d20[0] // 4, 8))\n",
    "fcls_accuracy_F1F8(nnModel(model, batch_size=8000), sq20, fh20, 256, 8)"
   ]
  },
  {
   "cell_type": "markdown",
   "metadata": {
    "deletable": true,
    "editable": true
   },
   "source": [
    "CNN"
   ]
  },
  {
   "cell_type": "code",
   "execution_count": 27,
   "metadata": {
    "collapsed": false,
    "deletable": true,
    "editable": true
   },
   "outputs": [],
   "source": [
    "class nnConvModule(nn.Module):\n",
    "    def __init__(self, kernel_size, in_channels = 1, out_channels = 1, bias=True):\n",
    "        super(nnConvModule, self).__init__()\n",
    "        stride = 4\n",
    "        self.nn_conv = nn.Conv1d(in_channels, out_channels, kernel_size * stride, stride, bias=bias)\n",
    "        self.in_channels = in_channels\n",
    "        self.out_channels = out_channels\n",
    "    \n",
    "    def forward(self, x):\n",
    "        y = self.nn_conv(x.view(x.size(0), 1, x.size(1)))\n",
    "        return y.view(y.size(0), y.size(1) * y.size(2))\n",
    "        "
   ]
  },
  {
   "cell_type": "code",
   "execution_count": 199,
   "metadata": {
    "collapsed": false
   },
   "outputs": [
    {
     "name": "stdout",
     "output_type": "stream",
     "text": [
      "bootstrap: 32          rk 0/6338                     \n",
      "cls ['F1', 'F2', 'F3', 'F4', 'F5', 'F6', 'F7', 'F8'] sizes: [ 154 1033 1497 1401 1827 2170 1939 1671], chosen 1033\n",
      "accuracy (mean, median, min, max): 0.147 0.147 0.147 0.147\n",
      "\n"
     ]
    }
   ],
   "source": [
    "model = nn.Sequential(nnCat(nnConvModule(1), nnConvModule(2), nnConvModule(3), nnConvModule(4)),\n",
    "                      nn.Linear(4 * (d20[0]//4) - 6, 20), nn.Tanh(), nn.Linear(20, 8))\n",
    "fcls_accuracy_F1F8(nnModel(model, batch_size=1000), sq20, fh20, 32, 8)"
   ]
  },
  {
   "cell_type": "code",
   "execution_count": 206,
   "metadata": {
    "collapsed": false
   },
   "outputs": [
    {
     "name": "stdout",
     "output_type": "stream",
     "text": [
      "bootstrap: 32          ork 0/6338                    \n",
      "cls ['F1', 'F2', 'F3', 'F4', 'F5', 'F6', 'F7', 'F8'] sizes: [ 154 1033 1497 1401 1827 2170 1939 1671], chosen 1033\n",
      "accuracy (mean, median, min, max): 0.315 0.316 0.301 0.326\n",
      "\n"
     ]
    }
   ],
   "source": [
    "model = nn.Sequential(nn.Linear(d20[0], 20), nn.Tanh(), nnCat(\n",
    "                    nn.Sequential(nnToConvs(), nn.Conv1d(1, 1, 2), nnFromConvs()),\n",
    "                    nn.Sequential(nnToConvs(), nn.Conv1d(1, 1, 3), nnFromConvs()),\n",
    "                    nn.Sequential(nnToConvs(), nn.Conv1d(1, 1, 4), nnFromConvs()),\n",
    "                    nn.Sequential(nnToConvs(), nn.Conv1d(1, 1, 5), nnFromConvs())),\n",
    "                nn.Linear(4 * 20 - 10, 8))\n",
    "fcls_accuracy_F1F8(nnModel(model, batch_size=1000), sq20, fh20, 32, 8)"
   ]
  },
  {
   "cell_type": "code",
   "execution_count": 196,
   "metadata": {
    "collapsed": false
   },
   "outputs": [
    {
     "name": "stdout",
     "output_type": "stream",
     "text": [
      "bootstrap: 32          rk 0/6338                                                             \n",
      "cls ['F1', 'F2', 'F3', 'F4', 'F5', 'F6', 'F7', 'F8'] sizes: [ 154 1033 1497 1401 1827 2170 1939 1671], chosen 1033\n",
      "accuracy (mean, median, min, max): 0.252 0.253 0.244 0.261\n",
      "\n"
     ]
    }
   ],
   "source": [
    "model = nn.Sequential(nnConvModule(1), nn.Tanh(), nn.Linear(d20[0]//4, 8))\n",
    "fcls_accuracy_F1F8(nnModel(model, batch_size=1000), sq20, fh20, 32, 8)"
   ]
  },
  {
   "cell_type": "code",
   "execution_count": 29,
   "metadata": {
    "collapsed": false,
    "deletable": true,
    "editable": true
   },
   "outputs": [
    {
     "name": "stdout",
     "output_type": "stream",
     "text": [
      "bootstrap: 32          rk 0/920                     \n",
      "cls ['F1', 'F2', 'F3', 'F4', 'F5', 'F6', 'F7', 'F8'] sizes: [ 154 1033 1497 1401 1827 2170 1939 1671], chosen 154\n",
      "accuracy (mean, median, min, max): 0.246 0.244 0.217 0.280\n",
      "\n",
      "bootstrap: 32          rk 5120/6338                                                                                                                                                                                                                                                                                                                                                                                            \n",
      "cls ['F1', 'F2', 'F3', 'F4', 'F5', 'F6', 'F7', 'F8'] sizes: [ 154 1033 1497 1401 1827 2170 1939 1671], chosen 1033\n",
      "accuracy (mean, median, min, max): 0.265 0.263 0.247 0.287\n",
      "\n",
      "bootstrap: 32          rk 7680/8769                                                                                                                                                                                                                                                                                                             \n",
      "cls ['F1', 'F2', 'F3', 'F4', 'F5', 'F6', 'F7', 'F8'] sizes: [ 154 1033 1497 1401 1827 2170 1939 1671], chosen 154\n",
      "accuracy (mean, median, min, max): 0.246 0.239 0.222 0.281\n",
      "\n"
     ]
    }
   ],
   "source": [
    "model = nn.Sequential(nnConvModule(2), nn.Linear(d20[0]//4 - 1, 8))\n",
    "fcls_accuracy_F1F8(nnModel(model), sq20, fh20, 32)\n",
    "\n",
    "model = nn.Sequential(nnConvModule(2), nn.Linear(d20[0]//4 - 1, 8))\n",
    "fcls_accuracy_F1F8(nnModel(model), sq20, fh20, 32, 8)\n",
    "\n",
    "model = nn.Sequential(nnConvModule(2), nn.Linear(d20[0]//4 - 1, 8))\n",
    "fcls_accuracy_F1F8(nnModel(model), sq20, fh20, 32,  normalize=False)"
   ]
  },
  {
   "cell_type": "code",
   "execution_count": 178,
   "metadata": {
    "collapsed": false
   },
   "outputs": [
    {
     "name": "stdout",
     "output_type": "stream",
     "text": [
      "bootstrap: 256          rk 0/6338                                                                                                                                                                \n",
      "cls ['F1', 'F2', 'F3', 'F4', 'F5', 'F6', 'F7', 'F8'] sizes: [ 154 1033 1497 1401 1827 2170 1939 1671], chosen 1033\n",
      "accuracy (mean, median, min, max): 0.271 0.271 0.256 0.284\n",
      "\n",
      "bootstrap: 256          k 0/6338                                                                                                                                                                                                                                                                                                                                                                                                                 \n",
      "cls ['F1', 'F2', 'F3', 'F4', 'F5', 'F6', 'F7', 'F8'] sizes: [ 154 1033 1497 1401 1827 2170 1939 1671], chosen 1033\n",
      "accuracy (mean, median, min, max): 0.271 0.271 0.258 0.285\n",
      "\n",
      "bootstrap: 256          k 0/6338                                                                                                                                             \n",
      "cls ['F1', 'F2', 'F3', 'F4', 'F5', 'F6', 'F7', 'F8'] sizes: [ 154 1033 1497 1401 1827 2170 1939 1671], chosen 1033\n",
      "accuracy (mean, median, min, max): 0.272 0.271 0.259 0.289\n",
      "\n",
      "bootstrap: 2          ork 0/6338                                         \n",
      "cls ['F1', 'F2', 'F3', 'F4', 'F5', 'F6', 'F7', 'F8'] sizes: [ 154 1033 1497 1401 1827 2170 1939 1671], chosen 1033\n",
      "accuracy (mean, median, min, max): 0.275 0.275 0.264 0.285\n",
      "\n",
      "bootstrap: 256          k 0/6338                                                                                                                                             \n",
      "cls ['F1', 'F2', 'F3', 'F4', 'F5', 'F6', 'F7', 'F8'] sizes: [ 154 1033 1497 1401 1827 2170 1939 1671], chosen 1033\n",
      "accuracy (mean, median, min, max): 0.271 0.271 0.259 0.284\n",
      "\n",
      "bootstrap: 256          k 0/6338                                                                                                                                                                                                         \n",
      "cls ['F1', 'F2', 'F3', 'F4', 'F5', 'F6', 'F7', 'F8'] sizes: [ 154 1033 1497 1401 1827 2170 1939 1671], chosen 1033\n",
      "accuracy (mean, median, min, max): 0.272 0.272 0.257 0.289\n",
      "\n",
      "bootstrap: 256          rk 0/6338                                                                                                                                            \n",
      "cls ['F1', 'F2', 'F3', 'F4', 'F5', 'F6', 'F7', 'F8'] sizes: [ 154 1033 1497 1401 1827 2170 1939 1671], chosen 1033\n",
      "accuracy (mean, median, min, max): 0.270 0.270 0.258 0.281\n",
      "\n",
      "bootstrap: 256          rk 0/6338                                                                                                                                                                \n",
      "cls ['F1', 'F2', 'F3', 'F4', 'F5', 'F6', 'F7', 'F8'] sizes: [ 154 1033 1497 1401 1827 2170 1939 1671], chosen 1033\n",
      "accuracy (mean, median, min, max): 0.270 0.271 0.256 0.284\n",
      "\n",
      "bootstrap: 256          k 0/6338                                                                                                                         \n",
      "cls ['F1', 'F2', 'F3', 'F4', 'F5', 'F6', 'F7', 'F8'] sizes: [ 154 1033 1497 1401 1827 2170 1939 1671], chosen 1033\n",
      "accuracy (mean, median, min, max): 0.270 0.271 0.256 0.282\n",
      "\n"
     ]
    }
   ],
   "source": [
    "model = nn.Sequential(nnConvModule(2), nn.Linear(d20[0]//4 - 1, 8))\n",
    "fcls_accuracy_F1F8(nnModel(model, batch_size=1000), sq20, fh20, 256, 8)\n",
    "model = nn.Sequential(nnConvModule(2), nn.Linear(d20[0]//4 - 1, 8))\n",
    "fcls_accuracy_F1F8(nnModel(model, batch_size=2000), sq20, fh20, 256, 8)\n",
    "model = nn.Sequential(nnConvModule(2), nn.Linear(d20[0]//4 - 1, 8))\n",
    "fcls_accuracy_F1F8(nnModel(model, batch_size=3000), sq20, fh20, 256, 8)\n",
    "model = nn.Sequential(nnConvModule(2), nn.Linear(d20[0]//4 - 1, 8))\n",
    "fcls_accuracy_F1F8(nnModel(model, batch_size=4000), sq20, fh20, 2, 8)\n",
    "model = nn.Sequential(nnConvModule(2), nn.Linear(d20[0]//4 - 1, 8))\n",
    "fcls_accuracy_F1F8(nnModel(model, batch_size=5000), sq20, fh20, 256, 8)\n",
    "model = nn.Sequential(nnConvModule(2), nn.Linear(d20[0]//4 - 1, 8))\n",
    "fcls_accuracy_F1F8(nnModel(model, batch_size=6000), sq20, fh20, 256, 8)\n",
    "model = nn.Sequential(nnConvModule(2), nn.Linear(d20[0]//4 - 1, 8))\n",
    "fcls_accuracy_F1F8(nnModel(model, batch_size=7000), sq20, fh20, 256, 8)\n",
    "model = nn.Sequential(nnConvModule(2), nn.Linear(d20[0]//4 - 1, 8))\n",
    "fcls_accuracy_F1F8(nnModel(model, batch_size=8000), sq20, fh20, 256, 8)\n",
    "model = nn.Sequential(nnConvModule(2), nn.Linear(d20[0]//4 - 1, 8))\n",
    "fcls_accuracy_F1F8(nnModel(model, batch_size=100000), sq20, fh20, 256, 8)"
   ]
  },
  {
   "cell_type": "code",
   "execution_count": 30,
   "metadata": {
    "collapsed": false,
    "deletable": true,
    "editable": true
   },
   "outputs": [
    {
     "name": "stdout",
     "output_type": "stream",
     "text": [
      "bootstrap: 32          rk 0/920                     \n",
      "cls ['F1', 'F2', 'F3', 'F4', 'F5', 'F6', 'F7', 'F8'] sizes: [ 154 1033 1497 1401 1827 2170 1939 1671], chosen 154\n",
      "accuracy (mean, median, min, max): 0.206 0.210 0.157 0.251\n",
      "\n",
      "bootstrap: 32          rk 5120/6338                                                                                                                                                                                                                                                                                                                                                                        \n",
      "cls ['F1', 'F2', 'F3', 'F4', 'F5', 'F6', 'F7', 'F8'] sizes: [ 154 1033 1497 1401 1827 2170 1939 1671], chosen 1033\n",
      "accuracy (mean, median, min, max): 0.221 0.223 0.179 0.255\n",
      "\n",
      "bootstrap: 32          ork 7680/8769                                                                                                                                                                                                                                                                   \n",
      "cls ['F1', 'F2', 'F3', 'F4', 'F5', 'F6', 'F7', 'F8'] sizes: [ 154 1033 1497 1401 1827 2170 1939 1671], chosen 154\n",
      "accuracy (mean, median, min, max): 0.215 0.217 0.179 0.264\n",
      "\n"
     ]
    }
   ],
   "source": [
    "model = nn.Sequential(nnConvModule(2), nn.ReLU(), nn.Linear(d20[0]//4 - 1, 8))\n",
    "fcls_accuracy_F1F8(nnModel(model), sq20, fh20, 32)\n",
    "\n",
    "model = nn.Sequential(nnConvModule(2), nn.ReLU(), nn.Linear(d20[0]//4 - 1, 8))\n",
    "fcls_accuracy_F1F8(nnModel(model), sq20, fh20, 32, 8)\n",
    "\n",
    "model = nn.Sequential(nnConvModule(2), nn.ReLU(), nn.Linear(d20[0]//4 - 1, 8))\n",
    "fcls_accuracy_F1F8(nnModel(model), sq20, fh20, 32, normalize=False)"
   ]
  },
  {
   "cell_type": "code",
   "execution_count": 35,
   "metadata": {
    "collapsed": false,
    "deletable": true,
    "editable": true
   },
   "outputs": [
    {
     "name": "stdout",
     "output_type": "stream",
     "text": [
      "bootstrap: 32          rk 0/920                     \n",
      "cls ['F1', 'F2', 'F3', 'F4', 'F5', 'F6', 'F7', 'F8'] sizes: [ 154 1033 1497 1401 1827 2170 1939 1671], chosen 154\n",
      "accuracy (mean, median, min, max): 0.255 0.255 0.224 0.282\n",
      "\n",
      "bootstrap: 32          ork 5120/6338                                                                                                                                                                                                                           \n",
      "cls ['F1', 'F2', 'F3', 'F4', 'F5', 'F6', 'F7', 'F8'] sizes: [ 154 1033 1497 1401 1827 2170 1939 1671], chosen 1033\n",
      "accuracy (mean, median, min, max): 0.261 0.262 0.232 0.287\n",
      "\n",
      "bootstrap: 32          ork 7680/8769                                                                                                                                                                                                                                                                                                                                                   \n",
      "cls ['F1', 'F2', 'F3', 'F4', 'F5', 'F6', 'F7', 'F8'] sizes: [ 154 1033 1497 1401 1827 2170 1939 1671], chosen 154\n",
      "accuracy (mean, median, min, max): 0.261 0.259 0.234 0.286\n",
      "\n"
     ]
    }
   ],
   "source": [
    "model = nn.Sequential(nnConvModule(3), nn.Linear(d20[0]//4 - 2, 8))\n",
    "fcls_accuracy_F1F8(nnModel(model), sq20, fh20, 32)\n",
    "\n",
    "model = nn.Sequential(nnConvModule(3), nn.Linear(d20[0]//4 - 2, 8))\n",
    "fcls_accuracy_F1F8(nnModel(model), sq20, fh20, 32, 8)\n",
    "\n",
    "model = nn.Sequential(nnConvModule(3), nn.Linear(d20[0]//4 - 2, 8))\n",
    "fcls_accuracy_F1F8(nnModel(model), sq20, fh20, 32, normalize=False)"
   ]
  },
  {
   "cell_type": "code",
   "execution_count": 179,
   "metadata": {
    "collapsed": false
   },
   "outputs": [
    {
     "name": "stdout",
     "output_type": "stream",
     "text": [
      "bootstrap: 256          k 0/6338                                                                                                                                                                                                                                                                                                                                 \n",
      "cls ['F1', 'F2', 'F3', 'F4', 'F5', 'F6', 'F7', 'F8'] sizes: [ 154 1033 1497 1401 1827 2170 1939 1671], chosen 1033\n",
      "accuracy (mean, median, min, max): 0.274 0.274 0.261 0.287\n",
      "\n",
      "bootstrap: 256          k 0/6338                                                                                                                                                                                                                                                                                                                                                     \n",
      "cls ['F1', 'F2', 'F3', 'F4', 'F5', 'F6', 'F7', 'F8'] sizes: [ 154 1033 1497 1401 1827 2170 1939 1671], chosen 1033\n",
      "accuracy (mean, median, min, max): 0.275 0.275 0.263 0.288\n",
      "\n",
      "bootstrap: 256          k 0/6338                                                                                                                                                                                                                                                                                                                                                     \n",
      "cls ['F1', 'F2', 'F3', 'F4', 'F5', 'F6', 'F7', 'F8'] sizes: [ 154 1033 1497 1401 1827 2170 1939 1671], chosen 1033\n",
      "accuracy (mean, median, min, max): 0.274 0.274 0.260 0.288\n",
      "\n",
      "bootstrap: 256          k 0/6338                                                                                                                                                                                                                                                                                                             \n",
      "cls ['F1', 'F2', 'F3', 'F4', 'F5', 'F6', 'F7', 'F8'] sizes: [ 154 1033 1497 1401 1827 2170 1939 1671], chosen 1033\n",
      "accuracy (mean, median, min, max): 0.273 0.272 0.261 0.284\n",
      "\n",
      "bootstrap: 256          rk 0/6338                                                                                                                                            \n",
      "cls ['F1', 'F2', 'F3', 'F4', 'F5', 'F6', 'F7', 'F8'] sizes: [ 154 1033 1497 1401 1827 2170 1939 1671], chosen 1033\n",
      "accuracy (mean, median, min, max): 0.274 0.274 0.261 0.289\n",
      "\n",
      "bootstrap: 256          k 0/6338                                                                                                                                                                                                         \n",
      "cls ['F1', 'F2', 'F3', 'F4', 'F5', 'F6', 'F7', 'F8'] sizes: [ 154 1033 1497 1401 1827 2170 1939 1671], chosen 1033\n",
      "accuracy (mean, median, min, max): 0.274 0.274 0.259 0.289\n",
      "\n",
      "bootstrap: 256          rk 0/6338                                                                                                                                                                \n",
      "cls ['F1', 'F2', 'F3', 'F4', 'F5', 'F6', 'F7', 'F8'] sizes: [ 154 1033 1497 1401 1827 2170 1939 1671], chosen 1033\n",
      "accuracy (mean, median, min, max): 0.273 0.273 0.259 0.285\n",
      "\n",
      "bootstrap: 256          rk 0/6338                                                                                                                                            \n",
      "cls ['F1', 'F2', 'F3', 'F4', 'F5', 'F6', 'F7', 'F8'] sizes: [ 154 1033 1497 1401 1827 2170 1939 1671], chosen 1033\n",
      "accuracy (mean, median, min, max): 0.272 0.272 0.260 0.285\n",
      "\n",
      "bootstrap: 256          k 0/6338                                                                                                                                                                                     \n",
      "cls ['F1', 'F2', 'F3', 'F4', 'F5', 'F6', 'F7', 'F8'] sizes: [ 154 1033 1497 1401 1827 2170 1939 1671], chosen 1033\n",
      "accuracy (mean, median, min, max): 0.273 0.273 0.261 0.285\n",
      "\n"
     ]
    }
   ],
   "source": [
    "model = nn.Sequential(nnConvModule(3), nn.Linear(d20[0]//4 - 2, 8))\n",
    "fcls_accuracy_F1F8(nnModel(model, batch_size=1000), sq20, fh20, 256, 8)\n",
    "\n",
    "model = nn.Sequential(nnConvModule(3), nn.Linear(d20[0]//4 - 2, 8))\n",
    "fcls_accuracy_F1F8(nnModel(model, batch_size=2000), sq20, fh20, 256, 8)\n",
    "\n",
    "model = nn.Sequential(nnConvModule(3), nn.Linear(d20[0]//4 - 2, 8))\n",
    "fcls_accuracy_F1F8(nnModel(model, batch_size=3000), sq20, fh20, 256, 8)\n",
    "\n",
    "model = nn.Sequential(nnConvModule(3), nn.Linear(d20[0]//4 - 2, 8))\n",
    "fcls_accuracy_F1F8(nnModel(model, batch_size=4000), sq20, fh20, 256, 8)\n",
    "\n",
    "model = nn.Sequential(nnConvModule(3), nn.Linear(d20[0]//4 - 2, 8))\n",
    "fcls_accuracy_F1F8(nnModel(model, batch_size=5000), sq20, fh20, 256, 8)\n",
    "\n",
    "model = nn.Sequential(nnConvModule(3), nn.Linear(d20[0]//4 - 2, 8))\n",
    "fcls_accuracy_F1F8(nnModel(model, batch_size=6000), sq20, fh20, 256, 8)\n",
    "\n",
    "model = nn.Sequential(nnConvModule(3), nn.Linear(d20[0]//4 - 2, 8))\n",
    "fcls_accuracy_F1F8(nnModel(model, batch_size=7000), sq20, fh20, 256, 8)\n",
    "\n",
    "model = nn.Sequential(nnConvModule(3), nn.Linear(d20[0]//4 - 2, 8))\n",
    "fcls_accuracy_F1F8(nnModel(model, batch_size=8000), sq20, fh20, 256, 8)\n",
    "\n",
    "model = nn.Sequential(nnConvModule(3), nn.Linear(d20[0]//4 - 2, 8))\n",
    "fcls_accuracy_F1F8(nnModel(model, batch_size=100000), sq20, fh20, 256, 8)\n"
   ]
  },
  {
   "cell_type": "code",
   "execution_count": 36,
   "metadata": {
    "collapsed": false,
    "deletable": true,
    "editable": true
   },
   "outputs": [
    {
     "name": "stdout",
     "output_type": "stream",
     "text": [
      "bootstrap: 32          rk 0/920                                         \n",
      "cls ['F1', 'F2', 'F3', 'F4', 'F5', 'F6', 'F7', 'F8'] sizes: [ 154 1033 1497 1401 1827 2170 1939 1671], chosen 154\n",
      "accuracy (mean, median, min, max): 0.257 0.256 0.223 0.285\n",
      "\n",
      "bootstrap: 32          rk 5120/6338                                                                                                                                                                                                                                                                                                            \n",
      "cls ['F1', 'F2', 'F3', 'F4', 'F5', 'F6', 'F7', 'F8'] sizes: [ 154 1033 1497 1401 1827 2170 1939 1671], chosen 1033\n",
      "accuracy (mean, median, min, max): 0.265 0.265 0.241 0.290\n",
      "\n",
      "bootstrap: 32          rk 7680/8769                                                                                                                                                                                                                                                                                                                                                                                                                                                                                                                    \n",
      "cls ['F1', 'F2', 'F3', 'F4', 'F5', 'F6', 'F7', 'F8'] sizes: [ 154 1033 1497 1401 1827 2170 1939 1671], chosen 154\n",
      "accuracy (mean, median, min, max): 0.257 0.263 0.213 0.279\n",
      "\n"
     ]
    }
   ],
   "source": [
    "model = nn.Sequential(nnConvModule(4), nn.Linear(d20[0]//4 - 3, 8))\n",
    "fcls_accuracy_F1F8(nnModel(model), sq20, fh20, 32)\n",
    "\n",
    "model = nn.Sequential(nnConvModule(4), nn.Linear(d20[0]//4 - 3, 8))\n",
    "fcls_accuracy_F1F8(nnModel(model), sq20, fh20, 32, 8)\n",
    "\n",
    "model = nn.Sequential(nnConvModule(4), nn.Linear(d20[0]//4 - 3, 8))\n",
    "fcls_accuracy_F1F8(nnModel(model), sq20, fh20, 32, normalize=False)"
   ]
  },
  {
   "cell_type": "code",
   "execution_count": 180,
   "metadata": {
    "collapsed": false
   },
   "outputs": [
    {
     "name": "stdout",
     "output_type": "stream",
     "text": [
      "bootstrap: 256          rk 0/6338                                                                                                                                                                                                                            \n",
      "cls ['F1', 'F2', 'F3', 'F4', 'F5', 'F6', 'F7', 'F8'] sizes: [ 154 1033 1497 1401 1827 2170 1939 1671], chosen 1033\n",
      "accuracy (mean, median, min, max): 0.275 0.275 0.263 0.288\n",
      "\n",
      "bootstrap: 256          k 0/6338                                                                                                                         \n",
      "cls ['F1', 'F2', 'F3', 'F4', 'F5', 'F6', 'F7', 'F8'] sizes: [ 154 1033 1497 1401 1827 2170 1939 1671], chosen 1033\n",
      "accuracy (mean, median, min, max): 0.274 0.275 0.262 0.286\n",
      "\n",
      "bootstrap: 256          rk 0/6338                                                                                                                                                                                                        \n",
      "cls ['F1', 'F2', 'F3', 'F4', 'F5', 'F6', 'F7', 'F8'] sizes: [ 154 1033 1497 1401 1827 2170 1939 1671], chosen 1033\n",
      "accuracy (mean, median, min, max): 0.274 0.274 0.262 0.286\n",
      "\n"
     ]
    }
   ],
   "source": [
    "model = nn.Sequential(nnConvModule(4), nn.Linear(d20[0]//4 - 3, 8))\n",
    "fcls_accuracy_F1F8(nnModel(model, batch_size=1000), sq20, fh20, 256, 8)\n",
    "\n",
    "model = nn.Sequential(nnConvModule(4), nn.Linear(d20[0]//4 - 3, 8))\n",
    "fcls_accuracy_F1F8(nnModel(model, batch_size=2000), sq20, fh20, 256, 8)\n",
    "\n",
    "model = nn.Sequential(nnConvModule(4), nn.Linear(d20[0]//4 - 3, 8))\n",
    "fcls_accuracy_F1F8(nnModel(model, batch_size=4000), sq20, fh20, 256, 8)"
   ]
  },
  {
   "cell_type": "code",
   "execution_count": 38,
   "metadata": {
    "collapsed": false
   },
   "outputs": [
    {
     "name": "stdout",
     "output_type": "stream",
     "text": [
      "bootstrap: 32          rk 0/920                     \n",
      "cls ['F1', 'F2', 'F3', 'F4', 'F5', 'F6', 'F7', 'F8'] sizes: [ 154 1033 1497 1401 1827 2170 1939 1671], chosen 154\n",
      "accuracy (mean, median, min, max): 0.255 0.258 0.225 0.285\n",
      "\n",
      "bootstrap: 32          rk 5120/6338                                                                                                                                                                                                                                                                                        \n",
      "cls ['F1', 'F2', 'F3', 'F4', 'F5', 'F6', 'F7', 'F8'] sizes: [ 154 1033 1497 1401 1827 2170 1939 1671], chosen 1033\n",
      "accuracy (mean, median, min, max): 0.267 0.264 0.235 0.296\n",
      "\n",
      "bootstrap: 32          rk 7680/8769                                                                                                                                                                                                                                                                                                                                                                                                                                                                                                                    \n",
      "cls ['F1', 'F2', 'F3', 'F4', 'F5', 'F6', 'F7', 'F8'] sizes: [ 154 1033 1497 1401 1827 2170 1939 1671], chosen 154\n",
      "accuracy (mean, median, min, max): 0.259 0.261 0.226 0.284\n",
      "\n"
     ]
    }
   ],
   "source": [
    "model = nn.Sequential(nnConvModule(5), nn.Linear(d20[0]//4 - 4, 8))\n",
    "fcls_accuracy_F1F8(nnModel(model), sq20, fh20, 32)\n",
    "\n",
    "model = nn.Sequential(nnConvModule(5), nn.Linear(d20[0]//4 - 4, 8))\n",
    "fcls_accuracy_F1F8(nnModel(model), sq20, fh20, 32, 8)\n",
    "\n",
    "model = nn.Sequential(nnConvModule(5), nn.Linear(d20[0]//4 - 4, 8))\n",
    "fcls_accuracy_F1F8(nnModel(model), sq20, fh20, 32, normalize=False)"
   ]
  },
  {
   "cell_type": "code",
   "execution_count": 181,
   "metadata": {
    "collapsed": false
   },
   "outputs": [
    {
     "name": "stdout",
     "output_type": "stream",
     "text": [
      "bootstrap: 32          rk 0/6338                                         \n",
      "cls ['F1', 'F2', 'F3', 'F4', 'F5', 'F6', 'F7', 'F8'] sizes: [ 154 1033 1497 1401 1827 2170 1939 1671], chosen 1033\n",
      "accuracy (mean, median, min, max): 0.275 0.276 0.262 0.291\n",
      "\n",
      "bootstrap: 32          rk 0/6338                                         \n",
      "cls ['F1', 'F2', 'F3', 'F4', 'F5', 'F6', 'F7', 'F8'] sizes: [ 154 1033 1497 1401 1827 2170 1939 1671], chosen 1033\n",
      "accuracy (mean, median, min, max): 0.272 0.273 0.258 0.285\n",
      "\n",
      "bootstrap: 32          rk 0/6338                     \n",
      "cls ['F1', 'F2', 'F3', 'F4', 'F5', 'F6', 'F7', 'F8'] sizes: [ 154 1033 1497 1401 1827 2170 1939 1671], chosen 1033\n",
      "accuracy (mean, median, min, max): 0.274 0.274 0.263 0.285\n",
      "\n",
      "bootstrap: 32          rk 0/6338                                                             \n",
      "cls ['F1', 'F2', 'F3', 'F4', 'F5', 'F6', 'F7', 'F8'] sizes: [ 154 1033 1497 1401 1827 2170 1939 1671], chosen 1033\n",
      "accuracy (mean, median, min, max): 0.275 0.276 0.260 0.283\n",
      "\n"
     ]
    }
   ],
   "source": [
    "model = nn.Sequential(nnConvModule(5), nn.Linear(d20[0]//4 - 4, 8))\n",
    "fcls_accuracy_F1F8(nnModel(model, batch_size=1000), sq20, fh20, 32, 8)\n",
    "\n",
    "model = nn.Sequential(nnConvModule(5), nn.Linear(d20[0]//4 - 4, 8))\n",
    "fcls_accuracy_F1F8(nnModel(model, batch_size=2000), sq20, fh20, 32, 8)\n",
    "\n",
    "model = nn.Sequential(nnConvModule(5), nn.Linear(d20[0]//4 - 4, 8))\n",
    "fcls_accuracy_F1F8(nnModel(model, batch_size=4000), sq20, fh20, 32, 8)\n",
    "\n",
    "model = nn.Sequential(nnConvModule(5), nn.Linear(d20[0]//4 - 4, 8))\n",
    "fcls_accuracy_F1F8(nnModel(model, batch_size=100000), sq20, fh20, 32, 8)"
   ]
  },
  {
   "cell_type": "code",
   "execution_count": 148,
   "metadata": {
    "collapsed": true,
    "deletable": true,
    "editable": true
   },
   "outputs": [],
   "source": [
    "class nnBypass(object):\n",
    "    def __init__(self):\n",
    "        super(nnBypass).__init__()\n",
    "    \n",
    "    def forward(self, x):\n",
    "        return x\n",
    "    \n",
    "\n",
    "class nnFitLogRegr(object):\n",
    "    def fit(self, X_train, y_train):\n",
    "        self.lr_model = LogisticRegression().fit(X_train, y_train)\n",
    "        return self\n",
    "    \n",
    "    def forward(self, x): # breaks calculations graph: use it only on input data\n",
    "        arr = self.lr_model.predict_proba(x.data.numpy())\n",
    "        y = Variable(torch.from_numpy(arr)).float()\n",
    "        return y\n",
    "    \n",
    "class nnCat(nn.Module):\n",
    "    def __init__(self, *modules, **kwargs):\n",
    "        assert len(kwargs) <= 2\n",
    "        super(nnCat, self).__init__()\n",
    "        self.cat_modules = list(modules)\n",
    "        for i,m in enumerate(modules):\n",
    "            self.add_module('catmodule' + str(i), m)\n",
    "        if ('bypass' in kwargs and kwargs['bypass']):\n",
    "            self.cat_modules.append(nnBypass())\n",
    "        if ('fitlr' in kwargs and kwargs['fitlr']):\n",
    "            self.lr = nnFitLogRegr()\n",
    "            self.cat_modules.append(self.lr)\n",
    "\n",
    "    def forward(self, x):\n",
    "        return torch.cat([m.forward(x) for m in self.cat_modules], 1)"
   ]
  },
  {
   "cell_type": "code",
   "execution_count": 84,
   "metadata": {
    "collapsed": false,
    "deletable": true,
    "editable": true
   },
   "outputs": [
    {
     "name": "stdout",
     "output_type": "stream",
     "text": [
      "bootstrap: 32          rk 0/920                     \n",
      "cls ['F1', 'F2', 'F3', 'F4', 'F5', 'F6', 'F7', 'F8'] sizes: [ 154 1033 1497 1401 1827 2170 1939 1671], chosen 154\n",
      "accuracy (mean, median, min, max): 0.252 0.250 0.218 0.290\n",
      "\n",
      "bootstrap: 32          ork 5120/6338                                       \n",
      "cls ['F1', 'F2', 'F3', 'F4', 'F5', 'F6', 'F7', 'F8'] sizes: [ 154 1033 1497 1401 1827 2170 1939 1671], chosen 1033\n",
      "accuracy (mean, median, min, max): 0.252 0.256 0.205 0.286\n",
      "\n",
      "bootstrap: 32          rk 7680/8769                                                                                                                                                                                                                                                                                                                                 \n",
      "cls ['F1', 'F2', 'F3', 'F4', 'F5', 'F6', 'F7', 'F8'] sizes: [ 154 1033 1497 1401 1827 2170 1939 1671], chosen 154\n",
      "accuracy (mean, median, min, max): 0.256 0.259 0.224 0.279\n",
      "\n"
     ]
    }
   ],
   "source": [
    "cd20 = d20[0] // 4\n",
    "model = nn.Sequential(nnCat(nnConvModule(2), bypass=True), nn.Linear(d20[0] + cd20 - 1, 8))\n",
    "fcls_accuracy_F1F8(nnModel(model), sq20, fh20, 32)\n",
    "\n",
    "model = nn.Sequential(nnCat(nnConvModule(2), bypass=True), nn.Linear(d20[0] + cd20 - 1, 8))\n",
    "fcls_accuracy_F1F8(nnModel(model), sq20, fh20, 32, 8)\n",
    "\n",
    "\n",
    "model = nn.Sequential(nnCat(nnConvModule(2), bypass=True), nn.Linear(d20[0] + cd20 - 1, 8))\n",
    "fcls_accuracy_F1F8(nnModel(model), sq20, fh20, 32, normalize=False)"
   ]
  },
  {
   "cell_type": "code",
   "execution_count": 42,
   "metadata": {
    "collapsed": false,
    "deletable": true,
    "editable": true
   },
   "outputs": [
    {
     "name": "stdout",
     "output_type": "stream",
     "text": [
      "bootstrap: 32          rk 0/920                     \n",
      "cls ['F1', 'F2', 'F3', 'F4', 'F5', 'F6', 'F7', 'F8'] sizes: [ 154 1033 1497 1401 1827 2170 1939 1671], chosen 154\n",
      "accuracy (mean, median, min, max): 0.258 0.258 0.231 0.283\n",
      "\n",
      "bootstrap: 32          rk 5120/6338                     \n",
      "cls ['F1', 'F2', 'F3', 'F4', 'F5', 'F6', 'F7', 'F8'] sizes: [ 154 1033 1497 1401 1827 2170 1939 1671], chosen 1033\n",
      "accuracy (mean, median, min, max): 0.261 0.261 0.233 0.284\n",
      "\n"
     ]
    }
   ],
   "source": [
    "cd20 = d20[0] // 4\n",
    "model = nn.Sequential(nnCat(nnConvModule(1), nnConvModule(2)), nn.Linear(2 * cd20 - 1, 8))\n",
    "fcls_accuracy_F1F8(nnModel(model), sq20, fh20, 32)\n",
    "\n",
    "model = nn.Sequential(nnCat(nnConvModule(1), nnConvModule(2)), nn.Linear(2 * cd20 - 1, 8))\n",
    "fcls_accuracy_F1F8(nnModel(model), sq20, fh20, 32, 8)"
   ]
  },
  {
   "cell_type": "code",
   "execution_count": 43,
   "metadata": {
    "collapsed": false,
    "deletable": true,
    "editable": true
   },
   "outputs": [
    {
     "name": "stdout",
     "output_type": "stream",
     "text": [
      "bootstrap: 32          rk 0/920                     \n",
      "cls ['F1', 'F2', 'F3', 'F4', 'F5', 'F6', 'F7', 'F8'] sizes: [ 154 1033 1497 1401 1827 2170 1939 1671], chosen 154\n",
      "accuracy (mean, median, min, max): 0.258 0.256 0.229 0.301\n",
      "\n",
      "bootstrap: 32          rk 5120/6338                     \n",
      "cls ['F1', 'F2', 'F3', 'F4', 'F5', 'F6', 'F7', 'F8'] sizes: [ 154 1033 1497 1401 1827 2170 1939 1671], chosen 1033\n",
      "accuracy (mean, median, min, max): 0.263 0.268 0.227 0.295\n",
      "\n"
     ]
    }
   ],
   "source": [
    "cd20 = d20[0] // 4\n",
    "model = nn.Sequential(nnCat(nnConvModule(1), nnConvModule(2), nnConvModule(3), bypass=True), nn.Linear(d20[0] + 3 * cd20 - 3, 8))\n",
    "fcls_accuracy_F1F8(nnModel(model), sq20, fh20, 32)\n",
    "\n",
    "model = nn.Sequential(nnCat(nnConvModule(1), nnConvModule(2), nnConvModule(3), bypass=True), nn.Linear(d20[0] + 3 * cd20 - 3, 8))\n",
    "fcls_accuracy_F1F8(nnModel(model), sq20, fh20, 32, 8)"
   ]
  },
  {
   "cell_type": "code",
   "execution_count": 47,
   "metadata": {
    "collapsed": false,
    "deletable": true,
    "editable": true
   },
   "outputs": [
    {
     "name": "stdout",
     "output_type": "stream",
     "text": [
      "bootstrap: 32          rk 0/920                     \n",
      "cls ['F1', 'F2', 'F3', 'F4', 'F5', 'F6', 'F7', 'F8'] sizes: [ 154 1033 1497 1401 1827 2170 1939 1671], chosen 154\n",
      "accuracy (mean, median, min, max): 0.260 0.255 0.221 0.318\n",
      "\n",
      "bootstrap: 32          ork 5120/6338                    \n",
      "cls ['F1', 'F2', 'F3', 'F4', 'F5', 'F6', 'F7', 'F8'] sizes: [ 154 1033 1497 1401 1827 2170 1939 1671], chosen 1033\n",
      "accuracy (mean, median, min, max): 0.276 0.278 0.229 0.303\n",
      "\n"
     ]
    }
   ],
   "source": [
    "cd20 = d20[0] // 4\n",
    "model = nn.Sequential(nnCat(nnConvModule(1), nnConvModule(2), nnConvModule(3), nnConvModule(4), bypass=True), nn.Linear(d20[0] + 4 * cd20 - 6, 8))\n",
    "fcls_accuracy_F1F8(nnModel(model), sq20, fh20, 32)\n",
    "\n",
    "model = nn.Sequential(nnCat(nnConvModule(1), nnConvModule(2), nnConvModule(3), nnConvModule(4), bypass=True), nn.Linear(d20[0] + 4 * cd20 - 6, 8))\n",
    "fcls_accuracy_F1F8(nnModel(model), sq20, fh20, 32, 8)"
   ]
  },
  {
   "cell_type": "markdown",
   "metadata": {},
   "source": [
    "### Best?"
   ]
  },
  {
   "cell_type": "code",
   "execution_count": 185,
   "metadata": {
    "collapsed": false
   },
   "outputs": [
    {
     "name": "stdout",
     "output_type": "stream",
     "text": [
      "bootstrap: 128          rk 0/6338                    \n",
      "cls ['F1', 'F2', 'F3', 'F4', 'F5', 'F6', 'F7', 'F8'] sizes: [ 154 1033 1497 1401 1827 2170 1939 1671], chosen 1033\n",
      "accuracy (mean, median, min, max): 0.307 0.308 0.291 0.321\n",
      "\n",
      "bootstrap: 128          rk 0/6338                                                                                \n",
      "cls ['F1', 'F2', 'F3', 'F4', 'F5', 'F6', 'F7', 'F8'] sizes: [ 154 1033 1497 1401 1827 2170 1939 1671], chosen 1033\n",
      "accuracy (mean, median, min, max): 0.307 0.309 0.289 0.322\n",
      "\n",
      "bootstrap: 128          k 0/6338                                                                                                                         \n",
      "cls ['F1', 'F2', 'F3', 'F4', 'F5', 'F6', 'F7', 'F8'] sizes: [ 154 1033 1497 1401 1827 2170 1939 1671], chosen 1033\n",
      "accuracy (mean, median, min, max): 0.306 0.305 0.287 0.329\n",
      "\n",
      "bootstrap: 128          k 0/6338                                                                                                                                             \n",
      "cls ['F1', 'F2', 'F3', 'F4', 'F5', 'F6', 'F7', 'F8'] sizes: [ 154 1033 1497 1401 1827 2170 1939 1671], chosen 1033\n",
      "accuracy (mean, median, min, max): 0.306 0.307 0.288 0.323\n",
      "\n",
      "bootstrap: 128          k 0/6338                                                                                                                                                                                                                                                                     \n",
      "cls ['F1', 'F2', 'F3', 'F4', 'F5', 'F6', 'F7', 'F8'] sizes: [ 154 1033 1497 1401 1827 2170 1939 1671], chosen 1033\n",
      "accuracy (mean, median, min, max): 0.307 0.308 0.289 0.324\n",
      "\n",
      "bootstrap: 128          k 0/6338                                                                                                                                                                                                         \n",
      "cls ['F1', 'F2', 'F3', 'F4', 'F5', 'F6', 'F7', 'F8'] sizes: [ 154 1033 1497 1401 1827 2170 1939 1671], chosen 1033\n",
      "accuracy (mean, median, min, max): 0.302 0.301 0.288 0.319\n",
      "\n",
      "bootstrap: 128          k 0/6338                                                                                                                                                                                                                                                                                                             \n",
      "cls ['F1', 'F2', 'F3', 'F4', 'F5', 'F6', 'F7', 'F8'] sizes: [ 154 1033 1497 1401 1827 2170 1939 1671], chosen 1033\n",
      "accuracy (mean, median, min, max): 0.302 0.301 0.286 0.321\n",
      "\n",
      "bootstrap: 128          k 0/6338                                                                                                                                                                                                                                                                                         \n",
      "cls ['F1', 'F2', 'F3', 'F4', 'F5', 'F6', 'F7', 'F8'] sizes: [ 154 1033 1497 1401 1827 2170 1939 1671], chosen 1033\n",
      "accuracy (mean, median, min, max): 0.305 0.305 0.287 0.321\n",
      "\n",
      "bootstrap: 128          k 0/6338                                                                                                                                                                                                                                                                     \n",
      "cls ['F1', 'F2', 'F3', 'F4', 'F5', 'F6', 'F7', 'F8'] sizes: [ 154 1033 1497 1401 1827 2170 1939 1671], chosen 1033\n",
      "accuracy (mean, median, min, max): 0.303 0.303 0.284 0.321\n",
      "\n"
     ]
    }
   ],
   "source": [
    "model = nn.Sequential(nnCat(nnConvModule(1), nnConvModule(2), nnConvModule(3), nnConvModule(4), bypass=True), nn.Linear(d20[0] + 4 * cd20 - 6, 8))\n",
    "fcls_accuracy_F1F8(nnModel(model, batch_size=1000), sq20, fh20, 128, 8)\n",
    "\n",
    "model = nn.Sequential(nnCat(nnConvModule(1), nnConvModule(2), nnConvModule(3), nnConvModule(4), bypass=True), nn.Linear(d20[0] + 4 * cd20 - 6, 8))\n",
    "fcls_accuracy_F1F8(nnModel(model, batch_size=2000), sq20, fh20, 128, 8)\n",
    "\n",
    "model = nn.Sequential(nnCat(nnConvModule(1), nnConvModule(2), nnConvModule(3), nnConvModule(4), bypass=True), nn.Linear(d20[0] + 4 * cd20 - 6, 8))\n",
    "fcls_accuracy_F1F8(nnModel(model, batch_size=3000), sq20, fh20, 128, 8)\n",
    "\n",
    "model = nn.Sequential(nnCat(nnConvModule(1), nnConvModule(2), nnConvModule(3), nnConvModule(4), bypass=True), nn.Linear(d20[0] + 4 * cd20 - 6, 8))\n",
    "fcls_accuracy_F1F8(nnModel(model, batch_size=4000), sq20, fh20, 128, 8)\n",
    "\n",
    "model = nn.Sequential(nnCat(nnConvModule(1), nnConvModule(2), nnConvModule(3), nnConvModule(4), bypass=True), nn.Linear(d20[0] + 4 * cd20 - 6, 8))\n",
    "fcls_accuracy_F1F8(nnModel(model, batch_size=5000), sq20, fh20, 128, 8)\n",
    "\n",
    "model = nn.Sequential(nnCat(nnConvModule(1), nnConvModule(2), nnConvModule(3), nnConvModule(4), bypass=True), nn.Linear(d20[0] + 4 * cd20 - 6, 8))\n",
    "fcls_accuracy_F1F8(nnModel(model, batch_size=6000), sq20, fh20, 128, 8)\n",
    "\n",
    "model = nn.Sequential(nnCat(nnConvModule(1), nnConvModule(2), nnConvModule(3), nnConvModule(4), bypass=True), nn.Linear(d20[0] + 4 * cd20 - 6, 8))\n",
    "fcls_accuracy_F1F8(nnModel(model, batch_size=7000), sq20, fh20, 128, 8)\n",
    "\n",
    "model = nn.Sequential(nnCat(nnConvModule(1), nnConvModule(2), nnConvModule(3), nnConvModule(4), bypass=True), nn.Linear(d20[0] + 4 * cd20 - 6, 8))\n",
    "fcls_accuracy_F1F8(nnModel(model, batch_size=8000), sq20, fh20, 128, 8)\n",
    "\n",
    "model = nn.Sequential(nnCat(nnConvModule(1), nnConvModule(2), nnConvModule(3), nnConvModule(4), bypass=True), nn.Linear(d20[0] + 4 * cd20 - 6, 8))\n",
    "fcls_accuracy_F1F8(nnModel(model, batch_size=100000), sq20, fh20, 128, 8)"
   ]
  },
  {
   "cell_type": "code",
   "execution_count": 48,
   "metadata": {
    "collapsed": false
   },
   "outputs": [
    {
     "name": "stdout",
     "output_type": "stream",
     "text": [
      "bootstrap: 32          rk 0/920                     \n",
      "cls ['F1', 'F2', 'F3', 'F4', 'F5', 'F6', 'F7', 'F8'] sizes: [ 154 1033 1497 1401 1827 2170 1939 1671], chosen 154\n",
      "accuracy (mean, median, min, max): 0.253 0.253 0.220 0.292\n",
      "\n",
      "bootstrap: 32          rk 5120/6338                     \n",
      "cls ['F1', 'F2', 'F3', 'F4', 'F5', 'F6', 'F7', 'F8'] sizes: [ 154 1033 1497 1401 1827 2170 1939 1671], chosen 1033\n",
      "accuracy (mean, median, min, max): 0.268 0.274 0.221 0.293\n",
      "\n"
     ]
    }
   ],
   "source": [
    "cd20 = d20[0] // 4\n",
    "model = nn.Sequential(nnCat(nnConvModule(1), nnConvModule(2), nnConvModule(3), nnConvModule(4), nnConvModule(5),\\\n",
    "                            bypass=True), nn.Linear(d20[0] + 5 * cd20 - 10, 8))\n",
    "fcls_accuracy_F1F8(nnModel(model), sq20, fh20, 32)\n",
    "\n",
    "model = nn.Sequential(nnCat(nnConvModule(1), nnConvModule(2), nnConvModule(3), nnConvModule(4), nnConvModule(5),\\\n",
    "                            bypass=True), nn.Linear(d20[0] + 5 * cd20 - 10, 8))\n",
    "fcls_accuracy_F1F8(nnModel(model), sq20, fh20, 32, 8)"
   ]
  },
  {
   "cell_type": "code",
   "execution_count": 186,
   "metadata": {
    "collapsed": false
   },
   "outputs": [
    {
     "name": "stdout",
     "output_type": "stream",
     "text": [
      "bootstrap: 128          k 0/6338                     \n",
      "cls ['F1', 'F2', 'F3', 'F4', 'F5', 'F6', 'F7', 'F8'] sizes: [ 154 1033 1497 1401 1827 2170 1939 1671], chosen 1033\n",
      "accuracy (mean, median, min, max): 0.306 0.306 0.291 0.326\n",
      "\n"
     ]
    }
   ],
   "source": [
    "model = nn.Sequential(nnCat(nnConvModule(1), nnConvModule(2), nnConvModule(3), nnConvModule(4), nnConvModule(5),\\\n",
    "                            bypass=True), nn.Linear(d20[0] + 5 * cd20 - 10, 8))\n",
    "fcls_accuracy_F1F8(nnModel(model, batch_size=100000), sq20, fh20, 128, 8)"
   ]
  },
  {
   "cell_type": "code",
   "execution_count": 187,
   "metadata": {
    "collapsed": false
   },
   "outputs": [
    {
     "name": "stdout",
     "output_type": "stream",
     "text": [
      "bootstrap: 128          rk 0/6338                    \n",
      "cls ['F1', 'F2', 'F3', 'F4', 'F5', 'F6', 'F7', 'F8'] sizes: [ 154 1033 1497 1401 1827 2170 1939 1671], chosen 1033\n",
      "accuracy (mean, median, min, max): 0.307 0.307 0.291 0.326\n",
      "\n",
      "bootstrap: 128          k 0/6338                     \n",
      "cls ['F1', 'F2', 'F3', 'F4', 'F5', 'F6', 'F7', 'F8'] sizes: [ 154 1033 1497 1401 1827 2170 1939 1671], chosen 1033\n",
      "accuracy (mean, median, min, max): 0.307 0.308 0.289 0.326\n",
      "\n"
     ]
    }
   ],
   "source": [
    "model = nn.Sequential(nnCat(nnConvModule(1), nnConvModule(2), nnConvModule(3), nnConvModule(4), nnConvModule(5),\\\n",
    "                            nn.Embeddingbypass=True), nn.Linear(d20[0] + 5 * cd20 - 10, 8))\n",
    "fcls_accuracy_F1F8(nnModel(model, batch_size=1000), sq20, fh20, 128, 8)\n",
    "\n",
    "model = nn.Sequential(nnCat(nnConvModule(1), nnConvModule(2), nnConvModule(3), nnConvModule(4), nnConvModule(5),\\\n",
    "                            bypass=True), nn.Linear(d20[0] + 5 * cd20 - 10, 8))\n",
    "fcls_accuracy_F1F8(nnModel(model, batch_size=2000), sq20, fh20, 128, 8)"
   ]
  },
  {
   "cell_type": "code",
   "execution_count": 188,
   "metadata": {
    "collapsed": false
   },
   "outputs": [
    {
     "name": "stdout",
     "output_type": "stream",
     "text": [
      "bootstrap: 1          work 0/6338                    \n",
      "cls ['F1', 'F2', 'F3', 'F4', 'F5', 'F6', 'F7', 'F8'] sizes: [ 154 1033 1497 1401 1827 2170 1939 1671], chosen 1033\n",
      "accuracy (mean, median, min, max): 0.296 0.296 0.296 0.296\n",
      "\n",
      "bootstrap: 1          work 0/6338                    \n",
      "cls ['F1', 'F2', 'F3', 'F4', 'F5', 'F6', 'F7', 'F8'] sizes: [ 154 1033 1497 1401 1827 2170 1939 1671], chosen 1033\n",
      "accuracy (mean, median, min, max): 0.300 0.300 0.300 0.300\n",
      "\n"
     ]
    }
   ],
   "source": [
    "model = nn.Sequential(nnCat(nnConvModule(1), nnConvModule(2), nnConvModule(3), nnConvModule(4), nnConvModule(5),\\\n",
    "                            bypass=True), nn.Linear(d20[0] + 5 * cd20 - 10, 8))\n",
    "fcls_accuracy_F1F8(nnModel(model, batch_size=1000), sq20, fh20, 128, 8)\n",
    "model = nn.Sequential(nnCat(nnConvModule(1), nnConvModule(2), nnConvModule(3), nnConvModule(4), nnConvModule(5),\\\n",
    "                            bypass=True), nn.Linear(d20[0] + 5 * cd20 - 10, 8))\n",
    "fcls_accuracy_F1F8(nnModel(model, batch_size=1000), sq20, fh20, 128, 8)"
   ]
  },
  {
   "cell_type": "code",
   "execution_count": 193,
   "metadata": {
    "collapsed": false,
    "deletable": true,
    "editable": true
   },
   "outputs": [],
   "source": [
    "class nnToConvs(nn.Module):\n",
    "    def __init__(self):\n",
    "        super(nnToConvs, self).__init__()\n",
    "\n",
    "    def forward(self, x):\n",
    "        return x.view(x.size(0), 1, x.size(1))\n",
    "    \n",
    "class nnFromConvs(nn.Module):\n",
    "    def __init__(self):\n",
    "        super(nnFromConvs, self).__init__()\n",
    "\n",
    "    def forward(self, x):\n",
    "        return x.view(x.size(0), x.size(1) * x.size(2))\n",
    "        \n",
    "class DeepCNN1(object):\n",
    "    def __init__(self, conv_layers, final_layer, fitlr=False, bypass=False, loss_fn=None, batch_size=1000):\n",
    "        self.loss_fn = loss_fn if loss_fn is not None else nn.CrossEntropyLoss()\n",
    "        cat = nnCat(nn.Sequential(*conv_layers), fitlr=fitlr, bypass=bypass)\n",
    "        self.inst = nn.Sequential(cat, final_layer)\n",
    "        self.lr = cat.lr if fitlr else None\n",
    "        self.batch_size=batch_size\n",
    "    \n",
    "    def fit(self, X_train, y_train, X_test, y_test):\n",
    "        if self.lr is not None:\n",
    "            self.lr.fit(X_train, y_train)\n",
    "        network, errors, best_epoch = nnoptimize(self.inst, X_train, y_train, X_test, y_test,\\\n",
    "                                                 loss_fn=self.loss_fn, plot=False, batch_size=self.batch_size)\n",
    "        return self\n",
    "    \n",
    "    def predict(self, X):\n",
    "        X = torch.from_numpy(X)\n",
    "        y = self.inst(Variable(X.type(torch.FloatTensor), requires_grad=False))\n",
    "        y = y.data.numpy()\n",
    "        return y.argmax(axis=1)\n",
    "        "
   ]
  },
  {
   "cell_type": "code",
   "execution_count": 159,
   "metadata": {
    "collapsed": false
   },
   "outputs": [
    {
     "name": "stdout",
     "output_type": "stream",
     "text": [
      "bootstrap: 32          rk 5120/6338                     \n",
      "cls ['F1', 'F2', 'F3', 'F4', 'F5', 'F6', 'F7', 'F8'] sizes: [ 154 1033 1497 1401 1827 2170 1939 1671], chosen 1033\n",
      "accuracy (mean, median, min, max): 0.268 0.274 0.235 0.292\n",
      "\n"
     ]
    }
   ],
   "source": [
    "c1 = 1\n",
    "model = DeepCNN1((nnCat(nn.Sequential(nnToConvs(), nn.Conv1d(1, 1, 4, 4), nnFromConvs()),\n",
    "                        nn.Sequential(nnToConvs(), nn.Conv1d(1, 1, 4 * 2, 4), nnFromConvs()),\n",
    "                        nn.Sequential(nnToConvs(), nn.Conv1d(1, 1, 4 * 3, 4), nnFromConvs()),\n",
    "                        nn.Sequential(nnToConvs(), nn.Conv1d(1, 1, 4 * 5, 4), nnFromConvs())),),\n",
    "                        nn.Linear(93, 8), fitlr=True)\n",
    "fcls_accuracy_F1F8(model, sq20, fh20, 32, 8)"
   ]
  },
  {
   "cell_type": "code",
   "execution_count": 195,
   "metadata": {
    "collapsed": false
   },
   "outputs": [
    {
     "name": "stdout",
     "output_type": "stream",
     "text": [
      "bootstrap: 32          rk 0/6338                     \n",
      "cls ['F1', 'F2', 'F3', 'F4', 'F5', 'F6', 'F7', 'F8'] sizes: [ 154 1033 1497 1401 1827 2170 1939 1671], chosen 1033\n",
      "accuracy (mean, median, min, max): 0.147 0.147 0.147 0.147\n",
      "\n"
     ]
    }
   ],
   "source": [
    "model = DeepCNN1((nnCat(\n",
    "    nn.Sequential(nnToConvs(), nn.Conv1d(1, 2, 4, 4), nn.Tanh(), nn.Conv1d(2, 1, 2), nnFromConvs()),\n",
    "    nn.Sequential(nnToConvs(), nn.Conv1d(1, 2, 4 * 2, 4), nn.Tanh(), nn.Conv1d(2, 1, 2), nnFromConvs()),\n",
    "    nn.Sequential(nnToConvs(), nn.Conv1d(1, 2, 4 * 3, 4), nn.Tanh(), nn.Conv1d(2, 1, 2), nnFromConvs()),\n",
    "    nn.Sequential(nnToConvs(), nn.Conv1d(1, 2, 4 * 5, 4), nn.Tanh(), nn.Conv1d(2, 1, 2), nnFromConvs())),),\n",
    "nn.Linear(81, 8), batch_size=10000)\n",
    "\n",
    "fcls_accuracy_F1F8(model, sq20, fh20, 32, 8)"
   ]
  },
  {
   "cell_type": "code",
   "execution_count": null,
   "metadata": {
    "collapsed": true
   },
   "outputs": [],
   "source": [
    "model = DeepCNN1((nnCat(\n",
    "    nn.Sequential(nnToConvs(), nn.Conv1d(1, 2, 4, 4), nn.Tanh(), nn.Conv1d(2, 1, 2), nnFromConvs()),\n",
    "    nn.Sequential(nnToConvs(), nn.Conv1d(1, 2, 4 * 2, 4), nn.Tanh(), nn.Conv1d(2, 1, 2), nnFromConvs()),\n",
    "    nn.Sequential(nnToConvs(), nn.Conv1d(1, 2, 4 * 3, 4), nn.Tanh(), nn.Conv1d(2, 1, 2), nnFromConvs()),\n",
    "    nn.Sequential(nnToConvs(), nn.Conv1d(1, 2, 4 * 5, 4), nn.Tanh(), nn.Conv1d(2, 1, 2), nnFromConvs())),),\n",
    "nn.Linear(81, 8), batch_size=10000)\n"
   ]
  },
  {
   "cell_type": "code",
   "execution_count": null,
   "metadata": {
    "collapsed": true
   },
   "outputs": [],
   "source": [
    "model = DeepCNN1((nnCat(nn.Sequential(nnToConvs(), nn.Conv1d(1, 1, 4, 4), nnFromConvs()),\n",
    "                        nn.Sequential(nnToConvs(), nn.Conv1d(1, 1, 4 * 2, 4), nnFromConvs()),\n",
    "                        nn.Sequential(nnToConvs(), nn.Conv1d(1, 1, 4 * 3, 4), nnFromConvs()),\n",
    "                        nn.Sequential(nnToConvs(), nn.Conv1d(1, 1, 4 * 5, 4), nnFromConvs())),),"
   ]
  }
 ],
 "metadata": {
  "kernelspec": {
   "display_name": "Python 3",
   "language": "python",
   "name": "python3"
  },
  "language_info": {
   "codemirror_mode": {
    "name": "ipython",
    "version": 3
   },
   "file_extension": ".py",
   "mimetype": "text/x-python",
   "name": "python",
   "nbconvert_exporter": "python",
   "pygments_lexer": "ipython3",
   "version": "3.6.0"
  }
 },
 "nbformat": 4,
 "nbformat_minor": 2
}
